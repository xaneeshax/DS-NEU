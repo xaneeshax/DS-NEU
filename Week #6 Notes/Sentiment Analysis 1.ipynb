{
 "cells": [
  {
   "cell_type": "markdown",
   "metadata": {
    "slideshow": {
     "slide_type": "slide"
    }
   },
   "source": [
    "<center> <img src=\"res/ds3000.png\"> </center>"
   ]
  },
  {
   "cell_type": "markdown",
   "metadata": {},
   "source": [
    "<center> <h2>Sentiment Analysis</h2></center>"
   ]
  },
  {
   "cell_type": "markdown",
   "metadata": {
    "slideshow": {
     "slide_type": "skip"
    }
   },
   "source": [
    "## Outline\n",
    "1. <a href='#1'>Sentiment Analysis</a>\n",
    "2. <a href='#2'>Data Preparation</a>\n",
    "3. <a href='#3'>Model Training</a>\n",
    "4. <a href='#4'>Making Predictions</a>\n",
    "\n"
   ]
  },
  {
   "cell_type": "raw",
   "metadata": {},
   "source": [
    "Sentiment Analysis is the use of Natural Language Processing, text analysis, and computational linguistics to systematically identify and quantify affective states expressed in a piece of text\n",
    "\n",
    "A common application of classification algorithms is the emotions conveyed in the text"
   ]
  },
  {
   "cell_type": "markdown",
   "metadata": {
    "slideshow": {
     "slide_type": "subslide"
    }
   },
   "source": [
    "## 1. Sentiment Analysis\n",
    "* Need to represent data numerically \n",
    "* Need a target variable storing sentiment class (positive or negative)"
   ]
  },
  {
   "cell_type": "markdown",
   "metadata": {},
   "source": [
    "### 1.1. Case Study: Predicting  Video Game Recommendations from Steam Reviews\n",
    "* Original dataset:\n",
    "* https://zenodo.org/record/1000885#.XdXaH1dKhPY"
   ]
  },
  {
   "cell_type": "code",
   "execution_count": 2,
   "metadata": {},
   "outputs": [],
   "source": [
    "import pandas as pd\n",
    "data = pd.read_csv(\"game_review.csv\")"
   ]
  },
  {
   "cell_type": "code",
   "execution_count": 3,
   "metadata": {},
   "outputs": [
    {
     "data": {
      "text/html": [
       "<div>\n",
       "<style scoped>\n",
       "    .dataframe tbody tr th:only-of-type {\n",
       "        vertical-align: middle;\n",
       "    }\n",
       "\n",
       "    .dataframe tbody tr th {\n",
       "        vertical-align: top;\n",
       "    }\n",
       "\n",
       "    .dataframe thead th {\n",
       "        text-align: right;\n",
       "    }\n",
       "</style>\n",
       "<table border=\"1\" class=\"dataframe\">\n",
       "  <thead>\n",
       "    <tr style=\"text-align: right;\">\n",
       "      <th></th>\n",
       "      <th>gameID</th>\n",
       "      <th>comment</th>\n",
       "      <th>sentiment</th>\n",
       "    </tr>\n",
       "  </thead>\n",
       "  <tbody>\n",
       "    <tr>\n",
       "      <th>0</th>\n",
       "      <td>345650</td>\n",
       "      <td>Is Without Withinnbspworth your time  Nonbs...</td>\n",
       "      <td>0</td>\n",
       "    </tr>\n",
       "    <tr>\n",
       "      <th>1</th>\n",
       "      <td>289090</td>\n",
       "      <td>My playtime h based on steam Grindy Achieve...</td>\n",
       "      <td>0</td>\n",
       "    </tr>\n",
       "    <tr>\n",
       "      <th>2</th>\n",
       "      <td>350090</td>\n",
       "      <td>No Pineapple Left Behind</td>\n",
       "      <td>0</td>\n",
       "    </tr>\n",
       "    <tr>\n",
       "      <th>3</th>\n",
       "      <td>409720</td>\n",
       "      <td>PRESS SPACE TO CRASH</td>\n",
       "      <td>0</td>\n",
       "    </tr>\n",
       "    <tr>\n",
       "      <th>4</th>\n",
       "      <td>364360</td>\n",
       "      <td>Reason Why Chinese Gamer Give the ShXt to W...</td>\n",
       "      <td>0</td>\n",
       "    </tr>\n",
       "  </tbody>\n",
       "</table>\n",
       "</div>"
      ],
      "text/plain": [
       "   gameID                                            comment  sentiment\n",
       "0  345650     Is Without Withinnbspworth your time  Nonbs...          0\n",
       "1  289090     My playtime h based on steam Grindy Achieve...          0\n",
       "2  350090                           No Pineapple Left Behind          0\n",
       "3  409720                               PRESS SPACE TO CRASH          0\n",
       "4  364360     Reason Why Chinese Gamer Give the ShXt to W...          0"
      ]
     },
     "execution_count": 3,
     "metadata": {},
     "output_type": "execute_result"
    }
   ],
   "source": [
    "data.head()"
   ]
  },
  {
   "cell_type": "markdown",
   "metadata": {},
   "source": [
    "## 2. Data Preparation"
   ]
  },
  {
   "cell_type": "code",
   "execution_count": 4,
   "metadata": {},
   "outputs": [],
   "source": [
    "features = data[\"comment\"]\n",
    "target = data[\"sentiment\"]"
   ]
  },
  {
   "cell_type": "code",
   "execution_count": 5,
   "metadata": {},
   "outputs": [],
   "source": [
    "from sklearn.naive_bayes import MultinomialNB\n",
    "from sklearn.model_selection import train_test_split\n",
    "from sklearn.feature_extraction.text import CountVectorizer\n",
    "\n",
    "X_train, X_test, y_train, y_test = train_test_split(features, target, random_state = 3000)\n",
    "\n",
    "\n",
    "#create the vocabulary based on the training data\n",
    "vect = CountVectorizer().fit(X_train)\n",
    "\n",
    "#encode the words in X_train and X_test based on the vocabulary\n",
    "X_train_vectorized = vect.transform(X_train)\n",
    "X_test_vectorized = vect.transform(X_test)"
   ]
  },
  {
   "cell_type": "code",
   "execution_count": 6,
   "metadata": {},
   "outputs": [
    {
     "data": {
      "text/plain": [
       "87785"
      ]
     },
     "execution_count": 6,
     "metadata": {},
     "output_type": "execute_result"
    }
   ],
   "source": [
    "len(vect.get_feature_names())"
   ]
  },
  {
   "cell_type": "code",
   "execution_count": 7,
   "metadata": {},
   "outputs": [
    {
     "data": {
      "text/plain": [
       "['aa',\n",
       " 'alivethe',\n",
       " 'aquiredhas',\n",
       " 'badavgnwhat',\n",
       " 'blankbut',\n",
       " 'bullsht',\n",
       " 'charactersthis',\n",
       " 'commenting',\n",
       " 'cosistently',\n",
       " 'dealim',\n",
       " 'directable',\n",
       " 'duckthen',\n",
       " 'ennemies',\n",
       " 'extentbut',\n",
       " 'fiver',\n",
       " 'fulfill',\n",
       " 'gametheres',\n",
       " 'grates',\n",
       " 'headtohead',\n",
       " 'httpwwwgamesindustrybizarticlesjagexswildchild',\n",
       " 'insteadtheres',\n",
       " 'jerkyunpredictable',\n",
       " 'legionto',\n",
       " 'machanicfps',\n",
       " 'messagesnorufusthe',\n",
       " 'morein',\n",
       " 'nomoreprogress',\n",
       " 'onle',\n",
       " 'partsyou',\n",
       " 'playerbought',\n",
       " 'priceone',\n",
       " 'rami',\n",
       " 'replayvaluethe',\n",
       " 'russiandota',\n",
       " 'seriesone',\n",
       " 'skins',\n",
       " 'splitscreen',\n",
       " 'stuffwell',\n",
       " 'tediousadditionallythe',\n",
       " 'throttleor',\n",
       " 'trilogyit',\n",
       " 'updateanother',\n",
       " 'warperhapsit',\n",
       " 'workbuy']"
      ]
     },
     "execution_count": 7,
     "metadata": {},
     "output_type": "execute_result"
    }
   ],
   "source": [
    "vect.get_feature_names()[::2000]"
   ]
  },
  {
   "cell_type": "markdown",
   "metadata": {},
   "source": [
    "## 3. Model Training\n",
    "* Multinomial Naive Bayes is a commonly used popular algorithm for text classification, including sentiment analysis\n",
    "* https://scikit-learn.org/stable/modules/generated/sklearn.naive_bayes.MultinomialNB.html"
   ]
  },
  {
   "cell_type": "code",
   "execution_count": 8,
   "metadata": {},
   "outputs": [
    {
     "name": "stdout",
     "output_type": "stream",
     "text": [
      "Classification accuracy on training set:  0.945468509984639\n",
      "Classification accuracy on testing set:  0.7878534031413612\n"
     ]
    }
   ],
   "source": [
    "# train the classifier\n",
    "model = MultinomialNB(alpha = 0.5).fit(X=X_train_vectorized, y=y_train)\n",
    "\n",
    "\n",
    "print(\"Classification accuracy on training set: \", model.score(X_train_vectorized, y_train))\n",
    "print(\"Classification accuracy on testing set: \", model.score(X_test_vectorized, y_test))"
   ]
  },
  {
   "cell_type": "markdown",
   "metadata": {},
   "source": [
    "## 4. Making Predictions"
   ]
  },
  {
   "cell_type": "code",
   "execution_count": 9,
   "metadata": {},
   "outputs": [],
   "source": [
    "def predict_sentiment(comment):\n",
    "    comment_features = vect.transform(comment)\n",
    "    sentiment = model.predict(comment_features)\n",
    "    \n",
    "    if sentiment == 1:\n",
    "        return 'Positive'\n",
    "    else:\n",
    "        return 'Negative'"
   ]
  },
  {
   "cell_type": "code",
   "execution_count": 10,
   "metadata": {},
   "outputs": [
    {
     "data": {
      "text/plain": [
       "'Positive'"
      ]
     },
     "execution_count": 10,
     "metadata": {},
     "output_type": "execute_result"
    }
   ],
   "source": [
    "predict_sentiment([\"What a great game!\"])"
   ]
  },
  {
   "cell_type": "code",
   "execution_count": null,
   "metadata": {},
   "outputs": [],
   "source": []
  }
 ],
 "metadata": {
  "celltoolbar": "Slideshow",
  "kernelspec": {
   "display_name": "Python 3",
   "language": "python",
   "name": "python3"
  },
  "language_info": {
   "codemirror_mode": {
    "name": "ipython",
    "version": 3
   },
   "file_extension": ".py",
   "mimetype": "text/x-python",
   "name": "python",
   "nbconvert_exporter": "python",
   "pygments_lexer": "ipython3",
   "version": "3.7.6"
  }
 },
 "nbformat": 4,
 "nbformat_minor": 2
}

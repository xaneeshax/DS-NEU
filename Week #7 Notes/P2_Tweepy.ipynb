{
 "cells": [
  {
   "cell_type": "markdown",
   "metadata": {},
   "source": [
    "<center> <h2> Scraping Tweets using Tweepy </h2></center>"
   ]
  },
  {
   "cell_type": "markdown",
   "metadata": {
    "slideshow": {
     "slide_type": "skip"
    }
   },
   "source": [
    "## Outline\n",
    "1. <a href='#1'>Tweepy</a>\n",
    "2. <a href='#2'>Authenticating with Twitter Via Tweepy</a>\n",
    "3. <a href='#3'>Getting Information About a Twitter Account</a>\n",
    "4. <a href='#4'>Getting Your Own Account’s Information</a>\n"
   ]
  },
  {
   "cell_type": "markdown",
   "metadata": {
    "slideshow": {
     "slide_type": "slide"
    }
   },
   "source": [
    "## 1. Tweepy\n",
    "* [**Tweepy library**](http://www.tweepy.org/)—**one of the most popular Python Twitter clients**\n",
    "* Easy access to Twitter’s capabilities\n",
    "* [Tweepy’s documentation](http://docs.tweepy.org/en/latest/)\n",
    "* [Additional information and the Tweepy source code](https://github.com/tweepy/tweep)"
   ]
  },
  {
   "cell_type": "markdown",
   "metadata": {},
   "source": [
    "### 1.1. Installing Tweepy \n",
    "* Use the Anaconda Prompt line to execute the following:\n",
    "> `pip install tweepy`\n",
    "* Windows users **should run the Anaconda Prompt as an Administrator**"
   ]
  },
  {
   "cell_type": "markdown",
   "metadata": {
    "slideshow": {
     "slide_type": "subslide"
    }
   },
   "source": [
    "## 1.2. Importing Tweepy\n",
    "* Once installed, you can import tweepy and start using it!"
   ]
  },
  {
   "cell_type": "code",
   "execution_count": 1,
   "metadata": {},
   "outputs": [],
   "source": [
    "import tweepy"
   ]
  },
  {
   "cell_type": "code",
   "execution_count": 3,
   "metadata": {},
   "outputs": [],
   "source": [
    "import TwitterCredentials as keys"
   ]
  },
  {
   "cell_type": "code",
   "execution_count": 4,
   "metadata": {},
   "outputs": [
    {
     "data": {
      "text/plain": [
       "'R3zpLRyNMTniP3I6RJYIh7bEF'"
      ]
     },
     "execution_count": 4,
     "metadata": {},
     "output_type": "execute_result"
    }
   ],
   "source": [
    "keys.consumer_API_key"
   ]
  },
  {
   "cell_type": "code",
   "execution_count": 5,
   "metadata": {},
   "outputs": [
    {
     "name": "stdout",
     "output_type": "stream",
     "text": [
      "consumer_API_key = \"R3zpLRyNMTniP3I6RJYIh7bEF\"\n",
      "consumer_API_secret_key = \"kniWSpJH18645bPHl3O0SHhMqO1zSDlmDeOFOgSFJ4tyCbYzm6\"\n",
      "access_token = \"1244015025267675141-eStB8yY6Ce1XTxt7vucYlWZbPDjg8j\"\n",
      "access_token_secret = \"7etDbFPgHYTUTI1ZQdq5XZmhd42Gx8BZxnJ0SmJPDaHwf\"\n"
     ]
    }
   ],
   "source": [
    "!more TwitterCredentials.py"
   ]
  },
  {
   "cell_type": "markdown",
   "metadata": {
    "slideshow": {
     "slide_type": "slide"
    }
   },
   "source": [
    "## 2. Authenticating with Twitter Via Tweepy \n",
    "* A **Tweepy `API` object** is your gateway to using the Twitter APIs\n",
    "* Must first **authenticate with Twitter** before scraping tweets"
   ]
  },
  {
   "cell_type": "markdown",
   "metadata": {
    "slideshow": {
     "slide_type": "fragment"
    }
   },
   "source": [
    "### 2.1. Creating and Configuring an `OAuthHandler`\n",
    "* We need an authentican handler that will handle the authentication with Twitter\n",
    "* Tweepy has a dedicated object for this purpose: \"OAuthHandler\"\n",
    "* OAuthHandler needs two arguments: consumer key and secret key for our Twitter App:"
   ]
  },
  {
   "cell_type": "code",
   "execution_count": 6,
   "metadata": {
    "slideshow": {
     "slide_type": "fragment"
    }
   },
   "outputs": [],
   "source": [
    "#Step 1\n",
    "auth = tweepy.OAuthHandler(keys.consumer_API_key, keys.consumer_API_secret_key)"
   ]
  },
  {
   "cell_type": "markdown",
   "metadata": {},
   "source": [
    "* We also need to define an access token\n",
    "* The access token is the “key” for opening the Twitter API treasure box"
   ]
  },
  {
   "cell_type": "code",
   "execution_count": 7,
   "metadata": {},
   "outputs": [],
   "source": [
    "#Step 2\n",
    "auth.set_access_token(keys.access_token, keys.access_token_secret)"
   ]
  },
  {
   "cell_type": "markdown",
   "metadata": {},
   "source": [
    "### 2.2. Creating the Tweepy API Object \n",
    "* The last step is to define a Tweepy API Object with which we can interact:"
   ]
  },
  {
   "cell_type": "code",
   "execution_count": 8,
   "metadata": {},
   "outputs": [],
   "source": [
    "#Step 3\n",
    "api = tweepy.API(auth, wait_on_rate_limit=True, wait_on_rate_limit_notify=True)"
   ]
  },
  {
   "cell_type": "markdown",
   "metadata": {},
   "source": [
    "* **`auth`** is the **`OAuthHandler`**\n",
    "* **`wait_on_rate_limit=True`** tells Tweepy to **wait 15 minutes** each time it reaches a given API method’s rate limit&mdash;**prevents violations**\n",
    "* **`wait_on_rate_limit_notify=True`** tells Tweepy to display a command-line message if you hit a rate limit"
   ]
  },
  {
   "cell_type": "markdown",
   "metadata": {
    "slideshow": {
     "slide_type": "subslide"
    }
   },
   "source": [
    "### Authentication Steps: Summary"
   ]
  },
  {
   "cell_type": "code",
   "execution_count": 9,
   "metadata": {},
   "outputs": [],
   "source": [
    "import tweepy\n",
    "import TwitterCredentials as keys\n",
    "\n",
    "auth = tweepy.OAuthHandler(keys.consumer_API_key, keys.consumer_API_secret_key)\n",
    "auth.set_access_token(keys.access_token, keys.access_token_secret)\n",
    "api = tweepy.API(auth, wait_on_rate_limit=True, wait_on_rate_limit_notify=True)"
   ]
  },
  {
   "cell_type": "markdown",
   "metadata": {
    "slideshow": {
     "slide_type": "slide"
    }
   },
   "source": [
    "## 3. Getting Information About a Twitter Account\n",
    "* **`API`** object’s **`get_user` method** returns a **`tweepy.models.User` object** containing information about a specific user’s Twitter account "
   ]
  },
  {
   "cell_type": "code",
   "execution_count": 10,
   "metadata": {},
   "outputs": [],
   "source": [
    "neu = api.get_user('Northeastern', tweet_mode=\"extended\")"
   ]
  },
  {
   "cell_type": "code",
   "execution_count": 11,
   "metadata": {
    "scrolled": true
   },
   "outputs": [
    {
     "data": {
      "text/plain": [
       "User(_api=<tweepy.api.API object at 0x000002C6A8C75FC8>, _json={'id': 46477409, 'id_str': '46477409', 'name': 'Northeastern U.', 'screen_name': 'Northeastern', 'location': 'Boston, MA', 'profile_location': None, 'description': 'Northeastern is a global, experiential, research university built on a tradition of engagement with the world. #NUexperience', 'url': 'https://t.co/tUhI2oiKQI', 'entities': {'url': {'urls': [{'url': 'https://t.co/tUhI2oiKQI', 'expanded_url': 'http://northeastern.edu', 'display_url': 'northeastern.edu', 'indices': [0, 23]}]}, 'description': {'urls': []}}, 'protected': False, 'followers_count': 44014, 'friends_count': 881, 'listed_count': 694, 'created_at': 'Thu Jun 11 20:08:56 +0000 2009', 'favourites_count': 9865, 'utc_offset': None, 'time_zone': None, 'geo_enabled': True, 'verified': True, 'statuses_count': 26011, 'lang': None, 'status': {'created_at': 'Thu Jun 18 00:11:36 +0000 2020', 'id': 1273407982664134656, 'id_str': '1273407982664134656', 'full_text': 'As an innovator in global banking with extensive experience working in emerging markets, Bill Winters is the Chief Executive of @StanChart. He joins @PresidentAoun for a discussion about business in the age of global change Thursday at 11:30. Watch: https://t.co/OZ0su3lfHs https://t.co/ZyPnXw0ZwW', 'truncated': False, 'display_text_range': [0, 273], 'entities': {'hashtags': [], 'symbols': [], 'user_mentions': [{'screen_name': 'StanChart', 'name': 'Standard Chartered', 'id': 58354465, 'id_str': '58354465', 'indices': [128, 138]}, {'screen_name': 'PresidentAoun', 'name': 'President Aoun', 'id': 393395654, 'id_str': '393395654', 'indices': [149, 163]}], 'urls': [{'url': 'https://t.co/OZ0su3lfHs', 'expanded_url': 'http://facebook.com/northeastern', 'display_url': 'facebook.com/northeastern', 'indices': [250, 273]}], 'media': [{'id': 1273407981212913667, 'id_str': '1273407981212913667', 'indices': [274, 297], 'media_url': 'http://pbs.twimg.com/media/EawNz-ZX0AMpYB8.jpg', 'media_url_https': 'https://pbs.twimg.com/media/EawNz-ZX0AMpYB8.jpg', 'url': 'https://t.co/ZyPnXw0ZwW', 'display_url': 'pic.twitter.com/ZyPnXw0ZwW', 'expanded_url': 'https://twitter.com/Northeastern/status/1273407982664134656/photo/1', 'type': 'photo', 'sizes': {'thumb': {'w': 150, 'h': 150, 'resize': 'crop'}, 'small': {'w': 680, 'h': 356, 'resize': 'fit'}, 'large': {'w': 1024, 'h': 536, 'resize': 'fit'}, 'medium': {'w': 1024, 'h': 536, 'resize': 'fit'}}}]}, 'extended_entities': {'media': [{'id': 1273407981212913667, 'id_str': '1273407981212913667', 'indices': [274, 297], 'media_url': 'http://pbs.twimg.com/media/EawNz-ZX0AMpYB8.jpg', 'media_url_https': 'https://pbs.twimg.com/media/EawNz-ZX0AMpYB8.jpg', 'url': 'https://t.co/ZyPnXw0ZwW', 'display_url': 'pic.twitter.com/ZyPnXw0ZwW', 'expanded_url': 'https://twitter.com/Northeastern/status/1273407982664134656/photo/1', 'type': 'photo', 'sizes': {'thumb': {'w': 150, 'h': 150, 'resize': 'crop'}, 'small': {'w': 680, 'h': 356, 'resize': 'fit'}, 'large': {'w': 1024, 'h': 536, 'resize': 'fit'}, 'medium': {'w': 1024, 'h': 536, 'resize': 'fit'}}}]}, 'source': '<a href=\"https://prod1.sprinklr.com\" rel=\"nofollow\">Sprinklr Publishing</a>', 'in_reply_to_status_id': None, 'in_reply_to_status_id_str': None, 'in_reply_to_user_id': None, 'in_reply_to_user_id_str': None, 'in_reply_to_screen_name': None, 'geo': None, 'coordinates': None, 'place': None, 'contributors': None, 'is_quote_status': False, 'retweet_count': 0, 'favorite_count': 1, 'favorited': False, 'retweeted': False, 'possibly_sensitive': False, 'lang': 'en'}, 'contributors_enabled': False, 'is_translator': False, 'is_translation_enabled': True, 'profile_background_color': 'CCCCCC', 'profile_background_image_url': 'http://abs.twimg.com/images/themes/theme1/bg.png', 'profile_background_image_url_https': 'https://abs.twimg.com/images/themes/theme1/bg.png', 'profile_background_tile': False, 'profile_image_url': 'http://pbs.twimg.com/profile_images/1059904024558911488/BMBQGbjZ_normal.jpg', 'profile_image_url_https': 'https://pbs.twimg.com/profile_images/1059904024558911488/BMBQGbjZ_normal.jpg', 'profile_banner_url': 'https://pbs.twimg.com/profile_banners/46477409/1541535802', 'profile_link_color': 'AB2828', 'profile_sidebar_border_color': 'FFFFFF', 'profile_sidebar_fill_color': 'DDEEF6', 'profile_text_color': '333333', 'profile_use_background_image': True, 'has_extended_profile': False, 'default_profile': False, 'default_profile_image': False, 'following': False, 'follow_request_sent': False, 'notifications': False, 'translator_type': 'none'}, id=46477409, id_str='46477409', name='Northeastern U.', screen_name='Northeastern', location='Boston, MA', profile_location=None, description='Northeastern is a global, experiential, research university built on a tradition of engagement with the world. #NUexperience', url='https://t.co/tUhI2oiKQI', entities={'url': {'urls': [{'url': 'https://t.co/tUhI2oiKQI', 'expanded_url': 'http://northeastern.edu', 'display_url': 'northeastern.edu', 'indices': [0, 23]}]}, 'description': {'urls': []}}, protected=False, followers_count=44014, friends_count=881, listed_count=694, created_at=datetime.datetime(2009, 6, 11, 20, 8, 56), favourites_count=9865, utc_offset=None, time_zone=None, geo_enabled=True, verified=True, statuses_count=26011, lang=None, status=Status(_api=<tweepy.api.API object at 0x000002C6A8C75FC8>, _json={'created_at': 'Thu Jun 18 00:11:36 +0000 2020', 'id': 1273407982664134656, 'id_str': '1273407982664134656', 'full_text': 'As an innovator in global banking with extensive experience working in emerging markets, Bill Winters is the Chief Executive of @StanChart. He joins @PresidentAoun for a discussion about business in the age of global change Thursday at 11:30. Watch: https://t.co/OZ0su3lfHs https://t.co/ZyPnXw0ZwW', 'truncated': False, 'display_text_range': [0, 273], 'entities': {'hashtags': [], 'symbols': [], 'user_mentions': [{'screen_name': 'StanChart', 'name': 'Standard Chartered', 'id': 58354465, 'id_str': '58354465', 'indices': [128, 138]}, {'screen_name': 'PresidentAoun', 'name': 'President Aoun', 'id': 393395654, 'id_str': '393395654', 'indices': [149, 163]}], 'urls': [{'url': 'https://t.co/OZ0su3lfHs', 'expanded_url': 'http://facebook.com/northeastern', 'display_url': 'facebook.com/northeastern', 'indices': [250, 273]}], 'media': [{'id': 1273407981212913667, 'id_str': '1273407981212913667', 'indices': [274, 297], 'media_url': 'http://pbs.twimg.com/media/EawNz-ZX0AMpYB8.jpg', 'media_url_https': 'https://pbs.twimg.com/media/EawNz-ZX0AMpYB8.jpg', 'url': 'https://t.co/ZyPnXw0ZwW', 'display_url': 'pic.twitter.com/ZyPnXw0ZwW', 'expanded_url': 'https://twitter.com/Northeastern/status/1273407982664134656/photo/1', 'type': 'photo', 'sizes': {'thumb': {'w': 150, 'h': 150, 'resize': 'crop'}, 'small': {'w': 680, 'h': 356, 'resize': 'fit'}, 'large': {'w': 1024, 'h': 536, 'resize': 'fit'}, 'medium': {'w': 1024, 'h': 536, 'resize': 'fit'}}}]}, 'extended_entities': {'media': [{'id': 1273407981212913667, 'id_str': '1273407981212913667', 'indices': [274, 297], 'media_url': 'http://pbs.twimg.com/media/EawNz-ZX0AMpYB8.jpg', 'media_url_https': 'https://pbs.twimg.com/media/EawNz-ZX0AMpYB8.jpg', 'url': 'https://t.co/ZyPnXw0ZwW', 'display_url': 'pic.twitter.com/ZyPnXw0ZwW', 'expanded_url': 'https://twitter.com/Northeastern/status/1273407982664134656/photo/1', 'type': 'photo', 'sizes': {'thumb': {'w': 150, 'h': 150, 'resize': 'crop'}, 'small': {'w': 680, 'h': 356, 'resize': 'fit'}, 'large': {'w': 1024, 'h': 536, 'resize': 'fit'}, 'medium': {'w': 1024, 'h': 536, 'resize': 'fit'}}}]}, 'source': '<a href=\"https://prod1.sprinklr.com\" rel=\"nofollow\">Sprinklr Publishing</a>', 'in_reply_to_status_id': None, 'in_reply_to_status_id_str': None, 'in_reply_to_user_id': None, 'in_reply_to_user_id_str': None, 'in_reply_to_screen_name': None, 'geo': None, 'coordinates': None, 'place': None, 'contributors': None, 'is_quote_status': False, 'retweet_count': 0, 'favorite_count': 1, 'favorited': False, 'retweeted': False, 'possibly_sensitive': False, 'lang': 'en'}, created_at=datetime.datetime(2020, 6, 18, 0, 11, 36), id=1273407982664134656, id_str='1273407982664134656', full_text='As an innovator in global banking with extensive experience working in emerging markets, Bill Winters is the Chief Executive of @StanChart. He joins @PresidentAoun for a discussion about business in the age of global change Thursday at 11:30. Watch: https://t.co/OZ0su3lfHs https://t.co/ZyPnXw0ZwW', truncated=False, display_text_range=[0, 273], entities={'hashtags': [], 'symbols': [], 'user_mentions': [{'screen_name': 'StanChart', 'name': 'Standard Chartered', 'id': 58354465, 'id_str': '58354465', 'indices': [128, 138]}, {'screen_name': 'PresidentAoun', 'name': 'President Aoun', 'id': 393395654, 'id_str': '393395654', 'indices': [149, 163]}], 'urls': [{'url': 'https://t.co/OZ0su3lfHs', 'expanded_url': 'http://facebook.com/northeastern', 'display_url': 'facebook.com/northeastern', 'indices': [250, 273]}], 'media': [{'id': 1273407981212913667, 'id_str': '1273407981212913667', 'indices': [274, 297], 'media_url': 'http://pbs.twimg.com/media/EawNz-ZX0AMpYB8.jpg', 'media_url_https': 'https://pbs.twimg.com/media/EawNz-ZX0AMpYB8.jpg', 'url': 'https://t.co/ZyPnXw0ZwW', 'display_url': 'pic.twitter.com/ZyPnXw0ZwW', 'expanded_url': 'https://twitter.com/Northeastern/status/1273407982664134656/photo/1', 'type': 'photo', 'sizes': {'thumb': {'w': 150, 'h': 150, 'resize': 'crop'}, 'small': {'w': 680, 'h': 356, 'resize': 'fit'}, 'large': {'w': 1024, 'h': 536, 'resize': 'fit'}, 'medium': {'w': 1024, 'h': 536, 'resize': 'fit'}}}]}, extended_entities={'media': [{'id': 1273407981212913667, 'id_str': '1273407981212913667', 'indices': [274, 297], 'media_url': 'http://pbs.twimg.com/media/EawNz-ZX0AMpYB8.jpg', 'media_url_https': 'https://pbs.twimg.com/media/EawNz-ZX0AMpYB8.jpg', 'url': 'https://t.co/ZyPnXw0ZwW', 'display_url': 'pic.twitter.com/ZyPnXw0ZwW', 'expanded_url': 'https://twitter.com/Northeastern/status/1273407982664134656/photo/1', 'type': 'photo', 'sizes': {'thumb': {'w': 150, 'h': 150, 'resize': 'crop'}, 'small': {'w': 680, 'h': 356, 'resize': 'fit'}, 'large': {'w': 1024, 'h': 536, 'resize': 'fit'}, 'medium': {'w': 1024, 'h': 536, 'resize': 'fit'}}}]}, source='Sprinklr Publishing', source_url='https://prod1.sprinklr.com', in_reply_to_status_id=None, in_reply_to_status_id_str=None, in_reply_to_user_id=None, in_reply_to_user_id_str=None, in_reply_to_screen_name=None, geo=None, coordinates=None, place=None, contributors=None, is_quote_status=False, retweet_count=0, favorite_count=1, favorited=False, retweeted=False, possibly_sensitive=False, lang='en'), contributors_enabled=False, is_translator=False, is_translation_enabled=True, profile_background_color='CCCCCC', profile_background_image_url='http://abs.twimg.com/images/themes/theme1/bg.png', profile_background_image_url_https='https://abs.twimg.com/images/themes/theme1/bg.png', profile_background_tile=False, profile_image_url='http://pbs.twimg.com/profile_images/1059904024558911488/BMBQGbjZ_normal.jpg', profile_image_url_https='https://pbs.twimg.com/profile_images/1059904024558911488/BMBQGbjZ_normal.jpg', profile_banner_url='https://pbs.twimg.com/profile_banners/46477409/1541535802', profile_link_color='AB2828', profile_sidebar_border_color='FFFFFF', profile_sidebar_fill_color='DDEEF6', profile_text_color='333333', profile_use_background_image=True, has_extended_profile=False, default_profile=False, default_profile_image=False, following=False, follow_request_sent=False, notifications=False, translator_type='none')"
      ]
     },
     "execution_count": 11,
     "metadata": {},
     "output_type": "execute_result"
    }
   ],
   "source": [
    "neu"
   ]
  },
  {
   "cell_type": "code",
   "execution_count": 12,
   "metadata": {
    "slideshow": {
     "slide_type": "subslide"
    }
   },
   "outputs": [],
   "source": [
    "neu = api.get_user('Northeastern', tweet_mode=\"extended\")"
   ]
  },
  {
   "cell_type": "markdown",
   "metadata": {},
   "source": [
    "### 3.1. get_user() method\n",
    "* Calls the Twitter API’s [`users/show` method](https://developer.twitter.com/en/docs/accounts-and-users/follow-search-get-users/api-reference/get-users-show)\n",
    "* Currently can call **up to 900 times every 15 minutes**\n",
    "* **`tweepy.models` classes** correspond to returned **JSON objects**\n",
    "* **`User` class** corresponds to a Twitter [**user object**](https://developer.twitter.com/en/docs/tweets/data-dictionary/overview/user-object)\n",
    "* **`tweet_mode = \"extended\"`** indicates that tweets longer than 140 characters (up to 280 characters) will be displayed without being truncated."
   ]
  },
  {
   "cell_type": "markdown",
   "metadata": {
    "slideshow": {
     "slide_type": "subslide"
    }
   },
   "source": [
    "### 3.2. Key Attributes of a Twitter User Object\n",
    "| Attribute&nbsp;&nbsp;&nbsp;&nbsp;&nbsp;&nbsp;&nbsp;&nbsp;&nbsp;&nbsp;&nbsp;&nbsp;&nbsp;&nbsp;&nbsp;&nbsp;&nbsp;&nbsp;&nbsp;&nbsp;&nbsp;&nbsp;&nbsp;&nbsp;&nbsp;&nbsp;&nbsp;&nbsp;&nbsp;&nbsp;&nbsp;&nbsp;&nbsp;&nbsp;&nbsp;&nbsp;&nbsp;&nbsp;\t| Description\n",
    "| :---\t| :---\n",
    "| `id` \t| The integer representation of the unique identifier for this User.\n",
    "| `id_str` \t| The string representation of the unique identifier for this User.\n",
    "| `name` \t| The name of the user, as they’ve defined it.\n",
    "| `screen_name` \t| The screen name, handle, or alias that this user identifies themselves with. \n",
    "| `location` \t| The user-defined location for this account’s profile.\n",
    "| `url` \t| A URL provided by the user in association with their profile.\n",
    "| `description` \t| The user-defined UTF-8 string describing their account.\n",
    "| `followers_count`\t| The number of followers this account currently has.\n",
    "| `friends_count` \t| The number of users this account is following (AKA their “followings”).\n",
    "| `statuses_count` \t| The number of Tweets (including retweets) issued by the user.\n",
    "| `created_at` \t| The UTC datetime that the user account was created on Twitter.\n",
    "| `profile_image_url_https` \t| A HTTPS-based URL pointing to the user’s profile image."
   ]
  },
  {
   "cell_type": "markdown",
   "metadata": {
    "slideshow": {
     "slide_type": "subslide"
    }
   },
   "source": [
    "* Full list of attributes: https://developer.twitter.com/en/docs/tweets/data-dictionary/overview/user-object"
   ]
  },
  {
   "cell_type": "markdown",
   "metadata": {
    "slideshow": {
     "slide_type": "subslide"
    }
   },
   "source": [
    "* The unique ID for the account:"
   ]
  },
  {
   "cell_type": "code",
   "execution_count": 13,
   "metadata": {},
   "outputs": [
    {
     "data": {
      "text/plain": [
       "46477409"
      ]
     },
     "execution_count": 13,
     "metadata": {},
     "output_type": "execute_result"
    }
   ],
   "source": [
    "neu.id"
   ]
  },
  {
   "cell_type": "markdown",
   "metadata": {
    "slideshow": {
     "slide_type": "subslide"
    }
   },
   "source": [
    "* The user-defined name of the account:"
   ]
  },
  {
   "cell_type": "code",
   "execution_count": 14,
   "metadata": {},
   "outputs": [
    {
     "data": {
      "text/plain": [
       "'Northeastern U.'"
      ]
     },
     "execution_count": 14,
     "metadata": {},
     "output_type": "execute_result"
    }
   ],
   "source": [
    "neu.name"
   ]
  },
  {
   "cell_type": "markdown",
   "metadata": {
    "slideshow": {
     "slide_type": "subslide"
    }
   },
   "source": [
    "* The unique screen name, twitter alias:"
   ]
  },
  {
   "cell_type": "code",
   "execution_count": 15,
   "metadata": {},
   "outputs": [
    {
     "data": {
      "text/plain": [
       "'Northeastern'"
      ]
     },
     "execution_count": 15,
     "metadata": {},
     "output_type": "execute_result"
    }
   ],
   "source": [
    "neu.screen_name"
   ]
  },
  {
   "cell_type": "markdown",
   "metadata": {
    "slideshow": {
     "slide_type": "subslide"
    }
   },
   "source": [
    "* The user-defined description of the account:"
   ]
  },
  {
   "cell_type": "code",
   "execution_count": 16,
   "metadata": {},
   "outputs": [
    {
     "data": {
      "text/plain": [
       "'Northeastern is a global, experiential, research university built on a tradition of engagement with the world. #NUexperience'"
      ]
     },
     "execution_count": 16,
     "metadata": {},
     "output_type": "execute_result"
    }
   ],
   "source": [
    "neu.description"
   ]
  },
  {
   "cell_type": "markdown",
   "metadata": {
    "slideshow": {
     "slide_type": "subslide"
    }
   },
   "source": [
    "* The number of followers this account currently has:"
   ]
  },
  {
   "cell_type": "code",
   "execution_count": 18,
   "metadata": {},
   "outputs": [
    {
     "data": {
      "text/plain": [
       "44014"
      ]
     },
     "execution_count": 18,
     "metadata": {},
     "output_type": "execute_result"
    }
   ],
   "source": [
    "neu.followers_count"
   ]
  },
  {
   "cell_type": "markdown",
   "metadata": {
    "slideshow": {
     "slide_type": "subslide"
    }
   },
   "source": [
    "* The number of accounts this account is currently following (aka, followings):"
   ]
  },
  {
   "cell_type": "code",
   "execution_count": 19,
   "metadata": {},
   "outputs": [
    {
     "data": {
      "text/plain": [
       "881"
      ]
     },
     "execution_count": 19,
     "metadata": {},
     "output_type": "execute_result"
    }
   ],
   "source": [
    "neu.friends_count"
   ]
  },
  {
   "cell_type": "markdown",
   "metadata": {
    "slideshow": {
     "slide_type": "subslide"
    }
   },
   "source": [
    "* The number of Tweets (including retweets) issued by the user:"
   ]
  },
  {
   "cell_type": "code",
   "execution_count": 20,
   "metadata": {},
   "outputs": [
    {
     "data": {
      "text/plain": [
       "26011"
      ]
     },
     "execution_count": 20,
     "metadata": {},
     "output_type": "execute_result"
    }
   ],
   "source": [
    "neu.statuses_count"
   ]
  },
  {
   "cell_type": "markdown",
   "metadata": {
    "slideshow": {
     "slide_type": "subslide"
    }
   },
   "source": [
    "### Getting the Most Recent Status Update\n",
    "* `User` object’s **`status` property** returns a **`tweepy.models.Status`** object\n",
    "* Corresponds to a Twitter [**tweet object**](https://developer.twitter.com/en/docs/tweets/data-dictionary/overview/tweet-object)\n",
    "* **`full_text`** attribute gives the entire untruncated tweet"
   ]
  },
  {
   "cell_type": "code",
   "execution_count": 21,
   "metadata": {
    "scrolled": true,
    "slideshow": {
     "slide_type": "subslide"
    }
   },
   "outputs": [
    {
     "data": {
      "text/plain": [
       "'As an innovator in global banking with extensive experience working in emerging markets, Bill Winters is the Chief Executive of @StanChart. He joins @PresidentAoun for a discussion about business in the age of global change Thursday at 11:30. Watch: https://t.co/OZ0su3lfHs https://t.co/ZyPnXw0ZwW'"
      ]
     },
     "execution_count": 21,
     "metadata": {},
     "output_type": "execute_result"
    }
   ],
   "source": [
    "neu.status.full_text"
   ]
  },
  {
   "cell_type": "code",
   "execution_count": 22,
   "metadata": {},
   "outputs": [
    {
     "data": {
      "text/plain": [
       "tweepy.models.Status"
      ]
     },
     "execution_count": 22,
     "metadata": {},
     "output_type": "execute_result"
    }
   ],
   "source": [
    "type(neu.status)"
   ]
  },
  {
   "cell_type": "code",
   "execution_count": 23,
   "metadata": {},
   "outputs": [
    {
     "data": {
      "text/plain": [
       "Status(_api=<tweepy.api.API object at 0x000002C6A8C75FC8>, _json={'created_at': 'Thu Jun 18 00:11:36 +0000 2020', 'id': 1273407982664134656, 'id_str': '1273407982664134656', 'full_text': 'As an innovator in global banking with extensive experience working in emerging markets, Bill Winters is the Chief Executive of @StanChart. He joins @PresidentAoun for a discussion about business in the age of global change Thursday at 11:30. Watch: https://t.co/OZ0su3lfHs https://t.co/ZyPnXw0ZwW', 'truncated': False, 'display_text_range': [0, 273], 'entities': {'hashtags': [], 'symbols': [], 'user_mentions': [{'screen_name': 'StanChart', 'name': 'Standard Chartered', 'id': 58354465, 'id_str': '58354465', 'indices': [128, 138]}, {'screen_name': 'PresidentAoun', 'name': 'President Aoun', 'id': 393395654, 'id_str': '393395654', 'indices': [149, 163]}], 'urls': [{'url': 'https://t.co/OZ0su3lfHs', 'expanded_url': 'http://facebook.com/northeastern', 'display_url': 'facebook.com/northeastern', 'indices': [250, 273]}], 'media': [{'id': 1273407981212913667, 'id_str': '1273407981212913667', 'indices': [274, 297], 'media_url': 'http://pbs.twimg.com/media/EawNz-ZX0AMpYB8.jpg', 'media_url_https': 'https://pbs.twimg.com/media/EawNz-ZX0AMpYB8.jpg', 'url': 'https://t.co/ZyPnXw0ZwW', 'display_url': 'pic.twitter.com/ZyPnXw0ZwW', 'expanded_url': 'https://twitter.com/Northeastern/status/1273407982664134656/photo/1', 'type': 'photo', 'sizes': {'thumb': {'w': 150, 'h': 150, 'resize': 'crop'}, 'small': {'w': 680, 'h': 356, 'resize': 'fit'}, 'large': {'w': 1024, 'h': 536, 'resize': 'fit'}, 'medium': {'w': 1024, 'h': 536, 'resize': 'fit'}}}]}, 'extended_entities': {'media': [{'id': 1273407981212913667, 'id_str': '1273407981212913667', 'indices': [274, 297], 'media_url': 'http://pbs.twimg.com/media/EawNz-ZX0AMpYB8.jpg', 'media_url_https': 'https://pbs.twimg.com/media/EawNz-ZX0AMpYB8.jpg', 'url': 'https://t.co/ZyPnXw0ZwW', 'display_url': 'pic.twitter.com/ZyPnXw0ZwW', 'expanded_url': 'https://twitter.com/Northeastern/status/1273407982664134656/photo/1', 'type': 'photo', 'sizes': {'thumb': {'w': 150, 'h': 150, 'resize': 'crop'}, 'small': {'w': 680, 'h': 356, 'resize': 'fit'}, 'large': {'w': 1024, 'h': 536, 'resize': 'fit'}, 'medium': {'w': 1024, 'h': 536, 'resize': 'fit'}}}]}, 'source': '<a href=\"https://prod1.sprinklr.com\" rel=\"nofollow\">Sprinklr Publishing</a>', 'in_reply_to_status_id': None, 'in_reply_to_status_id_str': None, 'in_reply_to_user_id': None, 'in_reply_to_user_id_str': None, 'in_reply_to_screen_name': None, 'geo': None, 'coordinates': None, 'place': None, 'contributors': None, 'is_quote_status': False, 'retweet_count': 0, 'favorite_count': 1, 'favorited': False, 'retweeted': False, 'possibly_sensitive': False, 'lang': 'en'}, created_at=datetime.datetime(2020, 6, 18, 0, 11, 36), id=1273407982664134656, id_str='1273407982664134656', full_text='As an innovator in global banking with extensive experience working in emerging markets, Bill Winters is the Chief Executive of @StanChart. He joins @PresidentAoun for a discussion about business in the age of global change Thursday at 11:30. Watch: https://t.co/OZ0su3lfHs https://t.co/ZyPnXw0ZwW', truncated=False, display_text_range=[0, 273], entities={'hashtags': [], 'symbols': [], 'user_mentions': [{'screen_name': 'StanChart', 'name': 'Standard Chartered', 'id': 58354465, 'id_str': '58354465', 'indices': [128, 138]}, {'screen_name': 'PresidentAoun', 'name': 'President Aoun', 'id': 393395654, 'id_str': '393395654', 'indices': [149, 163]}], 'urls': [{'url': 'https://t.co/OZ0su3lfHs', 'expanded_url': 'http://facebook.com/northeastern', 'display_url': 'facebook.com/northeastern', 'indices': [250, 273]}], 'media': [{'id': 1273407981212913667, 'id_str': '1273407981212913667', 'indices': [274, 297], 'media_url': 'http://pbs.twimg.com/media/EawNz-ZX0AMpYB8.jpg', 'media_url_https': 'https://pbs.twimg.com/media/EawNz-ZX0AMpYB8.jpg', 'url': 'https://t.co/ZyPnXw0ZwW', 'display_url': 'pic.twitter.com/ZyPnXw0ZwW', 'expanded_url': 'https://twitter.com/Northeastern/status/1273407982664134656/photo/1', 'type': 'photo', 'sizes': {'thumb': {'w': 150, 'h': 150, 'resize': 'crop'}, 'small': {'w': 680, 'h': 356, 'resize': 'fit'}, 'large': {'w': 1024, 'h': 536, 'resize': 'fit'}, 'medium': {'w': 1024, 'h': 536, 'resize': 'fit'}}}]}, extended_entities={'media': [{'id': 1273407981212913667, 'id_str': '1273407981212913667', 'indices': [274, 297], 'media_url': 'http://pbs.twimg.com/media/EawNz-ZX0AMpYB8.jpg', 'media_url_https': 'https://pbs.twimg.com/media/EawNz-ZX0AMpYB8.jpg', 'url': 'https://t.co/ZyPnXw0ZwW', 'display_url': 'pic.twitter.com/ZyPnXw0ZwW', 'expanded_url': 'https://twitter.com/Northeastern/status/1273407982664134656/photo/1', 'type': 'photo', 'sizes': {'thumb': {'w': 150, 'h': 150, 'resize': 'crop'}, 'small': {'w': 680, 'h': 356, 'resize': 'fit'}, 'large': {'w': 1024, 'h': 536, 'resize': 'fit'}, 'medium': {'w': 1024, 'h': 536, 'resize': 'fit'}}}]}, source='Sprinklr Publishing', source_url='https://prod1.sprinklr.com', in_reply_to_status_id=None, in_reply_to_status_id_str=None, in_reply_to_user_id=None, in_reply_to_user_id_str=None, in_reply_to_screen_name=None, geo=None, coordinates=None, place=None, contributors=None, is_quote_status=False, retweet_count=0, favorite_count=1, favorited=False, retweeted=False, possibly_sensitive=False, lang='en')"
      ]
     },
     "execution_count": 23,
     "metadata": {},
     "output_type": "execute_result"
    }
   ],
   "source": [
    "neu.status"
   ]
  },
  {
   "cell_type": "markdown",
   "metadata": {
    "slideshow": {
     "slide_type": "slide"
    }
   },
   "source": [
    "## 4. Getting Your Own Account’s Information\n",
    "* Use the me() method to get the User object for the authenticated account"
   ]
  },
  {
   "cell_type": "code",
   "execution_count": 24,
   "metadata": {
    "slideshow": {
     "slide_type": "-"
    }
   },
   "outputs": [],
   "source": [
    "me = api.me()"
   ]
  },
  {
   "cell_type": "code",
   "execution_count": 25,
   "metadata": {
    "slideshow": {
     "slide_type": "fragment"
    }
   },
   "outputs": [
    {
     "data": {
      "text/plain": [
       "'Aneesha'"
      ]
     },
     "execution_count": 25,
     "metadata": {},
     "output_type": "execute_result"
    }
   ],
   "source": [
    "me.name"
   ]
  },
  {
   "cell_type": "code",
   "execution_count": 26,
   "metadata": {
    "slideshow": {
     "slide_type": "fragment"
    }
   },
   "outputs": [
    {
     "data": {
      "text/plain": [
       "'aneesha011'"
      ]
     },
     "execution_count": 26,
     "metadata": {},
     "output_type": "execute_result"
    }
   ],
   "source": [
    "me.screen_name"
   ]
  }
 ],
 "metadata": {
  "celltoolbar": "Slideshow",
  "kernelspec": {
   "display_name": "Python 3",
   "language": "python",
   "name": "python3"
  },
  "language_info": {
   "codemirror_mode": {
    "name": "ipython",
    "version": 3
   },
   "file_extension": ".py",
   "mimetype": "text/x-python",
   "name": "python",
   "nbconvert_exporter": "python",
   "pygments_lexer": "ipython3",
   "version": "3.8.3"
  }
 },
 "nbformat": 4,
 "nbformat_minor": 2
}

{
 "cells": [
  {
   "cell_type": "markdown",
   "metadata": {},
   "source": [
    "<center> <h2>Scraping Data using APIs</h2></center>"
   ]
  },
  {
   "cell_type": "markdown",
   "metadata": {
    "slideshow": {
     "slide_type": "skip"
    }
   },
   "source": [
    "## Outline\n",
    "1. <a href='#1'>Application Programming Interfaces (APIs)</a>\n",
    "2. <a href='#2'>Overview of the Twitter APIs</a>\n",
    "2. <a href='#3'>Creating a Twitter Developer Account</a>\n",
    "2. <a href='#4'>Getting Twitter Credentials</a>\n"
   ]
  },
  {
   "cell_type": "markdown",
   "metadata": {
    "slideshow": {
     "slide_type": "skip"
    }
   },
   "source": [
    "<a id=\"1\"></a>"
   ]
  },
  {
   "cell_type": "markdown",
   "metadata": {
    "slideshow": {
     "slide_type": "slide"
    }
   },
   "source": [
    "## 1. Application Programming Interfaces (APIs)\n",
    "* API: communication protocol between a client and web service\n",
    "* Enables developers to interact with the objects of a web service using its built-in functions and methods\n",
    "* Many web services do not like the idea of people scraping their data!\n",
    "    * They create and publish APIs to enable developers to access their data in a controlled and responsible manner"
   ]
  },
  {
   "cell_type": "markdown",
   "metadata": {
    "slideshow": {
     "slide_type": "subslide"
    }
   },
   "source": [
    "### 1.1. Twitter and Big Data \n",
    "* A **favorite big data source** for researchers and business people worldwide\n",
    "* **Free** access to a small portion of recent tweets\n",
    "* Third-parties (and Twitter itself) offer paid access to much larger portions the all-time tweets database"
   ]
  },
  {
   "cell_type": "markdown",
   "metadata": {
    "slideshow": {
     "slide_type": "skip"
    }
   },
   "source": [
    "<a id=\"2\"></a>"
   ]
  },
  {
   "cell_type": "markdown",
   "metadata": {
    "slideshow": {
     "slide_type": "subslide"
    }
   },
   "source": [
    "## 2. Overview of the Twitter APIs\n",
    "* **Authentication API**—Authentication is required before using other APIs\n",
    "* **Accounts and Users API**—Access information about an account\n",
    "* **Tweets API**—Search **past tweets**, access **live tweet streams** and more\n",
    "* **Trends API**—**Trending topics** by location\n",
    "* [Twitter API categories, subcategories and individual methods](https://developer.twitter.com/en/docs/api-reference-index.html)"
   ]
  },
  {
   "cell_type": "markdown",
   "metadata": {
    "slideshow": {
     "slide_type": "subslide"
    }
   },
   "source": [
    "### 2.1. Rate Limits: A Word of Caution \n",
    "* Twitter expects developers to use its services responsibly\n",
    "* **Understand rate limits** before using any method\n",
    "* Twitter may **block you** if you call a given API method after that method’s **rate limit** has been reached\n",
    "* Tweepy can be configured to **wait when it encounters rate limits**"
   ]
  },
  {
   "cell_type": "markdown",
   "metadata": {
    "slideshow": {
     "slide_type": "subslide"
    }
   },
   "source": [
    "### 2.2. Rate Limits: A Word of Caution (cont.)\n",
    "* Some methods list both **user rate limits** and **app rate limits**\n",
    "* We use **app rate limits** in the demos\n",
    "* **User rate limits** are for apps that enable individuals to log into their Twitter accounts\n",
    "* [Details on rate limiting](https://developer.twitter.com/en/docs/basics/rate-limiting)\n",
    "* [Specific rate limits on individual API methods](https://developer.twitter.com/en/docs/basics/rate-limits) — also see each API method’s documentation. "
   ]
  },
  {
   "cell_type": "markdown",
   "metadata": {},
   "source": [
    "### 2.3. Other Restrictions\n",
    "* **Follow Twitter’s rules/regulations or your developer account could be terminated.** \n",
    "\t* [Terms of Service](https://twitter.com/tos)\n",
    "\t* [Developer Agreement](https://developer.twitter.com/en/developer-terms/agreement-and-policy.html)\n",
    "\t* [Developer Policy](https://developer.twitter.com/en/developer-terms/policy.html)\n",
    "\t* [Other restrictions](https://developer.twitter.com/en/developer-terms/more-on-restricted-use-cases)\n",
    "* Can search only the **last 7 days** and **get only a limited number of tweets** using free APIs"
   ]
  },
  {
   "cell_type": "markdown",
   "metadata": {
    "slideshow": {
     "slide_type": "skip"
    }
   },
   "source": [
    "<a id=\"3\"></a>"
   ]
  },
  {
   "cell_type": "markdown",
   "metadata": {
    "slideshow": {
     "slide_type": "slide"
    }
   },
   "source": [
    "## 3. Creating a Twitter Developer Account\n",
    "* [Apply for a developer account](https://developer.twitter.com/en/apply-for-access) to use the APIs\n",
    "* Every application is subject to approval\n",
    "* Personal accounts are generally approved instantly, but this is subject to change"
   ]
  },
  {
   "cell_type": "markdown",
   "metadata": {
    "slideshow": {
     "slide_type": "skip"
    }
   },
   "source": [
    "<a id=\"4\"></a>"
   ]
  },
  {
   "cell_type": "markdown",
   "metadata": {},
   "source": [
    "## 4. Getting Twitter Credentials\n",
    "* Must obtain **credentials** for interacting with the Twitter APIs\n",
    "* First, [create an **app**](https://developer.twitter.com) and perform the following steps in the next several slides\n",
    "* **Each app has separate credentials**"
   ]
  },
  {
   "cell_type": "code",
   "execution_count": null,
   "metadata": {},
   "outputs": [],
   "source": []
  },
  {
   "cell_type": "markdown",
   "metadata": {},
   "source": [
    "### 4.1. Creating an App (1/3)\n",
    "1. Click the drop-down menu for your account and **select `Apps`**\n",
    "2. Click **Create an app**\n",
    "3. Specify your app’s name in the **App name** field\n",
    "    * If you **send** tweets via the API, this will be the **tweets’ sender** \n",
    "    * Shown to users if you create applications that require a user to log in via Twitter\n",
    "    * For our examples, `\"`_YourName_ `Test App\"` is fine"
   ]
  },
  {
   "cell_type": "markdown",
   "metadata": {},
   "source": [
    "### 4.1. Creating an App (2/3)\n",
    "4. In the **Application description field**, describe your app\n",
    "    * Normally describes what your app does\n",
    "    * For our examples, \"`Learning to use the Twitter API.`\"\n",
    "5. In the **Website URL** field, enter your website\n",
    "    * Supposed to be the website where you host your app\n",
    "    * For this class, use your Twitter URL: `https://twitter.com/`_YourUserName_"
   ]
  },
  {
   "cell_type": "markdown",
   "metadata": {},
   "source": [
    "### 4.1. Creating an App (3/3)\n",
    "6. **Tell us how this app will be used** \n",
    "    * Enter a description of at least 100 characters that helps Twitter employees understand what your app does\n",
    "    * For our examples, \"`I am new to Twitter app development and am simply learning how to use the Twitter APIs for educational purposes.`\"\n",
    "7. Leave the remaining fields empty, click **Create**, carefully review the (lengthy) developer terms and click **Create** again"
   ]
  },
  {
   "cell_type": "markdown",
   "metadata": {
    "slideshow": {
     "slide_type": "subslide"
    }
   },
   "source": [
    "### 4.2. Getting Your Credentials\n",
    "* Twitter displays a **web page for managing your app**\n",
    "    * **App details**, **Keys and tokens** and **Permissions** tabs\n",
    "* Click **Keys and tokens** to view your app’s **credentials**\n",
    "* Shows **Consumer API keys**—the **API key** and the **API secret key**\n",
    "* Click **Create** to get an **access token** and **access token secret**\n",
    "* **All four** are required to **authenticate**\n",
    "    * Consumer API key\n",
    "    * Consumer API secret key\n",
    "    * Access token\n",
    "    * Access token secret"
   ]
  },
  {
   "cell_type": "markdown",
   "metadata": {
    "slideshow": {
     "slide_type": "subslide"
    }
   },
   "source": [
    "### 4.2. Getting Your Credentials\n",
    "<center><img src= \"res/credentials.png\" /></center>"
   ]
  },
  {
   "cell_type": "markdown",
   "metadata": {
    "slideshow": {
     "slide_type": "subslide"
    }
   },
   "source": [
    "### 4.3. Storing Your Credentials \n",
    "* **Do not include your API keys and access tokens in your source code**\n",
    "* **Store your keys in a separate file** and don't share it\n",
    "* Good practice would be to use an encryption library such as [**bcrypt**](https://github.com/pyca/bcrypt/) \n",
    "* Download the attached `TwitterCredentials.py` file\n",
    "* Open it with a text editor or Python and update it with your own credentials."
   ]
  }
 ],
 "metadata": {
  "celltoolbar": "Slideshow",
  "kernelspec": {
   "display_name": "Python 3",
   "language": "python",
   "name": "python3"
  },
  "language_info": {
   "codemirror_mode": {
    "name": "ipython",
    "version": 3
   },
   "file_extension": ".py",
   "mimetype": "text/x-python",
   "name": "python",
   "nbconvert_exporter": "python",
   "pygments_lexer": "ipython3",
   "version": "3.7.6"
  }
 },
 "nbformat": 4,
 "nbformat_minor": 2
}

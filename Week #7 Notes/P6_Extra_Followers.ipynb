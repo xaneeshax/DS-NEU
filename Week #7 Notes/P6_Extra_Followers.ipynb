{
 "cells": [
  {
   "cell_type": "markdown",
   "metadata": {
    "slideshow": {
     "slide_type": "slide"
    }
   },
   "source": [
    "<center> <img src=\"res/ds3000.png\"> </center>"
   ]
  },
  {
   "cell_type": "markdown",
   "metadata": {},
   "source": [
    "<center> <h2> EXTRA CONTENT </h2></center>\n",
    "<center> <h2> Getting an Account's Followers and Followings</h2></center>"
   ]
  },
  {
   "cell_type": "markdown",
   "metadata": {
    "slideshow": {
     "slide_type": "subslide"
    }
   },
   "source": [
    "<center><img src = \"res/followers.png\" /></center>"
   ]
  },
  {
   "cell_type": "markdown",
   "metadata": {
    "slideshow": {
     "slide_type": "skip"
    }
   },
   "source": [
    "## Outline\n",
    "1. <a href='#1'>Determining an Account’s Followers</a>\n",
    "2. <a href='#2'>Getting Follower IDs Rather Than Followers</a>\n",
    "3. <a href='#3'>Looking Up Users by IDs</a>"
   ]
  },
  {
   "cell_type": "markdown",
   "metadata": {
    "slideshow": {
     "slide_type": "skip"
    }
   },
   "source": [
    "<a id=\"1\"></a>"
   ]
  },
  {
   "cell_type": "markdown",
   "metadata": {
    "slideshow": {
     "slide_type": "slide"
    }
   },
   "source": [
    "## 1. Determining an Account’s Followers  \n",
    "* Via the `API` object’s **`followers` method**\n",
    "* Calls Twitter’s [`followers/list` method](https://developer.twitter.com/en/docs/accounts-and-users/follow-search-get-users/api-reference/get-followers-list.html)\n",
    "* Returns groups of 20 by default\n",
    "* Can request up to 200 at a time \n",
    "* For demonstration purposes, we’ll grab 10 of Northeastern’s followers. "
   ]
  },
  {
   "cell_type": "code",
   "execution_count": 2,
   "metadata": {},
   "outputs": [],
   "source": [
    "import tweepy\n",
    "import TwitterCredentials as keys\n",
    "\n",
    "auth = tweepy.OAuthHandler(keys.consumer_API_key, keys.consumer_API_secret_key)\n",
    "auth.set_access_token(keys.access_token, keys.access_token_secret)\n",
    "api = tweepy.API(auth, wait_on_rate_limit=True, wait_on_rate_limit_notify=True)"
   ]
  },
  {
   "cell_type": "code",
   "execution_count": 3,
   "metadata": {},
   "outputs": [],
   "source": [
    "followers = []  # for storing followers' User objects"
   ]
  },
  {
   "cell_type": "code",
   "execution_count": 5,
   "metadata": {},
   "outputs": [],
   "source": [
    "cursor = tweepy.Cursor(api.followers, screen_name='Northeastern', tweet_mode='extended')\n",
    "\n",
    "for account in cursor.items(10):  # request only 10 results\n",
    "    followers.append(account.screen_name)"
   ]
  },
  {
   "cell_type": "code",
   "execution_count": 6,
   "metadata": {
    "slideshow": {
     "slide_type": "subslide"
    }
   },
   "outputs": [
    {
     "data": {
      "text/plain": [
       "['ritameyerson',\n",
       " 'dbschlos',\n",
       " 'parnold10',\n",
       " 'genepstein',\n",
       " 'juliaffreeland',\n",
       " 'JosephSkoniecki',\n",
       " 'yzephone',\n",
       " 'KjcLaw',\n",
       " 'dianechase',\n",
       " 'leebeeballer']"
      ]
     },
     "execution_count": 6,
     "metadata": {},
     "output_type": "execute_result"
    }
   ],
   "source": [
    "followers"
   ]
  },
  {
   "cell_type": "markdown",
   "metadata": {
    "slideshow": {
     "slide_type": "subslide"
    }
   },
   "source": [
    "### 1.1. Automatic Paging\n",
    "* To get up to 200 followers at a time, create the `Cursor` with the `count` keyword argument\n",
    ">```python\n",
    "cursor = tweepy.Cursor(api.followers, screen_name='Northeastern', tweet_mode='extended', count=200)\n",
    "```\n",
    "* **`items`** with no argument attempts to get **all** followers\n",
    "    * Could **take significant time** due to rate limits\n",
    "    * Twitter’s **`followers/list`** returns max of 200 followers and allows only 15 calls every 15 minutes\n",
    "        * 3000 followers every 15 minutes \n",
    "        * Northeastern has 41k+ followers"
   ]
  },
  {
   "cell_type": "markdown",
   "metadata": {
    "slideshow": {
     "slide_type": "skip"
    }
   },
   "source": [
    "<a id=\"2\"></a>"
   ]
  },
  {
   "cell_type": "markdown",
   "metadata": {
    "slideshow": {
     "slide_type": "slide"
    }
   },
   "source": [
    "## 2. Determining Whom an Account Follows \n",
    "* Known as Followings or Friends\n",
    "* Via the `API` object's **`friends` method**\n",
    "* Calls the Twitter’s [`friends/list` method](https://developer.twitter.com/en/docs/accounts-and-users/follow-search-get-users/api-reference/get-friends-list) \n",
    "* Returns a list of **`User` objects**\n",
    "* Groups of 20 by default, but can get up to 200 at a time\n",
    "* Can call up to 15 times every 15 minutes"
   ]
  },
  {
   "cell_type": "code",
   "execution_count": 7,
   "metadata": {},
   "outputs": [],
   "source": [
    "import tweepy\n",
    "import TwitterCredentials as keys\n",
    "\n",
    "auth = tweepy.OAuthHandler(keys.consumer_API_key, keys.consumer_API_secret_key)\n",
    "auth.set_access_token(keys.access_token, keys.access_token_secret)\n",
    "api = tweepy.API(auth, wait_on_rate_limit=True, wait_on_rate_limit_notify=True)\n"
   ]
  },
  {
   "cell_type": "code",
   "execution_count": 8,
   "metadata": {},
   "outputs": [],
   "source": [
    "friends = []  # for storing friends' User objects"
   ]
  },
  {
   "cell_type": "code",
   "execution_count": 9,
   "metadata": {},
   "outputs": [],
   "source": [
    "cursor = tweepy.Cursor(api.friends, screen_name='Northeastern', tweet_mode='extended')\n",
    "\n",
    "for friend in cursor.items(10):  # request only 10 results\n",
    "    friends.append(friend.screen_name)"
   ]
  },
  {
   "cell_type": "code",
   "execution_count": 10,
   "metadata": {},
   "outputs": [
    {
     "data": {
      "text/plain": [
       "['NCHLondon',\n",
       " 'CityPortland',\n",
       " 'RouxInstitute',\n",
       " 'pciuccarelli',\n",
       " 'avnishrpatel',\n",
       " 'steffel_mary',\n",
       " 'TheRealDrKris',\n",
       " 'chngin_the_wrld',\n",
       " 'CivicExpNU',\n",
       " 'DrKGRM']"
      ]
     },
     "execution_count": 10,
     "metadata": {},
     "output_type": "execute_result"
    }
   ],
   "source": [
    "friends\n"
   ]
  }
 ],
 "metadata": {
  "celltoolbar": "Slideshow",
  "kernelspec": {
   "display_name": "Python 3",
   "language": "python",
   "name": "python3"
  },
  "language_info": {
   "codemirror_mode": {
    "name": "ipython",
    "version": 3
   },
   "file_extension": ".py",
   "mimetype": "text/x-python",
   "name": "python",
   "nbconvert_exporter": "python",
   "pygments_lexer": "ipython3",
   "version": "3.8.3"
  }
 },
 "nbformat": 4,
 "nbformat_minor": 2
}

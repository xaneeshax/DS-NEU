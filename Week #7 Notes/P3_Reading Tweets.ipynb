{
 "cells": [
  {
   "cell_type": "markdown",
   "metadata": {},
   "source": [
    "<center> <h2> Understanding Tweets</h2></center>"
   ]
  },
  {
   "cell_type": "markdown",
   "metadata": {
    "slideshow": {
     "slide_type": "skip"
    }
   },
   "source": [
    "## Outline\n",
    "1. <a href='#1'>Understanding Tweets</a>\n",
    "2. <a href='#2'>The Tweet Object</a>\n",
    "2. <a href='#3'>Sample Tweet JSON</a>"
   ]
  },
  {
   "cell_type": "markdown",
   "metadata": {
    "slideshow": {
     "slide_type": "skip"
    }
   },
   "source": [
    "<a id=\"1\"></a>"
   ]
  },
  {
   "cell_type": "markdown",
   "metadata": {
    "slideshow": {
     "slide_type": "slide"
    }
   },
   "source": [
    "## 1. Understanding Tweets\n",
    "* Twitter API methods return **JSON (JavaScript Object Notation)** objects\n",
    "* Text-based **data-interchange format** \n",
    "* Represents objects as **collections of name–value pairs** (like dictionaries)\n",
    "* Commonly used in web services\n",
    "* Human and computer readable"
   ]
  },
  {
   "cell_type": "markdown",
   "metadata": {
    "slideshow": {
     "slide_type": "subslide"
    }
   },
   "source": [
    "### 1.1. JSON Data Format\n",
    "* Similar to Python dictionaries\n",
    "* Each JSON object contains a comma-separated list of **property names** and **values**, in curly braces. \n",
    "> ```python\n",
    "{\"account\": 100, \"name\": \"Jones\", \"balance\": 24.98}\n",
    "```\n",
    "* JSON arrays, like Python lists, are comma-separated values in square brackets. \n",
    "> ```python\n",
    "[100, 200, 300]\n",
    "```\n",
    "\n",
    "* **Tweepy handles the JSON for you** behind the scenes"
   ]
  },
  {
   "cell_type": "markdown",
   "metadata": {
    "slideshow": {
     "slide_type": "subslide"
    }
   },
   "source": [
    "## 2. The Tweet Object \n",
    "* Twitter API creates and returns a Tweet object for each tweet.\n",
    "* The Tweet object uses JSON to represent the content of the tweet.\n",
    "* Various properties are embeded in these JSON data\n",
    "\n",
    "* https://developer.twitter.com/en/docs/tweets/data-dictionary/overview/intro-to-tweet-json"
   ]
  },
  {
   "cell_type": "markdown",
   "metadata": {
    "slideshow": {
     "slide_type": "subslide"
    }
   },
   "source": [
    "### 2.1. Key Properties of a Tweet Object \n",
    "* A tweet (or **status update**) object contains many **metadata** attributes that describe aspects of the tweet:\n",
    "\t* when it was created \n",
    "\t* who created it,\n",
    "\t* lists of hashtags, urls, `@`-mentions, images, videos and more"
   ]
  },
  {
   "cell_type": "markdown",
   "metadata": {
    "slideshow": {
     "slide_type": "subslide"
    }
   },
   "source": [
    "### 2.1. Key Properties of a Tweet Object (1/2)\n",
    "| Attribute \t| Description\n",
    "| :---\t| :---\n",
    "| **`text`** \t| The text of the tweet. If the tweet uses the new 280-character limit and contains more than 140 characters, this property will be truncated and the truncated property will be set to _true_. This might also occur if a 140-character tweet was retweeted and became more than 140 characters as a result. \n",
    "| **`user`** \t| The User object representing the user that posted the tweet. [User object JSON properties](https://developer.twitter.com/en/docs/tweets/data-dictionary/overview/user-object)\n",
    "| **`created_at`** \t| The creation date and time in UTC (Coordinated Universal Time) format.\n",
    "| **`entities`** \t| Twitter extracts `hashtag`s, `url`s, `user_mention`s (that is, `@_username_ mentions`), `media` (such as images and videos), `symbols` and `polls` from tweets and places them into the entities dictionary as lists that you can access with these keys. \n",
    "| **`extended_text`** \t| For tweets over 140 characters, contains details such as the tweet’s `full_text` and entities\n",
    "| **`coordinates`** \t| The coordinates (latitude and longitude) from which the tweet was sent. This is often `null` (None in Python) because many users disable sending location data."
   ]
  },
  {
   "cell_type": "markdown",
   "metadata": {
    "slideshow": {
     "slide_type": "subslide"
    }
   },
   "source": [
    "### 2.3. Key Properties of a Tweet Object (2/2)\n",
    "| Attribute \t| Description\n",
    "| :---\t| :---\n",
    "| **`place`** \t| Users can associate a place with a tweet. If they do, this will be a [place object](https://developer.twitter.com/en/docs/tweets/data-dictionary/overview/geo-objects#place-dictionary); otherwise, it’ll be `null` (None in Python).\n",
    "| **`id`**  \t| The integer ID of the tweet. Twitter recommends using `id_str` for portability.\n",
    "| **`id_str`** \t| The string representation of the tweet’s integer ID.\n",
    "| **`lang`** \t| Language of the tweet, such as `'en'` for English or `'fr'` for French.\n",
    "| **`retweet_count`** \t| Number of times other users retweeted the tweet.\n",
    "| **`favorite_count`** \t| Number of times other users favorited the tweet.\n",
    "\n",
    "* [Complete list of the tweet object attributes](https://developer.twitter.com/en/docs/tweets/data-dictionary/overview/tweet-object.html)"
   ]
  },
  {
   "cell_type": "markdown",
   "metadata": {
    "slideshow": {
     "slide_type": "slide"
    }
   },
   "source": [
    "## 3. Sample Tweet JSON \n",
    "* Sample JSON for the following tweet from the `@Northeastern` account: \n",
    ">```\n",
    "Making money doesn't mean you've \"made it\" in the art world. So what does? Find out on \n",
    "@litmuspodcast. #LitmusPodcast @NortheasternCOS @NU_CAMD @NUnetsi @NUGallery360 @barabasi https://t.co/Pmw7k3gwQy\n",
    "```\n",
    "* Some fields in Tweet JSON are not returned by every API method\n",
    "* Differences explained in the online docs \n",
    "* [General overview of all the JSON objects that Twitter APIs return, and links to the specific object details](https://developer.twitter.com/en/docs/tweets/data-dictionary/overview/intro-to-tweet-json)"
   ]
  },
  {
   "cell_type": "markdown",
   "metadata": {
    "slideshow": {
     "slide_type": "subslide"
    }
   },
   "source": [
    "### 3.1. JSON Representation\n",
    "```python   \n",
    "   {\n",
    "    'created_at': 'Sun Sep 29 13:51:00 +0000 2019', \n",
    "    'id': 1178306182227869697, \n",
    "    'id_str': '1178306182227869697', \n",
    "    'full_text': 'Making money doesn\\'t mean you\\'ve \"made it\" in the art world. So what does? Find out on \n",
    "    @litmuspodcast. #LitmusPodcast\\n\\n@NortheasternCOS @NU_CAMD @NUnetsi @NUGallery360 @barabasi https://t.co/Pmw7k3gwQy', \n",
    "    'truncated': False, \n",
    "    'display_text_range': [0, 201], \n",
    "    'entities': {'hashtags': [{'text': 'LitmusPodcast', 'indices': [103, 117]}], 'symbols': [], \n",
    "                 'user_mentions': [{'screen_name': 'litmuspodcast', 'name': 'Litmus Podcast', 'id': 1083118312706445318, \n",
    "               ...\n",
    "   }\n",
    "                                    \n",
    "```                                    "
   ]
  },
  {
   "cell_type": "markdown",
   "metadata": {
    "slideshow": {
     "slide_type": "fragment"
    }
   },
   "source": [
    "* [Complete list of the tweet object attributes](https://developer.twitter.com/en/docs/tweets/data-dictionary/overview/tweet-object.html)"
   ]
  }
 ],
 "metadata": {
  "celltoolbar": "Slideshow",
  "kernelspec": {
   "display_name": "Python 3",
   "language": "python",
   "name": "python3"
  },
  "language_info": {
   "codemirror_mode": {
    "name": "ipython",
    "version": 3
   },
   "file_extension": ".py",
   "mimetype": "text/x-python",
   "name": "python",
   "nbconvert_exporter": "python",
   "pygments_lexer": "ipython3",
   "version": "3.8.3"
  }
 },
 "nbformat": 4,
 "nbformat_minor": 2
}

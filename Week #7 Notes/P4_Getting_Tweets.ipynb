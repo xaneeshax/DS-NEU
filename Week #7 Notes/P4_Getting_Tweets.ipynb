{
 "cells": [
  {
   "cell_type": "markdown",
   "metadata": {},
   "source": [
    "<center> <h2>Getting a User's Recent Tweets </h2></center>"
   ]
  },
  {
   "cell_type": "markdown",
   "metadata": {
    "slideshow": {
     "slide_type": "skip"
    }
   },
   "source": [
    "## Outline\n",
    "1. <a href='#1'>Getting a User's Recent Tweets</a>\n",
    "2. <a href='#2'>Getting Hashtags from a Tweet</a>"
   ]
  },
  {
   "cell_type": "markdown",
   "metadata": {
    "slideshow": {
     "slide_type": "skip"
    }
   },
   "source": [
    "<a id=\"1\"></a>"
   ]
  },
  {
   "cell_type": "markdown",
   "metadata": {
    "slideshow": {
     "slide_type": "slide"
    }
   },
   "source": [
    "## 1. Getting a User's Recent Tweets\n",
    "* Twitter API methods often return collections of objects\n",
    "    * Tweets in **your Twitter timeline**\n",
    "    * Tweets in **another account’s timeline**\n",
    "    * Lists of tweets that match specified search criteria \n",
    "* **Timeline** &mdash; tweets sent by a user and by that user’s friends\n",
    "* Each method’s docs specify max items returned by one call—a **page** of results\n",
    "* JSON responses say **whether there are more pages to get**"
   ]
  },
  {
   "cell_type": "markdown",
   "metadata": {
    "slideshow": {
     "slide_type": "subslide"
    }
   },
   "source": [
    "### Tweepy Cursors\n",
    "* A **`Cursor`** handles **paging** \n",
    "* Invokes a method and **checks if there's another page of results**\n",
    "* If so, automatically calls the method again  \n",
    "* Continues, subject to rate limits, until there are no more results to process\n",
    "* If `API` object configured to **wait on rate limits**, `Cursor`s wait as needed between calls\n",
    "* [Tweepy `Cursor` tutorial](http://docs.tweepy.org/en/latest/cursor_tutorial.html)"
   ]
  },
  {
   "cell_type": "code",
   "execution_count": 1,
   "metadata": {
    "slideshow": {
     "slide_type": "subslide"
    }
   },
   "outputs": [],
   "source": [
    "import tweepy\n",
    "import TwitterCredentials as keys\n",
    "\n",
    "auth = tweepy.OAuthHandler(keys.consumer_API_key, keys.consumer_API_secret_key)\n",
    "auth.set_access_token(keys.access_token, keys.access_token_secret)\n",
    "api = tweepy.API(auth, wait_on_rate_limit=True, wait_on_rate_limit_notify=True)"
   ]
  },
  {
   "cell_type": "markdown",
   "metadata": {
    "slideshow": {
     "slide_type": "subslide"
    }
   },
   "source": [
    "### 1.1. **`user_timeline`** method\n",
    "* The `API` object has a [**`user_timeline`**](http://docs.tweepy.org/en/v3.8.0/api.html?highlight=user_timeline#API.user_timeline) method\n",
    "* Calls Twitter’s [`user_timeline`](https://developer.twitter.com/en/docs/tweets/timelines/api-reference/get-statuses-user_timeline) method\n",
    "* Returns groups of 20 tweets by default\n",
    "* Can request up to 900 at a time \n",
    "* This method can only return up to 3,200 of a user's most recent Tweets"
   ]
  },
  {
   "cell_type": "code",
   "execution_count": 2,
   "metadata": {},
   "outputs": [],
   "source": [
    "cursor = tweepy.Cursor(api.user_timeline, screen_name='Northeastern', tweet_mode='extended')"
   ]
  },
  {
   "cell_type": "markdown",
   "metadata": {},
   "source": [
    "* **tweepy.Cursor**: creates an iterable Cursor object\n",
    "* **api.user_timeline**: specifies the API method to call\n",
    "* **screen_name='Northeastern'**: specifies the account name of the user whose tweets we want to scrape\n",
    "* **tweet_mode = 'extended'**: indicates that longer tweets should remain untruncated"
   ]
  },
  {
   "cell_type": "code",
   "execution_count": 3,
   "metadata": {},
   "outputs": [
    {
     "name": "stdout",
     "output_type": "stream",
     "text": [
      "As an innovator in global banking with extensive experience working in emerging markets, Bill Winters is the Chief Executive of @StanChart. He joins @PresidentAoun for a discussion about business in the age of global change Thursday at 11:30. Watch: https://t.co/OZ0su3lfHs https://t.co/ZyPnXw0ZwW\n",
      "\n",
      "\n",
      ".@NUBouve expert @neilmaniar shares healthy habits that can prevent the spread of #COVID19 as restrictions lift.  https://t.co/6TcbpfN6Ge\n",
      "\n",
      "\n",
      "Provost David Madigan and Chancellor Ken Henderson talk with @HuntNewsNU's @deannaschwartzz and @georgebarker36 about reopening and the fall semester. \n",
      " https://t.co/s5UVHt403P\n",
      "\n",
      "\n"
     ]
    }
   ],
   "source": [
    "cursor = tweepy.Cursor(api.user_timeline, screen_name='Northeastern', tweet_mode='extended')\n",
    "\n",
    "for tweet in cursor.items(3):\n",
    "    print(tweet.full_text)\n",
    "    print(\"\\n\")"
   ]
  },
  {
   "cell_type": "code",
   "execution_count": 4,
   "metadata": {},
   "outputs": [
    {
     "name": "stdout",
     "output_type": "stream",
     "text": [
      "2020-06-18 00:11:36 :\n",
      "\n",
      "\t As an innovator in global banking with extensive experience working in emerging markets, Bill Winters is the Chief Executive of @StanChart. He joins @PresidentAoun for a discussion about business in the age of global change Thursday at 11:30. Watch: https://t.co/OZ0su3lfHs https://t.co/ZyPnXw0ZwW\n",
      "\n",
      "\n",
      "2020-06-17 22:01:24 :\n",
      "\n",
      "\t .@NUBouve expert @neilmaniar shares healthy habits that can prevent the spread of #COVID19 as restrictions lift.  https://t.co/6TcbpfN6Ge\n",
      "\n",
      "\n",
      "2020-06-17 16:19:19 :\n",
      "\n",
      "\t Provost David Madigan and Chancellor Ken Henderson talk with @HuntNewsNU's @deannaschwartzz and @georgebarker36 about reopening and the fall semester. \n",
      " https://t.co/s5UVHt403P\n",
      "\n",
      "\n",
      "2020-06-17 13:31:48 :\n",
      "\n",
      "\t @LLBean @bangorsavings @MaineHealth @IDEXX @TilsonTech @unumnews @PTC @jacksonlab @ttinc\n",
      "\n",
      "\n",
      "2020-06-17 13:27:25 :\n",
      "\n",
      "\t The new facility will be within walking or commuting distance of @RouxInstitute's 10 corporate partners, providing those companies with ready access to educational and research programs that are suited to their specific needs.\n",
      "\n",
      "\n"
     ]
    }
   ],
   "source": [
    "cursor = tweepy.Cursor(api.user_timeline, screen_name='Northeastern', tweet_mode='extended')\n",
    "\n",
    "for tweet in cursor.items(5):\n",
    "    print(tweet.created_at, \":\\n\")\n",
    "    print(\"\\t\", tweet.full_text)\n",
    "    print(\"\\n\")"
   ]
  },
  {
   "cell_type": "markdown",
   "metadata": {
    "slideshow": {
     "slide_type": "skip"
    }
   },
   "source": [
    "<a id=\"2\"></a>"
   ]
  },
  {
   "cell_type": "markdown",
   "metadata": {},
   "source": [
    "## 2. Getting Hashtags from a Tweet\n",
    "* Hashtags reside in the **`entities`** dictionary of the **`Status`** object\n",
    "* Thus we can index the dictionary using \"hashtags\" as the key and this will return the values associated with the key:\n",
    "    * **tweet.entities[\"hashtags\"]**"
   ]
  },
  {
   "cell_type": "code",
   "execution_count": 5,
   "metadata": {},
   "outputs": [
    {
     "name": "stdout",
     "output_type": "stream",
     "text": [
      "[]\n",
      "[]\n",
      "[]\n",
      "[{'text': 'CHI2020', 'indices': [216, 224]}]\n",
      "[]\n"
     ]
    }
   ],
   "source": [
    "cursor = tweepy.Cursor(api.user_timeline, screen_name='KhouryCollege', tweet_mode='extended')\n",
    "\n",
    "for tweet in cursor.items(5):\n",
    "    print(tweet.entities[\"hashtags\"])"
   ]
  },
  {
   "cell_type": "code",
   "execution_count": 6,
   "metadata": {},
   "outputs": [
    {
     "name": "stdout",
     "output_type": "stream",
     "text": [
      "Tweet: \n",
      "\t Join the Khoury Graduate Team this Wednesday, along with current and incoming students, in this panel to learn more about how to prepare for your upcoming co-ops and internships. RSVP here: https://t.co/ZbgbIpydmZ https://t.co/9hq0RPrmE2\n",
      "Hashtags: \n",
      "\n",
      "\n",
      "Tweet: \n",
      "\t Hey Khoury community! Take a look, RSVP, and mark your calendars with these upcoming June events at Khoury. More information can be found on our events webpage: https://t.co/4xssqfAbUK https://t.co/icY1qJR82F\n",
      "Hashtags: \n",
      "\n",
      "\n",
      "Tweet: \n",
      "\t RT @Northeastern: Provost David Madigan and Chancellor Ken Henderson talk with @HuntNewsNU's @deannaschwartzz and @georgebarker36 about reo…\n",
      "Hashtags: \n",
      "\n",
      "\n",
      "Tweet: \n",
      "\t A team from Khoury College and the NU Center of Community Service, led by @michelle_borkin, incorporated data visualization and Service Learning into their research in design studies – leading to Best Paper at ACM’s #CHI2020. Congratulations! Learn more: https://t.co/56zOLtFmJ6 https://t.co/SvKtnwB3S5\n",
      "Hashtags: \n",
      "\t CHI2020 \n",
      "\n",
      "Tweet: \n",
      "\t Join Dean Carla Brodley in a conversation with Dr. Rana el Kaliouby, CEO of Affectiva, as she shares her work on the future of tech and AI in a recent memoir: Girl Decoded: Humanizing Technology before it Dehumanizes Us. 6/18 at 12pm EDT. Register now! https://t.co/ctka2nxwVO https://t.co/sn2BZPXHeH\n",
      "Hashtags: \n",
      "\n",
      "\n"
     ]
    }
   ],
   "source": [
    "cursor = tweepy.Cursor(api.user_timeline, screen_name='KhouryCollege', tweet_mode='extended')\n",
    "\n",
    "for tweet in cursor.items(5):\n",
    "    print(\"Tweet: \")\n",
    "    print(\"\\t\", tweet.full_text)\n",
    "    print(\"Hashtags: \")\n",
    "    \n",
    "    for hashtag in tweet.entities['hashtags']:\n",
    "        print(\"\\t\", hashtag[\"text\"], end=\" \")\n",
    "        \n",
    "        \n",
    "    print(\"\\n\")"
   ]
  },
  {
   "cell_type": "code",
   "execution_count": null,
   "metadata": {},
   "outputs": [],
   "source": []
  }
 ],
 "metadata": {
  "celltoolbar": "Slideshow",
  "kernelspec": {
   "display_name": "Python 3",
   "language": "python",
   "name": "python3"
  },
  "language_info": {
   "codemirror_mode": {
    "name": "ipython",
    "version": 3
   },
   "file_extension": ".py",
   "mimetype": "text/x-python",
   "name": "python",
   "nbconvert_exporter": "python",
   "pygments_lexer": "ipython3",
   "version": "3.8.3"
  }
 },
 "nbformat": 4,
 "nbformat_minor": 2
}

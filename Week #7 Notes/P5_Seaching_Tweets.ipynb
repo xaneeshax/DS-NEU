{
 "cells": [
  {
   "cell_type": "markdown",
   "metadata": {},
   "source": [
    "<center> <h2> Searching Recent Tweets</h2></center>"
   ]
  },
  {
   "cell_type": "markdown",
   "metadata": {
    "slideshow": {
     "slide_type": "skip"
    }
   },
   "source": [
    "## Outline\n",
    "1. <a href='#1'>Searching Recent Tweets</a>\n",
    "2. <a href='#2'>Searching for Specific Words</a>\n",
    "3. <a href='#3'>Searching with Twitter Search Operators</a>\n",
    "4. <a href='#4'>Searching for a Hashtag</a>\n"
   ]
  },
  {
   "cell_type": "markdown",
   "metadata": {
    "slideshow": {
     "slide_type": "skip"
    }
   },
   "source": [
    "<a id=\"1\"></a>"
   ]
  },
  {
   "cell_type": "markdown",
   "metadata": {
    "slideshow": {
     "slide_type": "slide"
    }
   },
   "source": [
    "## 1. Searching Recent Tweets \n",
    "* Via `API` method **`search`** \n",
    "* Returns tweets that **match a query string**\n",
    "* Only for the **previous seven days’ tweets**\n",
    "* Not guaranteed to return all matching tweets\n",
    "* Calls Twitter’s `search/tweets` method\n",
    "* Returns 15 tweets at a time by default, but can return up to 100"
   ]
  },
  {
   "cell_type": "code",
   "execution_count": 1,
   "metadata": {
    "slideshow": {
     "slide_type": "subslide"
    }
   },
   "outputs": [],
   "source": [
    "import tweepy\n",
    "import TwitterCredentials as keys\n",
    "\n",
    "auth = tweepy.OAuthHandler(keys.consumer_API_key, keys.consumer_API_secret_key)\n",
    "auth.set_access_token(keys.access_token, keys.access_token_secret)\n",
    "api = tweepy.API(auth, wait_on_rate_limit=True, wait_on_rate_limit_notify=True)"
   ]
  },
  {
   "cell_type": "markdown",
   "metadata": {},
   "source": [
    "<a id=\"2\"></a>"
   ]
  },
  {
   "cell_type": "markdown",
   "metadata": {
    "slideshow": {
     "slide_type": "slide"
    }
   },
   "source": [
    "## 2. Searching for Specific Words\n",
    "* **`q` keyword argument** specifies the **query string**\n",
    "* By default, searches all recent tweets"
   ]
  },
  {
   "cell_type": "code",
   "execution_count": 2,
   "metadata": {
    "slideshow": {
     "slide_type": "-"
    }
   },
   "outputs": [
    {
     "name": "stdout",
     "output_type": "stream",
     "text": [
      "RT @CT_Bergstrom: Over the past months we've seen so many threads where someone with basic data science or statistical expertise comes in a… \n",
      "\n",
      "RT @CT_Bergstrom: Over the past months we've seen so many threads where someone with basic data science or statistical expertise comes in a… \n",
      "\n",
      "RT @ACEMathStats: Join ACEMS Deputy Director @KerrieMengersen as she hosts a @QUTDataScience in the News Webinar tomorrow (Friday): \"What c… \n",
      "\n",
      "RT @kareem_carr: *a data science haiku*\n",
      "\n",
      "DATA\n",
      "\n",
      "Don't clean bad data\n",
      "You will both get dirty and \n",
      "the data likes it \n",
      "\n",
      "Over the past months we've seen so many threads where someone with basic data science or statistical expertise comes in and cherry-picks the numbers.\n",
      "\n",
      "But never has a world class statistician like Daniela Witten written a thread like this. Read to the end.\n",
      "https://t.co/F75ymoVtc1 \n",
      "\n",
      "This is a slightly strange article, it sounds like computational social science/social data science is something new and yet to come (some good people mentioned in the article though). This is a Science article from 2009: https://t.co/5cZKdKYwAP h/t @nicholaraihani https://t.co/LZHZCX02Cw \n",
      "\n",
      "Science helps us to solve our most human problems \n",
      "\n",
      "READ MORE: https://t.co/sN3E1T0Fjm\n",
      "\n",
      "#Art #Astronomy #BigData #Biology #Chemistry #Class #ComputerScience #data #DataScience #Earth https://t.co/vNIfzYkt6D \n",
      "\n",
      "RT @MsYouDoYou: Not enough people realizing that the “anti-mask” rhetoric is just “anti-vaccine” rhetoric with a visual. The premise is the… \n",
      "\n",
      "RT @MsYouDoYou: Not enough people realizing that the “anti-mask” rhetoric is just “anti-vaccine” rhetoric with a visual. The premise is the… \n",
      "\n",
      "Unbelievable!!!!  #writersblock #journalofappliedbehvaiouranalysis #psychology #science #data #research https://t.co/Nh0VZfInPF \n",
      "\n"
     ]
    }
   ],
   "source": [
    "cursor = tweepy.Cursor(api.search, q='data science', count = 10, tweet_mode='extended')\n",
    "\n",
    "for tweet in cursor.items(10):\n",
    "    print(tweet.full_text, \"\\n\")"
   ]
  },
  {
   "cell_type": "markdown",
   "metadata": {
    "slideshow": {
     "slide_type": "skip"
    }
   },
   "source": [
    "<a id=\"3\"></a>"
   ]
  },
  {
   "cell_type": "markdown",
   "metadata": {
    "slideshow": {
     "slide_type": "slide"
    }
   },
   "source": [
    "## 3. Searching with Twitter Search Operators\n",
    "* Use Twitter search operators to refine search results\n",
    "* The following table shows several Twitter search operators. \n",
    "* Multiple operators can be combined to construct more complex queries. \n",
    "* [For all the operators, click the `operators` link here](https://twitter.com/search-home)"
   ]
  },
  {
   "cell_type": "markdown",
   "metadata": {
    "slideshow": {
     "slide_type": "subslide"
    }
   },
   "source": [
    "| Example&nbsp;&nbsp;&nbsp;&nbsp;&nbsp;&nbsp;&nbsp;&nbsp;&nbsp;&nbsp;&nbsp;&nbsp;&nbsp;&nbsp;&nbsp;&nbsp;&nbsp;&nbsp;&nbsp;&nbsp;&nbsp;&nbsp;&nbsp;&nbsp;&nbsp;&nbsp;&nbsp;&nbsp;&nbsp;&nbsp;&nbsp;&nbsp;&nbsp;&nbsp;&nbsp;&nbsp;&nbsp;&nbsp;\t| Finds tweets containing\n",
    "| :---\t| :---\n",
    "| `magic hogwarts` \t| Implicit _logical and_ operator—Finds tweets containing `magic` _and_ `hogwarts`.\n",
    "| `magic OR hogwarts` \t| Logical `OR` operator—Finds tweets containing `magic` or `hogwarts` or both.\n",
    "| `hogwarts ?` \t| `?` (question mark)—Finds tweets asking questions about `python`.\n",
    "| `magic -hogwarts` \t| `-` (minus sign)—Finds tweets containing `magic` but not `hogwarts`.\n",
    "| `hogwarts :)` \t| `:)` (happy face)—Finds *positive sentiment* tweets containing `hogwarts`.\n",
    "| `hogwarts :(` \t| `:(` (sad face)—Finds *negative sentiment* tweets containing `hogwarts`.\n",
    "| `since:2019-09-29` \t| Finds tweets *on or after* the specified date, which must be in the form `YYYY-MM-DD`.\n",
    "| `near:\"Boston\" `\t| Finds tweets that were sent near `\"Boston\"`.\n",
    "| `from:Northeastern` \t| Finds tweets from the account `@Northeastern`.\n",
    "| `to:Northeastern` \t| Finds tweets to the account `@Northeastern`."
   ]
  },
  {
   "cell_type": "markdown",
   "metadata": {
    "slideshow": {
     "slide_type": "subslide"
    }
   },
   "source": [
    "### 3.1. Searching Tweets by a User"
   ]
  },
  {
   "cell_type": "code",
   "execution_count": 1,
   "metadata": {},
   "outputs": [
    {
     "ename": "NameError",
     "evalue": "name 'tweepy' is not defined",
     "output_type": "error",
     "traceback": [
      "\u001b[1;31m---------------------------------------------------------------------------\u001b[0m",
      "\u001b[1;31mNameError\u001b[0m                                 Traceback (most recent call last)",
      "\u001b[1;32m<ipython-input-1-221c5454b0f5>\u001b[0m in \u001b[0;36m<module>\u001b[1;34m\u001b[0m\n\u001b[1;32m----> 1\u001b[1;33m \u001b[0mcursor\u001b[0m \u001b[1;33m=\u001b[0m \u001b[0mtweepy\u001b[0m\u001b[1;33m.\u001b[0m\u001b[0mCursor\u001b[0m\u001b[1;33m(\u001b[0m\u001b[0mapi\u001b[0m\u001b[1;33m.\u001b[0m\u001b[0msearch\u001b[0m\u001b[1;33m,\u001b[0m \u001b[0mq\u001b[0m\u001b[1;33m=\u001b[0m\u001b[1;34m'from:Northeastern'\u001b[0m\u001b[1;33m,\u001b[0m \u001b[0mcount\u001b[0m \u001b[1;33m=\u001b[0m \u001b[1;36m10\u001b[0m\u001b[1;33m,\u001b[0m \u001b[0mtweet_mode\u001b[0m\u001b[1;33m=\u001b[0m\u001b[1;34m'extended'\u001b[0m\u001b[1;33m)\u001b[0m\u001b[1;33m\u001b[0m\u001b[1;33m\u001b[0m\u001b[0m\n\u001b[0m\u001b[0;32m      2\u001b[0m \u001b[1;33m\u001b[0m\u001b[0m\n\u001b[0;32m      3\u001b[0m \u001b[1;32mfor\u001b[0m \u001b[0mtweet\u001b[0m \u001b[1;32min\u001b[0m \u001b[0mcursor\u001b[0m\u001b[1;33m.\u001b[0m\u001b[0mitems\u001b[0m\u001b[1;33m(\u001b[0m\u001b[1;36m10\u001b[0m\u001b[1;33m)\u001b[0m\u001b[1;33m:\u001b[0m\u001b[1;33m\u001b[0m\u001b[1;33m\u001b[0m\u001b[0m\n\u001b[0;32m      4\u001b[0m     \u001b[0mprint\u001b[0m\u001b[1;33m(\u001b[0m\u001b[0mtweet\u001b[0m\u001b[1;33m.\u001b[0m\u001b[0mfull_text\u001b[0m\u001b[1;33m)\u001b[0m\u001b[1;33m\u001b[0m\u001b[1;33m\u001b[0m\u001b[0m\n",
      "\u001b[1;31mNameError\u001b[0m: name 'tweepy' is not defined"
     ]
    }
   ],
   "source": [
    "cursor = tweepy.Cursor(api.search, q='from:Northeastern', count = 10, tweet_mode='extended')\n",
    "\n",
    "for tweet in cursor.items(10):\n",
    "    print(tweet.full_text)"
   ]
  },
  {
   "cell_type": "markdown",
   "metadata": {
    "slideshow": {
     "slide_type": "subslide"
    }
   },
   "source": [
    "### 3.2. Searching Tweets Containing a Keyword by a User"
   ]
  },
  {
   "cell_type": "code",
   "execution_count": 5,
   "metadata": {},
   "outputs": [],
   "source": [
    "cursor = tweepy.Cursor(api.search, q='student from:Northeastern', count = 10, tweet_mode='extended')\n",
    "\n",
    "for tweet in cursor.items(10):\n",
    "    print(tweet.full_text)"
   ]
  },
  {
   "cell_type": "markdown",
   "metadata": {
    "slideshow": {
     "slide_type": "subslide"
    }
   },
   "source": [
    "### 3.3. Searching Tweets by Date\n",
    "* Use a date within seven days before you execute this code"
   ]
  },
  {
   "cell_type": "code",
   "execution_count": 6,
   "metadata": {},
   "outputs": [
    {
     "name": "stdout",
     "output_type": "stream",
     "text": [
      "As an innovator in global banking with extensive experience working in emerging markets, Bill Winters is the Chief Executive of @StanChart. He joins @PresidentAoun for a discussion about business in the age of global change Thursday at 11:30. Watch: https://t.co/OZ0su3lfHs https://t.co/ZyPnXw0ZwW\n",
      ".@NUBouve expert @neilmaniar shares healthy habits that can prevent the spread of #COVID19 as restrictions lift.  https://t.co/6TcbpfN6Ge\n",
      "Provost David Madigan and Chancellor Ken Henderson talk with @HuntNewsNU's @deannaschwartzz and @georgebarker36 about reopening and the fall semester. \n",
      " https://t.co/s5UVHt403P\n",
      "@LLBean @bangorsavings @MaineHealth @IDEXX @TilsonTech @unumnews @PTC @jacksonlab @ttinc\n",
      "The new facility will be within walking or commuting distance of @RouxInstitute's 10 corporate partners, providing those companies with ready access to educational and research programs that are suited to their specific needs.\n",
      "The @RouxInstitute partners with @WEXIncNews to open this fall in a new facility in @CityPortland.  https://t.co/trUfKSjreV\n",
      "When @MyBrothersTable staff members had to change how they serve their guests, @NUMarSci volunteers helped them make it happen.  https://t.co/hLM95FCoBs\n",
      "LIVE: @NUBouve's Lichuan Ye shares strategies for better sleep: https://t.co/GzVHhsOrE2. https://t.co/GYznJEhopo\n",
      "A team of Northeastern researchers used virus-like nanoparticles to test more than 70 combinations of fabrics that can stop the coronavirus from getting through. Here's what they found.  https://t.co/EMAUfQM1T6\n",
      "\"We need to recognize that we're at a point in history where we can make change,\" says @NU_PolicySchool's Ted Landsmark. Hear his story here.  https://t.co/nUEazHyfi7\n"
     ]
    }
   ],
   "source": [
    "cursor = tweepy.Cursor(api.search, q='from:Northeastern since:2020-06-03', count = 10, tweet_mode='extended')\n",
    "\n",
    "for tweet in cursor.items(10):\n",
    "    print(tweet.full_text)"
   ]
  },
  {
   "cell_type": "markdown",
   "metadata": {
    "slideshow": {
     "slide_type": "slide"
    }
   },
   "source": [
    "## 4. Searching for a Hashtag\n",
    "* A **hashtag marked with `#`** indicates something of importance, like a trending topic"
   ]
  },
  {
   "cell_type": "code",
   "execution_count": 7,
   "metadata": {},
   "outputs": [
    {
     "name": "stdout",
     "output_type": "stream",
     "text": [
      "RT @SAILatNU: Join us in a faculty-led conversation on 6/18 with Jack McDevitt, PhD, in a very relevant conversation around Police reform a…\n",
      "Join us in a faculty-led conversation on 6/18 with Jack McDevitt, PhD, in a very relevant conversation around Police reform and what that looks like in these times. Register in SAIL. @NortheasternCPS  #NortheasternUniversity https://t.co/PcLbVtoQ7s\n",
      "The Master of Science in Project Management is designed to provide you with the theoretical concepts and practical skills you need to lead complex projects successfully. Applications are open now!\n",
      "Hurry up!\n",
      "#studyplus #studyabroad #northeasternuniversity https://t.co/X7liZVCTyG\n",
      "New Partnership with the #NationalActionCouncilforMinoritiesinEngineering - #NortheasternUniversity College of #Engineering https://t.co/R41iRJz5Nv\n",
      "Join this Global Learner Support workshop on 6/17 at 12PM (PDT) / 3PM (EDT) to learn the basics of presentation design, APA style of citation, virtual presentation skills, and more! Log in to SAIL for more info. #NortheasternSAIL #NortheasternUniversity https://t.co/FHurtoTzch\n",
      "RT @NortheasternCOE: Mary Jo Ondrechen, Mona Minkara, and Steven Lopez were awarded a $73K NSF RAPID grant for “Undergraduate Research in M…\n",
      "Mary Jo Ondrechen, Mona Minkara, and Steven Lopez were awarded a $73K NSF RAPID grant for “Undergraduate Research in Modeling and Computation for Discovery of Molecular Probes for SARS-CoV-2 Proteins.”\n",
      "https://t.co/xytARJlHzD\n",
      "#nucoe #covidresearch #northeasternuniversity https://t.co/ks22pfBWGX\n",
      "Black Health Matters is a collaborative effort by groups from NU to raise money for grassroots organizations dedicated to improving the health statuses of Black and LGBTQ+ communities. They aim to achieve their goal through a Contact-A-Thon. #northeasternuniversity https://t.co/6dpRMJb02r\n",
      "Want to learn virtual work tips for your co-op? Join the DMSB Cooperative Education Team and Employer Engagement and Career Design for: Virtual Work Tips for Co-op Students, on 6/16. Log into SAIL for more information. #NortheasternSAIL #NortheasternUniversity https://t.co/0l0ixbtTQP\n",
      "The S-POWER scholars program helped Juan Mesa, a rising senior studying mechanical engineering, find a true community and gave him the opportunity to become the best version of himself.\n",
      "https://t.co/f8ALtCcFcT\n",
      "#nucoe #nuexperience #northeasternuniversity #s-power https://t.co/B8eqYFXOy6\n"
     ]
    }
   ],
   "source": [
    "cursor = tweepy.Cursor(api.search, q='#NortheasternUniversity', count=10, tweet_mode='extended')\n",
    "\n",
    "for tweet in cursor.items(10):\n",
    "    print(tweet.full_text)"
   ]
  },
  {
   "cell_type": "code",
   "execution_count": null,
   "metadata": {},
   "outputs": [],
   "source": []
  }
 ],
 "metadata": {
  "celltoolbar": "Slideshow",
  "kernelspec": {
   "display_name": "Python 3",
   "language": "python",
   "name": "python3"
  },
  "language_info": {
   "codemirror_mode": {
    "name": "ipython",
    "version": 3
   },
   "file_extension": ".py",
   "mimetype": "text/x-python",
   "name": "python",
   "nbconvert_exporter": "python",
   "pygments_lexer": "ipython3",
   "version": "3.8.3"
  }
 },
 "nbformat": 4,
 "nbformat_minor": 2
}

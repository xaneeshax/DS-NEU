{
 "cells": [
  {
   "cell_type": "code",
   "execution_count": null,
   "id": "120f45d6",
   "metadata": {},
   "outputs": [],
   "source": [
    "\n",
    "\n",
    "\n",
    "def add(x,y):\n",
    "    assert type(x) == int and type(y) == int, 'integer parameters expected'\n",
    "    return x + y\n",
    "\n",
    "def main():\n",
    "    print('Assertion demo')\n",
    "    try:\n",
    "        print(add(2, '3'))\n",
    "    except AssertionError:\n",
    "        print('something went wrong')\n",
    "        \n",
    "\n",
    "\n",
    "\n",
    "if __name__ ='__name__':\n",
    "    main()"
   ]
  },
  {
   "cell_type": "code",
   "execution_count": 11,
   "id": "3f1c3bcd",
   "metadata": {},
   "outputs": [],
   "source": [
    "from datetime import datetime\n",
    "def days_between(d1, d2):\n",
    "    d1 = datetime.strptime(d1, \"%Y-%m-%d\")\n",
    "    d2 = datetime.strptime(d2, \"%Y-%m-%d\")\n",
    "    return (d2 - d1).days"
   ]
  },
  {
   "cell_type": "code",
   "execution_count": 14,
   "id": "4ce7b1ea",
   "metadata": {},
   "outputs": [
    {
     "data": {
      "text/plain": [
       "3"
      ]
     },
     "execution_count": 14,
     "metadata": {},
     "output_type": "execute_result"
    }
   ],
   "source": [
    "days_between('2021-09-11', '2021-09-14')"
   ]
  },
  {
   "cell_type": "code",
   "execution_count": null,
   "id": "756bcc57",
   "metadata": {},
   "outputs": [],
   "source": []
  }
 ],
 "metadata": {
  "kernelspec": {
   "display_name": "Python 3",
   "language": "python",
   "name": "python3"
  },
  "language_info": {
   "codemirror_mode": {
    "name": "ipython",
    "version": 3
   },
   "file_extension": ".py",
   "mimetype": "text/x-python",
   "name": "python",
   "nbconvert_exporter": "python",
   "pygments_lexer": "ipython3",
   "version": "3.8.8"
  }
 },
 "nbformat": 4,
 "nbformat_minor": 5
}

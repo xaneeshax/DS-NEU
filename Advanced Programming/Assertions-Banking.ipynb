{
 "cells": [
  {
   "cell_type": "code",
   "execution_count": 1,
   "id": "857f08cf",
   "metadata": {},
   "outputs": [],
   "source": [
    "def mean(L):\n",
    "    if len(L) > 0:\n",
    "        return sum(L) / len(L)\n",
    "    else:\n",
    "        return None\n",
    "    \n",
    "def mean(L):\n",
    "    try:\n",
    "        avg = sum(L) / len(L)\n",
    "        # will throw an assertion error\n",
    "        assert L[0] == 1, 'Expecting 1 as first element'\n",
    "        raise\n",
    "    except ZeroDivisionError:\n",
    "        print('Division by zero error')\n",
    "    except TypeError:\n",
    "        print('The mean function expects a list of numbers')\n",
    "    except Exception as e:\n",
    "        # handles all other exceptions\n",
    "        print('Something else went wrong')\n",
    "        print(\"Error: \", str(e))\n",
    "    else:\n",
    "        print('In else clause - nothing went wrong')\n",
    "        return avg\n",
    "    finally:\n",
    "        print(\"Shutting down connection maybe??\")\n",
    "        "
   ]
  },
  {
   "cell_type": "code",
   "execution_count": 3,
   "id": "ecce3b28",
   "metadata": {},
   "outputs": [
    {
     "name": "stdout",
     "output_type": "stream",
     "text": [
      "In else clause - nothing went wrong\n",
      "Shutting down connection maybe??\n"
     ]
    }
   ],
   "source": [
    "mylist = [1,2,3,4,5]\n",
    "yo = mean(mylist)"
   ]
  },
  {
   "cell_type": "code",
   "execution_count": 4,
   "id": "11cbaffc",
   "metadata": {},
   "outputs": [
    {
     "data": {
      "text/plain": [
       "3.0"
      ]
     },
     "execution_count": 4,
     "metadata": {},
     "output_type": "execute_result"
    }
   ],
   "source": [
    "yo"
   ]
  },
  {
   "cell_type": "code",
   "execution_count": 5,
   "id": "ace5c8a1",
   "metadata": {},
   "outputs": [
    {
     "name": "stdout",
     "output_type": "stream",
     "text": [
      "Division by zero error\n",
      "Shutting down connection maybe??\n"
     ]
    }
   ],
   "source": [
    "mean([])"
   ]
  },
  {
   "cell_type": "code",
   "execution_count": 16,
   "id": "016b45d3",
   "metadata": {},
   "outputs": [],
   "source": [
    "# Raise exceptions with custom messages\n",
    "def mean(L):\n",
    "    if len(L) == 0:\n",
    "        raise ValueError(\"mean function expects a nnnon-empty list\")\n",
    "    if type(L) != list:\n",
    "        raise ValueError('mean function expects a list')\n",
    "        \n",
    "    return sum(L) / len(L)"
   ]
  },
  {
   "cell_type": "code",
   "execution_count": 17,
   "id": "eb0d64e3",
   "metadata": {},
   "outputs": [
    {
     "name": "stdout",
     "output_type": "stream",
     "text": [
      "ValueError :  mean function expects a nnnon-empty list\n"
     ]
    }
   ],
   "source": [
    "import traceback\n",
    "\n",
    "try:\n",
    "    L = []\n",
    "    mean(L)\n",
    "except Exception as e:\n",
    "    print(type(e).__name__, ': ',str(e), sep=\" \" )\n",
    "    #traceback.print_exc()"
   ]
  },
  {
   "cell_type": "code",
   "execution_count": null,
   "id": "d6d2f03b",
   "metadata": {},
   "outputs": [],
   "source": [
    "# without exception handling\n",
    "class Account:\n",
    "    \n",
    "    def __init__(self, starting_balance):\n",
    "        self.balance = balance\n",
    "        \n",
    "    def deposit(self, amt):\n",
    "        self.balance += amt\n",
    "        \n",
    "    def withdraw(self, amt):\n",
    "        if self.balance >= amt:\n",
    "            self.balance -= amt\n",
    "            return True\n",
    "        else:\n",
    "            return False\n",
    "        \n",
    "    def get_balance(self):\n",
    "        return self.balance"
   ]
  },
  {
   "cell_type": "code",
   "execution_count": null,
   "id": "1daff88d",
   "metadata": {},
   "outputs": [],
   "source": [
    "# Banking App\n",
    "\n",
    "\n",
    "# from account import *\n",
    "\n",
    "class Account2:\n",
    "    \n",
    "    def __init__(self, starting_balance):\n",
    "        self.balance = balance\n",
    "        \n",
    "    def deposit(self, amt):\n",
    "        self.balance += amt\n",
    "        \n",
    "    def withdraw(self, amt):\n",
    "        if self.balance < amt:\n",
    "            raise Insufficient(self.balance, amt)\n",
    "            \n",
    "        #assert(self.balance >= amt)\n",
    "        self.balance -= amt\n",
    "\n",
    "        \n",
    "    def get_balance(self):\n",
    "        return self.balance\n",
    "    \n",
    "def account_test():\n",
    "    acct= Account2(100)\n",
    "    acct.deposit(25.50)\n",
    "    \n",
    "    try:\n",
    "        acct.withdraw(125)\n",
    "    except AssertionError as e:\n",
    "        print(str(e))\n",
    "        print(acct.get_balance())\n",
    "        \n",
    "def account_test():\n",
    "    acct= Account2(100)\n",
    "    acct.deposit(25.50)\n",
    "    \n",
    "    try:\n",
    "        acct.withdraw(125)\n",
    "    except Insufficient as e:\n",
    "        print(e)\n",
    "        print(f\"Overdrawn Amount: {e.overage()}\")\n",
    "        \n",
    "\n",
    "class Insufficient(Exception):\n",
    "    def __init__(self, balance, amt):\n",
    "        super().__init__(f\"Insufficent funds. Balance: {balance}, Requested {amt}\")\n",
    "        self.balance = balance\n",
    "        self.amt = amt\n",
    "        \n",
    "    def overage(self):\n",
    "        return self.amt - self.balance\n",
    "        \n",
    "            \n"
   ]
  }
 ],
 "metadata": {
  "kernelspec": {
   "display_name": "Python 3",
   "language": "python",
   "name": "python3"
  },
  "language_info": {
   "codemirror_mode": {
    "name": "ipython",
    "version": 3
   },
   "file_extension": ".py",
   "mimetype": "text/x-python",
   "name": "python",
   "nbconvert_exporter": "python",
   "pygments_lexer": "ipython3",
   "version": "3.8.8"
  }
 },
 "nbformat": 4,
 "nbformat_minor": 5
}

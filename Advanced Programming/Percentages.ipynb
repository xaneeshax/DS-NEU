{
 "cells": [
  {
   "cell_type": "code",
   "execution_count": 1,
   "id": "6c303638",
   "metadata": {},
   "outputs": [],
   "source": [
    "from treys import Card\n",
    "from treys import Evaluator\n",
    "evaluator = Evaluator()"
   ]
  },
  {
   "cell_type": "code",
   "execution_count": 2,
   "id": "f6e7a7e8",
   "metadata": {},
   "outputs": [],
   "source": [
    "player1_hand = [\n",
    "     Card.new('3s'),\n",
    "     Card.new('Kd')\n",
    "]\n",
    "\n",
    "player2_hand = [\n",
    "     Card.new('9h'),\n",
    "     Card.new('8d')\n",
    "]\n",
    "\n",
    "board = [\n",
    "     Card.new('Ac'),\n",
    "     Card.new('Kh'),\n",
    "     Card.new('Kc'),\n",
    "    Card.new('4s'),\n",
    "    Card.new('2h')\n",
    "    \n",
    "]"
   ]
  },
  {
   "cell_type": "code",
   "execution_count": 7,
   "id": "5bb6cb9d",
   "metadata": {},
   "outputs": [
    {
     "data": {
      "text/plain": [
       "1684"
      ]
     },
     "execution_count": 7,
     "metadata": {},
     "output_type": "execute_result"
    }
   ],
   "source": [
    "p1_score = evaluator.evaluate(board, player1_hand)\n",
    "p1_score"
   ]
  },
  {
   "cell_type": "code",
   "execution_count": 12,
   "id": "b88bc5f5",
   "metadata": {},
   "outputs": [
    {
     "data": {
      "text/plain": [
       "3573"
      ]
     },
     "execution_count": 12,
     "metadata": {},
     "output_type": "execute_result"
    }
   ],
   "source": [
    "p2_score = evaluator.evaluate(board, player2_hand)\n",
    "p2_score"
   ]
  },
  {
   "cell_type": "code",
   "execution_count": 8,
   "id": "e0607d7d",
   "metadata": {},
   "outputs": [
    {
     "data": {
      "text/plain": [
       "6"
      ]
     },
     "execution_count": 8,
     "metadata": {},
     "output_type": "execute_result"
    }
   ],
   "source": [
    "p1_class = evaluator.get_rank_class(p1_score)\n",
    "p1_class"
   ]
  },
  {
   "cell_type": "code",
   "execution_count": 13,
   "id": "f8e55967",
   "metadata": {},
   "outputs": [
    {
     "data": {
      "text/plain": [
       "8"
      ]
     },
     "execution_count": 13,
     "metadata": {},
     "output_type": "execute_result"
    }
   ],
   "source": [
    "p2_class = evaluator.get_rank_class(p2_score)\n",
    "p2_class"
   ]
  },
  {
   "cell_type": "code",
   "execution_count": 3,
   "id": "f30ee7a7",
   "metadata": {},
   "outputs": [
    {
     "data": {
      "text/plain": [
       "'Three of a Kind'"
      ]
     },
     "execution_count": 3,
     "metadata": {},
     "output_type": "execute_result"
    }
   ],
   "source": [
    "p1_score = evaluator.evaluate(board, player1_hand)\n",
    "p1_class = evaluator.get_rank_class(p1_score)\n",
    "evaluator.class_to_string(p1_class)"
   ]
  },
  {
   "cell_type": "code",
   "execution_count": 9,
   "id": "ae768519",
   "metadata": {},
   "outputs": [
    {
     "name": "stdout",
     "output_type": "stream",
     "text": [
      "Player 1 hand rank = 1684 (Three of a Kind)\n",
      "\n"
     ]
    }
   ],
   "source": [
    "print(\"Player 1 hand rank = %d (%s)\\n\" % (p1_score, evaluator.class_to_string(p1_class)))"
   ]
  },
  {
   "cell_type": "code",
   "execution_count": 14,
   "id": "775b5dc1",
   "metadata": {},
   "outputs": [
    {
     "name": "stdout",
     "output_type": "stream",
     "text": [
      "Player 1 hand rank = 3573 (Pair)\n",
      "\n"
     ]
    }
   ],
   "source": [
    "print(\"Player 1 hand rank = %d (%s)\\n\" % (p2_score, evaluator.class_to_string(p2_class)))"
   ]
  },
  {
   "cell_type": "code",
   "execution_count": 11,
   "id": "e66d30df",
   "metadata": {},
   "outputs": [
    {
     "name": "stdout",
     "output_type": "stream",
     "text": [
      "========== FLOP ==========\n",
      "Player 1 hand = Three of a Kind, percentage rank among all hands = 0.7741892254087376\n",
      "Player 2 hand = Pair, percentage rank among all hands = 0.5211739480032163\n",
      "Player 1 hand is currently winning.\n",
      "\n",
      "========== TURN ==========\n",
      "Player 1 hand = Three of a Kind, percentage rank among all hands = 0.7743232377378719\n",
      "Player 2 hand = Pair, percentage rank among all hands = 0.5211739480032163\n",
      "Player 1 hand is currently winning.\n",
      "\n",
      "========== RIVER ==========\n",
      "Player 1 hand = Three of a Kind, percentage rank among all hands = 0.7743232377378719\n",
      "Player 2 hand = Pair, percentage rank among all hands = 0.5211739480032163\n",
      "\n",
      "========== HAND OVER ==========\n",
      "Player 1 is the winner with a Three of a Kind\n",
      "\n"
     ]
    }
   ],
   "source": [
    "evaluator.hand_summary(board, [player1_hand, player2_hand])"
   ]
  },
  {
   "cell_type": "code",
   "execution_count": 10,
   "id": "47c64e87",
   "metadata": {},
   "outputs": [
    {
     "data": {
      "text/plain": [
       "0.7743232377378719"
      ]
     },
     "execution_count": 10,
     "metadata": {},
     "output_type": "execute_result"
    }
   ],
   "source": [
    "p1_score = evaluator.evaluate(board, player1_hand)\n",
    "1.0 - float(p1_score) / 7462"
   ]
  },
  {
   "cell_type": "code",
   "execution_count": 15,
   "id": "fb839082",
   "metadata": {},
   "outputs": [
    {
     "data": {
      "text/plain": [
       "0.5211739480032163"
      ]
     },
     "execution_count": 15,
     "metadata": {},
     "output_type": "execute_result"
    }
   ],
   "source": [
    "1.0 - float(p2_score) / 7462"
   ]
  },
  {
   "cell_type": "code",
   "execution_count": null,
   "id": "cfbcb31f",
   "metadata": {},
   "outputs": [],
   "source": [
    "percentage = 1.0 - get_five_card_rank_percentage(rank)"
   ]
  }
 ],
 "metadata": {
  "kernelspec": {
   "display_name": "Python 3",
   "language": "python",
   "name": "python3"
  },
  "language_info": {
   "codemirror_mode": {
    "name": "ipython",
    "version": 3
   },
   "file_extension": ".py",
   "mimetype": "text/x-python",
   "name": "python",
   "nbconvert_exporter": "python",
   "pygments_lexer": "ipython3",
   "version": "3.8.8"
  }
 },
 "nbformat": 4,
 "nbformat_minor": 5
}

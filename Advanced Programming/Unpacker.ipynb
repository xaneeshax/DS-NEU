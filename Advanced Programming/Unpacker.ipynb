{
 "cells": [
  {
   "cell_type": "code",
   "execution_count": null,
   "id": "c546ea9c",
   "metadata": {},
   "outputs": [],
   "source": [
    "col_maxes = [max(col) for col in zip(*grid)]"
   ]
  },
  {
   "cell_type": "code",
   "execution_count": 1,
   "id": "a53a4b76",
   "metadata": {},
   "outputs": [],
   "source": [
    "grid = [[3,0,8,4],[2,4,5,7],[9,2,6,3],[0,3,1,0]]"
   ]
  },
  {
   "cell_type": "code",
   "execution_count": 2,
   "id": "7e824e30",
   "metadata": {},
   "outputs": [
    {
     "data": {
      "text/plain": [
       "[9, 4, 8, 7]"
      ]
     },
     "execution_count": 2,
     "metadata": {},
     "output_type": "execute_result"
    }
   ],
   "source": [
    "[max(col) for col in zip(*grid)]"
   ]
  },
  {
   "cell_type": "code",
   "execution_count": 5,
   "id": "4ed369bd",
   "metadata": {},
   "outputs": [
    {
     "name": "stdout",
     "output_type": "stream",
     "text": [
      "(3, 2, 9, 0)\n",
      "(0, 4, 2, 3)\n",
      "(8, 5, 6, 1)\n",
      "(4, 7, 3, 0)\n"
     ]
    },
    {
     "data": {
      "text/plain": [
       "[None, None, None, None]"
      ]
     },
     "execution_count": 5,
     "metadata": {},
     "output_type": "execute_result"
    }
   ],
   "source": [
    "[print(col) for col in zip(*grid)]"
   ]
  },
  {
   "cell_type": "code",
   "execution_count": 7,
   "id": "d68faafc",
   "metadata": {},
   "outputs": [
    {
     "name": "stdout",
     "output_type": "stream",
     "text": [
      "(3, 2, 9, 0)\n",
      "(0, 4, 2, 3)\n",
      "(8, 5, 6, 1)\n",
      "(4, 7, 3, 0)\n"
     ]
    },
    {
     "data": {
      "text/plain": [
       "[None, None, None, None]"
      ]
     },
     "execution_count": 7,
     "metadata": {},
     "output_type": "execute_result"
    }
   ],
   "source": [
    "[print(col) for col in zip(*grid)]"
   ]
  },
  {
   "cell_type": "code",
   "execution_count": 8,
   "id": "b1369be9",
   "metadata": {},
   "outputs": [],
   "source": [
    "matrix = [[1,2,3],\n",
    "          [4,5,6],\n",
    "          [7,8,9]]"
   ]
  },
  {
   "cell_type": "code",
   "execution_count": 9,
   "id": "6ba14c90",
   "metadata": {},
   "outputs": [],
   "source": [
    "matrix = [list(col[::-1]) for col in zip(*matrix)]"
   ]
  },
  {
   "cell_type": "code",
   "execution_count": 10,
   "id": "00a3b303",
   "metadata": {},
   "outputs": [
    {
     "data": {
      "text/plain": [
       "[[7, 4, 1], [8, 5, 2], [9, 6, 3]]"
      ]
     },
     "execution_count": 10,
     "metadata": {},
     "output_type": "execute_result"
    }
   ],
   "source": [
    "matrix"
   ]
  },
  {
   "cell_type": "code",
   "execution_count": 15,
   "id": "514c832f",
   "metadata": {},
   "outputs": [
    {
     "data": {
      "text/plain": [
       "{'c', 'd', 'e', 'l', 'o', 't', 'v'}"
      ]
     },
     "execution_count": 15,
     "metadata": {},
     "output_type": "execute_result"
    }
   ],
   "source": [
    "set(\"loveleetcode\") "
   ]
  },
  {
   "cell_type": "code",
   "execution_count": 13,
   "id": "2f285dc2",
   "metadata": {},
   "outputs": [
    {
     "data": {
      "text/plain": [
       "True"
      ]
     },
     "execution_count": 13,
     "metadata": {},
     "output_type": "execute_result"
    }
   ],
   "source": [
    "set(\"rat\") == set(\"tar\") "
   ]
  },
  {
   "cell_type": "code",
   "execution_count": 12,
   "id": "add998bd",
   "metadata": {},
   "outputs": [
    {
     "data": {
      "text/plain": [
       "[[5, 10], [2, 5], [4, 7], [3, 9]]"
      ]
     },
     "execution_count": 12,
     "metadata": {},
     "output_type": "execute_result"
    }
   ],
   "source": [
    "x = [[5,10],[2,5],[4,7],[3,9]]\n",
    "x"
   ]
  },
  {
   "cell_type": "code",
   "execution_count": 14,
   "id": "2291623e",
   "metadata": {},
   "outputs": [
    {
     "data": {
      "text/plain": [
       "[[5, 10], [3, 9], [4, 7], [2, 5]]"
      ]
     },
     "execution_count": 14,
     "metadata": {},
     "output_type": "execute_result"
    }
   ],
   "source": [
    "x = sorted(x, key=lambda x:x[1])[::-1]"
   ]
  },
  {
   "cell_type": "code",
   "execution_count": null,
   "id": "6d3fcaf3",
   "metadata": {},
   "outputs": [],
   "source": []
  }
 ],
 "metadata": {
  "kernelspec": {
   "display_name": "Python 3",
   "language": "python",
   "name": "python3"
  },
  "language_info": {
   "codemirror_mode": {
    "name": "ipython",
    "version": 3
   },
   "file_extension": ".py",
   "mimetype": "text/x-python",
   "name": "python",
   "nbconvert_exporter": "python",
   "pygments_lexer": "ipython3",
   "version": "3.8.8"
  }
 },
 "nbformat": 4,
 "nbformat_minor": 5
}

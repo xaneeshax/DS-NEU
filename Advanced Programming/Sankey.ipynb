{
 "cells": [
  {
   "cell_type": "code",
   "execution_count": 104,
   "id": "49cbb102",
   "metadata": {},
   "outputs": [],
   "source": [
    "import plotly.graph_objects as go\n",
    "import json"
   ]
  },
  {
   "cell_type": "code",
   "execution_count": 105,
   "id": "674d5bd4",
   "metadata": {},
   "outputs": [],
   "source": [
    "# Opening JSON file\n",
    "f = open('Artists.json', encoding=\"utf8\")\n",
    " \n",
    "# returns JSON object as\n",
    "# a dictionary\n",
    "data = json.load(f)"
   ]
  },
  {
   "cell_type": "code",
   "execution_count": 106,
   "id": "16ab223d",
   "metadata": {},
   "outputs": [],
   "source": [
    "data = [[data[\"Nationality\"], data[\"Gender\"], data[\"BeginDate\"]] for data in data]"
   ]
  },
  {
   "cell_type": "code",
   "execution_count": 107,
   "id": "43be3a2b",
   "metadata": {},
   "outputs": [],
   "source": [
    "import pandas as pd\n",
    "df = pd.DataFrame(data, columns =[\"nationality\", \"gender\", 'year'])"
   ]
  },
  {
   "cell_type": "code",
   "execution_count": 108,
   "id": "82116fe0",
   "metadata": {},
   "outputs": [
    {
     "data": {
      "text/html": [
       "<div>\n",
       "<style scoped>\n",
       "    .dataframe tbody tr th:only-of-type {\n",
       "        vertical-align: middle;\n",
       "    }\n",
       "\n",
       "    .dataframe tbody tr th {\n",
       "        vertical-align: top;\n",
       "    }\n",
       "\n",
       "    .dataframe thead th {\n",
       "        text-align: right;\n",
       "    }\n",
       "</style>\n",
       "<table border=\"1\" class=\"dataframe\">\n",
       "  <thead>\n",
       "    <tr style=\"text-align: right;\">\n",
       "      <th></th>\n",
       "      <th>nationality</th>\n",
       "      <th>gender</th>\n",
       "      <th>year</th>\n",
       "    </tr>\n",
       "  </thead>\n",
       "  <tbody>\n",
       "    <tr>\n",
       "      <th>0</th>\n",
       "      <td>American</td>\n",
       "      <td>Male</td>\n",
       "      <td>1930</td>\n",
       "    </tr>\n",
       "    <tr>\n",
       "      <th>1</th>\n",
       "      <td>Spanish</td>\n",
       "      <td>Male</td>\n",
       "      <td>1936</td>\n",
       "    </tr>\n",
       "    <tr>\n",
       "      <th>2</th>\n",
       "      <td>American</td>\n",
       "      <td>Male</td>\n",
       "      <td>1941</td>\n",
       "    </tr>\n",
       "    <tr>\n",
       "      <th>3</th>\n",
       "      <td>American</td>\n",
       "      <td>Male</td>\n",
       "      <td>1946</td>\n",
       "    </tr>\n",
       "    <tr>\n",
       "      <th>4</th>\n",
       "      <td>Danish</td>\n",
       "      <td>Male</td>\n",
       "      <td>1941</td>\n",
       "    </tr>\n",
       "  </tbody>\n",
       "</table>\n",
       "</div>"
      ],
      "text/plain": [
       "  nationality gender  year\n",
       "0    American   Male  1930\n",
       "1     Spanish   Male  1936\n",
       "2    American   Male  1941\n",
       "3    American   Male  1946\n",
       "4      Danish   Male  1941"
      ]
     },
     "execution_count": 108,
     "metadata": {},
     "output_type": "execute_result"
    }
   ],
   "source": [
    "df.head()"
   ]
  },
  {
   "cell_type": "code",
   "execution_count": 109,
   "id": "c80c191e",
   "metadata": {},
   "outputs": [],
   "source": [
    "df = df[df.year != 0]"
   ]
  },
  {
   "cell_type": "code",
   "execution_count": 110,
   "id": "1e499b43",
   "metadata": {},
   "outputs": [],
   "source": [
    "df.year = df.year.apply(lambda x : x - x % 10)"
   ]
  },
  {
   "cell_type": "code",
   "execution_count": 111,
   "id": "3f83666b",
   "metadata": {},
   "outputs": [],
   "source": [
    "cols = list(set(list(df.nationality) + list(df.gender) + list(df.year)))"
   ]
  },
  {
   "cell_type": "code",
   "execution_count": 112,
   "id": "d636712f",
   "metadata": {},
   "outputs": [],
   "source": [
    "mapper = {col : i for i, col in enumerate(cols)}"
   ]
  },
  {
   "cell_type": "code",
   "execution_count": 114,
   "id": "db8297d8",
   "metadata": {},
   "outputs": [
    {
     "data": {
      "text/html": [
       "<div>\n",
       "<style scoped>\n",
       "    .dataframe tbody tr th:only-of-type {\n",
       "        vertical-align: middle;\n",
       "    }\n",
       "\n",
       "    .dataframe tbody tr th {\n",
       "        vertical-align: top;\n",
       "    }\n",
       "\n",
       "    .dataframe thead th {\n",
       "        text-align: right;\n",
       "    }\n",
       "</style>\n",
       "<table border=\"1\" class=\"dataframe\">\n",
       "  <thead>\n",
       "    <tr style=\"text-align: right;\">\n",
       "      <th></th>\n",
       "      <th>nationality</th>\n",
       "      <th>year</th>\n",
       "      <th>gender</th>\n",
       "    </tr>\n",
       "  </thead>\n",
       "  <tbody>\n",
       "    <tr>\n",
       "      <th>0</th>\n",
       "      <td>Afghan</td>\n",
       "      <td>1970</td>\n",
       "      <td>1</td>\n",
       "    </tr>\n",
       "    <tr>\n",
       "      <th>1</th>\n",
       "      <td>Albanian</td>\n",
       "      <td>1960</td>\n",
       "      <td>3</td>\n",
       "    </tr>\n",
       "    <tr>\n",
       "      <th>2</th>\n",
       "      <td>Albanian</td>\n",
       "      <td>1970</td>\n",
       "      <td>1</td>\n",
       "    </tr>\n",
       "    <tr>\n",
       "      <th>3</th>\n",
       "      <td>Algerian</td>\n",
       "      <td>1920</td>\n",
       "      <td>1</td>\n",
       "    </tr>\n",
       "    <tr>\n",
       "      <th>4</th>\n",
       "      <td>Algerian</td>\n",
       "      <td>1950</td>\n",
       "      <td>3</td>\n",
       "    </tr>\n",
       "  </tbody>\n",
       "</table>\n",
       "</div>"
      ],
      "text/plain": [
       "  nationality  year  gender\n",
       "0      Afghan  1970       1\n",
       "1    Albanian  1960       3\n",
       "2    Albanian  1970       1\n",
       "3    Algerian  1920       1\n",
       "4    Algerian  1950       3"
      ]
     },
     "execution_count": 114,
     "metadata": {},
     "output_type": "execute_result"
    }
   ],
   "source": [
    "count1 = df.groupby([\"nationality\", \"year\"]).count().reset_index()\n",
    "count1.head()"
   ]
  },
  {
   "cell_type": "code",
   "execution_count": 115,
   "id": "38e12876",
   "metadata": {},
   "outputs": [
    {
     "data": {
      "text/html": [
       "<div>\n",
       "<style scoped>\n",
       "    .dataframe tbody tr th:only-of-type {\n",
       "        vertical-align: middle;\n",
       "    }\n",
       "\n",
       "    .dataframe tbody tr th {\n",
       "        vertical-align: top;\n",
       "    }\n",
       "\n",
       "    .dataframe thead th {\n",
       "        text-align: right;\n",
       "    }\n",
       "</style>\n",
       "<table border=\"1\" class=\"dataframe\">\n",
       "  <thead>\n",
       "    <tr style=\"text-align: right;\">\n",
       "      <th></th>\n",
       "      <th>year</th>\n",
       "      <th>gender</th>\n",
       "      <th>nationality</th>\n",
       "    </tr>\n",
       "  </thead>\n",
       "  <tbody>\n",
       "    <tr>\n",
       "      <th>0</th>\n",
       "      <td>1730</td>\n",
       "      <td>Male</td>\n",
       "      <td>1</td>\n",
       "    </tr>\n",
       "    <tr>\n",
       "      <th>1</th>\n",
       "      <td>1740</td>\n",
       "      <td>Male</td>\n",
       "      <td>1</td>\n",
       "    </tr>\n",
       "    <tr>\n",
       "      <th>2</th>\n",
       "      <td>1750</td>\n",
       "      <td>Male</td>\n",
       "      <td>1</td>\n",
       "    </tr>\n",
       "    <tr>\n",
       "      <th>3</th>\n",
       "      <td>1770</td>\n",
       "      <td>Male</td>\n",
       "      <td>1</td>\n",
       "    </tr>\n",
       "    <tr>\n",
       "      <th>4</th>\n",
       "      <td>1780</td>\n",
       "      <td>Male</td>\n",
       "      <td>4</td>\n",
       "    </tr>\n",
       "  </tbody>\n",
       "</table>\n",
       "</div>"
      ],
      "text/plain": [
       "   year gender  nationality\n",
       "0  1730   Male            1\n",
       "1  1740   Male            1\n",
       "2  1750   Male            1\n",
       "3  1770   Male            1\n",
       "4  1780   Male            4"
      ]
     },
     "execution_count": 115,
     "metadata": {},
     "output_type": "execute_result"
    }
   ],
   "source": [
    "count2 = df.groupby([\"year\", \"gender\"]).count().reset_index()\n",
    "count2.head()"
   ]
  },
  {
   "cell_type": "code",
   "execution_count": 116,
   "id": "62f2a2a3",
   "metadata": {},
   "outputs": [],
   "source": [
    "count1 = count1[count1.gender > 2]\n",
    "count2 = count2[count2.nationality > 2]"
   ]
  },
  {
   "cell_type": "code",
   "execution_count": 117,
   "id": "6dc4a995",
   "metadata": {},
   "outputs": [],
   "source": [
    "count1.year = count1.year.apply(lambda x : mapper[x])\n",
    "count1.nationality = count1.nationality.apply(lambda x : mapper[x])\n",
    "count2.year = count2.year.apply(lambda x : mapper[x])\n",
    "count2.gender = count2.gender.apply(lambda x : mapper[x])"
   ]
  },
  {
   "cell_type": "code",
   "execution_count": 118,
   "id": "e411988e",
   "metadata": {},
   "outputs": [],
   "source": [
    "first = list(count1.nationality) + list(count2.year)\n",
    "second = list(count1.year) + list(count2.gender)\n",
    "third = list(count1.gender) + list(count2.nationality)"
   ]
  },
  {
   "cell_type": "code",
   "execution_count": 119,
   "id": "8d9e4c07",
   "metadata": {},
   "outputs": [],
   "source": [
    "fig = go.Figure(data=[go.Sankey(\n",
    "    node = dict(\n",
    "      pad = 15,\n",
    "      thickness = 20,\n",
    "      line = dict(color = \"black\", width = 0.5),\n",
    "      label = list(mapper.keys()), # make this all the artists, years, and genders\n",
    "      hovertemplate='Node %{customdata} has total value %{value}<extra></extra>',\n",
    "      color = \"blue\"\n",
    "    ),\n",
    "    link = dict(\n",
    "      source = first, # map each artist to year, and map each year to a gender\n",
    "      target = second,\n",
    "      value = third,\n",
    "      hovertemplate='Link from node %{source.customdata}<br />'+\n",
    "        'to node%{target.customdata}<br />has value %{value}'+\n",
    "        '<br />and data %{customdata}<extra></extra>',\n",
    "  ))])"
   ]
  },
  {
   "cell_type": "code",
   "execution_count": 120,
   "id": "f66a960e",
   "metadata": {},
   "outputs": [
    {
     "data": {
      "application/vnd.plotly.v1+json": {
       "config": {
        "plotlyServerURL": "https://plot.ly"
       },
       "data": [
        {
         "link": {
          "hovertemplate": "Link from node %{source.customdata}<br />to node%{target.customdata}<br />has value %{value}<br />and data %{customdata}<extra></extra>",
          "source": [
           6,
           123,
           87,
           87,
           87,
           87,
           87,
           87,
           87,
           87,
           87,
           87,
           87,
           87,
           87,
           87,
           87,
           87,
           87,
           87,
           87,
           61,
           61,
           61,
           61,
           61,
           61,
           61,
           61,
           61,
           43,
           43,
           43,
           43,
           43,
           43,
           43,
           43,
           43,
           5,
           5,
           5,
           5,
           5,
           5,
           5,
           5,
           5,
           5,
           5,
           5,
           5,
           5,
           7,
           7,
           7,
           7,
           7,
           7,
           7,
           7,
           7,
           7,
           7,
           7,
           115,
           148,
           148,
           148,
           148,
           148,
           148,
           148,
           148,
           148,
           148,
           62,
           62,
           62,
           62,
           62,
           62,
           62,
           62,
           62,
           62,
           62,
           62,
           62,
           62,
           62,
           62,
           62,
           62,
           64,
           64,
           64,
           64,
           64,
           64,
           64,
           64,
           64,
           26,
           26,
           26,
           26,
           26,
           26,
           26,
           104,
           104,
           104,
           104,
           22,
           22,
           22,
           22,
           22,
           22,
           47,
           47,
           47,
           93,
           93,
           93,
           93,
           93,
           93,
           12,
           12,
           12,
           12,
           12,
           12,
           12,
           12,
           12,
           12,
           33,
           33,
           33,
           33,
           33,
           33,
           33,
           33,
           33,
           107,
           107,
           107,
           107,
           107,
           107,
           107,
           107,
           107,
           107,
           107,
           107,
           142,
           91,
           98,
           98,
           98,
           98,
           98,
           98,
           98,
           141,
           141,
           141,
           141,
           141,
           141,
           141,
           141,
           141,
           141,
           141,
           141,
           141,
           141,
           141,
           141,
           141,
           141,
           141,
           141,
           124,
           128,
           128,
           128,
           128,
           128,
           128,
           128,
           128,
           128,
           128,
           128,
           128,
           128,
           128,
           128,
           54,
           132,
           38,
           38,
           35,
           35,
           35,
           35,
           35,
           35,
           35,
           94,
           105,
           105,
           105,
           105,
           105,
           105,
           10,
           10,
           10,
           10,
           83,
           83,
           83,
           146,
           146,
           146,
           146,
           146,
           146,
           146,
           138,
           138,
           138,
           138,
           138,
           138,
           138,
           138,
           138,
           138,
           138,
           138,
           138,
           59,
           59,
           59,
           59,
           59,
           59,
           59,
           59,
           59,
           59,
           59,
           113,
           113,
           113,
           113,
           71,
           27,
           27,
           27,
           27,
           27,
           27,
           27,
           27,
           27,
           27,
           34,
           34,
           34,
           79,
           152,
           152,
           152,
           152,
           130,
           130,
           130,
           130,
           130,
           130,
           101,
           101,
           101,
           101,
           101,
           101,
           101,
           101,
           101,
           101,
           66,
           66,
           56,
           56,
           56,
           112,
           112,
           112,
           112,
           112,
           112,
           112,
           112,
           112,
           112,
           112,
           112,
           136,
           136,
           96,
           23,
           133,
           133,
           133,
           133,
           133,
           95,
           95,
           95,
           95,
           95,
           95,
           95,
           95,
           95,
           95,
           95,
           145,
           145,
           145,
           145,
           145,
           145,
           145,
           145,
           145,
           145,
           145,
           9,
           9,
           9,
           9,
           9,
           9,
           9,
           9,
           9,
           9,
           9,
           9,
           9,
           81,
           81,
           81,
           81,
           100,
           100,
           29,
           29,
           29,
           29,
           14,
           14,
           14,
           14,
           14,
           120,
           120,
           120,
           52,
           55,
           60,
           65,
           67,
           72,
           76,
           82,
           82,
           86,
           86,
           90,
           90,
           92,
           92,
           97,
           97,
           99,
           99,
           103,
           103,
           108,
           108,
           111,
           111,
           116,
           116,
           116,
           119,
           119,
           121,
           121,
           126,
           126,
           129,
           129,
           134
          ],
          "target": [
           121,
           119,
           65,
           67,
           72,
           76,
           82,
           86,
           90,
           92,
           97,
           99,
           103,
           108,
           111,
           116,
           119,
           121,
           126,
           129,
           134,
           97,
           99,
           103,
           108,
           111,
           116,
           119,
           121,
           126,
           92,
           99,
           103,
           108,
           111,
           116,
           119,
           121,
           126,
           76,
           86,
           90,
           92,
           97,
           99,
           103,
           108,
           111,
           116,
           119,
           121,
           126,
           129,
           86,
           90,
           92,
           97,
           99,
           103,
           108,
           111,
           116,
           119,
           121,
           126,
           126,
           97,
           99,
           103,
           108,
           111,
           116,
           119,
           121,
           126,
           129,
           60,
           65,
           67,
           72,
           82,
           86,
           90,
           92,
           97,
           99,
           103,
           108,
           111,
           116,
           119,
           121,
           126,
           129,
           92,
           99,
           103,
           108,
           111,
           116,
           119,
           121,
           126,
           103,
           108,
           111,
           116,
           119,
           121,
           126,
           119,
           121,
           126,
           129,
           108,
           111,
           116,
           119,
           121,
           126,
           108,
           116,
           121,
           103,
           108,
           111,
           116,
           121,
           126,
           90,
           92,
           97,
           99,
           103,
           108,
           111,
           116,
           119,
           121,
           97,
           99,
           103,
           108,
           111,
           116,
           119,
           121,
           126,
           90,
           92,
           97,
           99,
           103,
           108,
           111,
           116,
           119,
           121,
           126,
           129,
           126,
           119,
           99,
           103,
           108,
           111,
           116,
           121,
           126,
           55,
           60,
           65,
           67,
           72,
           76,
           82,
           86,
           90,
           92,
           97,
           99,
           103,
           108,
           111,
           116,
           119,
           121,
           126,
           129,
           126,
           76,
           82,
           86,
           90,
           92,
           97,
           99,
           103,
           108,
           111,
           116,
           119,
           121,
           126,
           129,
           111,
           108,
           108,
           111,
           92,
           97,
           99,
           108,
           111,
           116,
           119,
           121,
           108,
           111,
           116,
           119,
           121,
           126,
           111,
           119,
           121,
           126,
           108,
           119,
           121,
           97,
           108,
           111,
           116,
           119,
           121,
           126,
           82,
           90,
           92,
           97,
           99,
           103,
           108,
           111,
           116,
           119,
           121,
           126,
           129,
           92,
           97,
           99,
           103,
           108,
           111,
           116,
           119,
           121,
           126,
           129,
           111,
           119,
           121,
           126,
           121,
           92,
           97,
           99,
           103,
           108,
           111,
           116,
           119,
           121,
           126,
           97,
           99,
           111,
           119,
           111,
           119,
           121,
           126,
           97,
           108,
           116,
           119,
           121,
           126,
           92,
           97,
           99,
           103,
           108,
           111,
           116,
           119,
           121,
           126,
           111,
           126,
           108,
           111,
           121,
           86,
           90,
           92,
           97,
           99,
           103,
           108,
           111,
           116,
           119,
           121,
           126,
           121,
           126,
           126,
           108,
           111,
           116,
           119,
           121,
           126,
           90,
           92,
           97,
           99,
           103,
           108,
           111,
           116,
           119,
           121,
           126,
           90,
           92,
           97,
           99,
           103,
           108,
           111,
           116,
           119,
           121,
           126,
           86,
           90,
           92,
           97,
           99,
           103,
           108,
           111,
           116,
           119,
           121,
           126,
           129,
           119,
           121,
           126,
           129,
           92,
           97,
           103,
           111,
           116,
           126,
           99,
           103,
           108,
           111,
           116,
           108,
           111,
           116,
           11,
           11,
           11,
           11,
           11,
           11,
           11,
           57,
           11,
           57,
           11,
           57,
           11,
           57,
           11,
           57,
           11,
           57,
           11,
           57,
           11,
           57,
           11,
           57,
           11,
           57,
           11,
           89,
           57,
           11,
           57,
           11,
           57,
           11,
           57,
           11,
           11
          ],
          "value": [
           3,
           3,
           3,
           11,
           11,
           18,
           28,
           53,
           73,
           159,
           225,
           359,
           374,
           506,
           612,
           796,
           557,
           391,
           304,
           60,
           3,
           9,
           10,
           9,
           20,
           27,
           11,
           4,
           11,
           12,
           3,
           3,
           5,
           5,
           9,
           11,
           4,
           7,
           3,
           5,
           9,
           16,
           12,
           11,
           8,
           5,
           22,
           12,
           28,
           30,
           31,
           21,
           3,
           9,
           3,
           5,
           6,
           3,
           5,
           12,
           8,
           7,
           11,
           10,
           5,
           3,
           5,
           9,
           11,
           36,
           13,
           17,
           16,
           22,
           10,
           3,
           6,
           17,
           13,
           10,
           6,
           16,
           19,
           26,
           34,
           48,
           30,
           41,
           86,
           92,
           79,
           103,
           50,
           10,
           5,
           6,
           7,
           22,
           18,
           32,
           35,
           23,
           20,
           4,
           9,
           14,
           14,
           4,
           5,
           4,
           14,
           34,
           16,
           5,
           8,
           11,
           7,
           6,
           3,
           5,
           6,
           4,
           4,
           10,
           10,
           6,
           6,
           10,
           8,
           3,
           6,
           5,
           10,
           5,
           13,
           9,
           9,
           4,
           5,
           3,
           5,
           22,
           16,
           4,
           12,
           8,
           8,
           13,
           3,
           14,
           14,
           13,
           12,
           22,
           17,
           24,
           28,
           33,
           25,
           5,
           3,
           3,
           5,
           3,
           8,
           6,
           5,
           4,
           6,
           5,
           11,
           21,
           22,
           19,
           25,
           36,
           69,
           52,
           64,
           64,
           66,
           25,
           75,
           52,
           45,
           27,
           42,
           13,
           7,
           3,
           6,
           4,
           18,
           42,
           98,
           85,
           62,
           28,
           52,
           90,
           88,
           63,
           96,
           52,
           5,
           6,
           3,
           3,
           5,
           7,
           7,
           5,
           5,
           5,
           3,
           6,
           3,
           5,
           5,
           6,
           3,
           4,
           7,
           3,
           4,
           6,
           4,
           3,
           5,
           4,
           6,
           4,
           10,
           6,
           8,
           8,
           17,
           3,
           5,
           16,
           28,
           39,
           41,
           76,
           94,
           50,
           24,
           26,
           12,
           5,
           5,
           17,
           26,
           29,
           46,
           88,
           62,
           35,
           35,
           28,
           4,
           4,
           4,
           12,
           7,
           4,
           5,
           7,
           16,
           16,
           12,
           16,
           6,
           5,
           12,
           15,
           6,
           3,
           6,
           3,
           3,
           5,
           8,
           4,
           3,
           7,
           3,
           3,
           3,
           6,
           6,
           7,
           3,
           9,
           20,
           23,
           18,
           10,
           4,
           7,
           3,
           4,
           3,
           3,
           3,
           5,
           7,
           33,
           36,
           29,
           10,
           6,
           8,
           11,
           4,
           7,
           3,
           10,
           4,
           3,
           3,
           4,
           6,
           9,
           16,
           18,
           3,
           4,
           11,
           10,
           12,
           17,
           14,
           13,
           21,
           15,
           11,
           3,
           5,
           4,
           10,
           11,
           13,
           13,
           12,
           6,
           7,
           6,
           3,
           10,
           15,
           13,
           31,
           23,
           23,
           33,
           32,
           15,
           13,
           17,
           3,
           3,
           6,
           4,
           3,
           3,
           4,
           4,
           5,
           3,
           4,
           4,
           4,
           11,
           14,
           7,
           6,
           6,
           4,
           4,
           9,
           20,
           46,
           51,
           45,
           57,
           3,
           84,
           11,
           186,
           23,
           228,
           44,
           465,
           89,
           537,
           111,
           693,
           103,
           632,
           153,
           1021,
           196,
           1202,
           314,
           1166,
           3,
           274,
           832,
           324,
           770,
           222,
           567,
           52,
           85,
           3
          ]
         },
         "node": {
          "color": "blue",
          "hovertemplate": "Node %{customdata} has total value %{value}<extra></extra>",
          "label": [
           "Macedonian",
           "Ivorian",
           "Bolivian",
           "Ghanaian",
           "Guyanese",
           "Austrian",
           "Albanian",
           "Belgian",
           "Cypriot",
           "Swiss",
           "Iranian",
           "Male",
           "Czech",
           "Mozambican",
           "Venezuelan",
           "Congolese",
           "Nicaraguan",
           "Native American",
           "Taiwanese",
           "Singaporean",
           "Tanzanian",
           "Ugandan",
           "Colombian",
           "Slovenian",
           "Sahrawi",
           "Catalan",
           "Chilean",
           "Mexican",
           "Senegalese",
           "Uruguayan",
           "Panamanian",
           "Rwandan",
           "Lithuanian",
           "Danish",
           "Nationality unknown",
           "Hungarian",
           "Namibian",
           1730,
           "Haitian",
           "Bahamian",
           1740,
           "Canadian Inuit",
           1750,
           "Australian",
           "Czechoslovakian",
           1760,
           "Welsh",
           "Croatian",
           "Saudi Arabian",
           1770,
           "Paraguayan",
           "Kenyan",
           1780,
           "Serbian",
           "Greek",
           1790,
           "Romanian",
           "Female",
           "Sudanese",
           "Japanese",
           1800,
           "Argentine",
           "British",
           "Malian",
           "Canadian",
           1810,
           "Portuguese",
           1820,
           "Estonian",
           "Indonesian",
           "Moroccan",
           "Lebanese",
           1830,
           "Kyrgyzstani",
           "Mauritanian",
           "Azerbaijani",
           1840,
           "Palestinian",
           "Ethiopian",
           "New Zealander",
           "Angolan",
           "Turkish",
           1850,
           "Irish",
           null,
           "Kazakhstani",
           1860,
           "American",
           "Tunisian",
           "male",
           1870,
           "Filipino",
           1880,
           "Cuban",
           "Icelandic",
           "Spanish",
           "Slovak",
           1890,
           "Finnish",
           1900,
           "Ukrainian",
           "Polish",
           "English",
           1910,
           "Chinese",
           "Indian",
           "Afghan",
           "Dutch",
           1920,
           "Iraqi",
           "Malaysian",
           1930,
           "Russian",
           "Korean",
           "Nigerian",
           "Bosnian",
           1940,
           "Costa Rican",
           "Syrian",
           1950,
           "Yugoslav",
           1960,
           "Kuwaiti",
           "Algerian",
           "Georgian",
           "Ecuadorian",
           1970,
           "Cameroonian",
           "German",
           1980,
           "Peruvian",
           "Thai",
           "Guatemalan",
           "South African",
           1990,
           "Latvian",
           "Scottish",
           "Pakistani",
           "Italian",
           "Burkinabe",
           2000,
           "French",
           "Egyptian",
           "Zimbabwean",
           2010,
           "Swedish",
           "Israeli",
           "Tajik",
           "Brazilian",
           "Luxembourgish",
           "Vietnamese",
           "Cambodian",
           "Norwegian",
           "Bulgarian"
          ],
          "line": {
           "color": "black",
           "width": 0.5
          },
          "pad": 15,
          "thickness": 20
         },
         "type": "sankey"
        }
       ],
       "layout": {
        "font": {
         "size": 10
        },
        "template": {
         "data": {
          "bar": [
           {
            "error_x": {
             "color": "#2a3f5f"
            },
            "error_y": {
             "color": "#2a3f5f"
            },
            "marker": {
             "line": {
              "color": "#E5ECF6",
              "width": 0.5
             }
            },
            "type": "bar"
           }
          ],
          "barpolar": [
           {
            "marker": {
             "line": {
              "color": "#E5ECF6",
              "width": 0.5
             }
            },
            "type": "barpolar"
           }
          ],
          "carpet": [
           {
            "aaxis": {
             "endlinecolor": "#2a3f5f",
             "gridcolor": "white",
             "linecolor": "white",
             "minorgridcolor": "white",
             "startlinecolor": "#2a3f5f"
            },
            "baxis": {
             "endlinecolor": "#2a3f5f",
             "gridcolor": "white",
             "linecolor": "white",
             "minorgridcolor": "white",
             "startlinecolor": "#2a3f5f"
            },
            "type": "carpet"
           }
          ],
          "choropleth": [
           {
            "colorbar": {
             "outlinewidth": 0,
             "ticks": ""
            },
            "type": "choropleth"
           }
          ],
          "contour": [
           {
            "colorbar": {
             "outlinewidth": 0,
             "ticks": ""
            },
            "colorscale": [
             [
              0,
              "#0d0887"
             ],
             [
              0.1111111111111111,
              "#46039f"
             ],
             [
              0.2222222222222222,
              "#7201a8"
             ],
             [
              0.3333333333333333,
              "#9c179e"
             ],
             [
              0.4444444444444444,
              "#bd3786"
             ],
             [
              0.5555555555555556,
              "#d8576b"
             ],
             [
              0.6666666666666666,
              "#ed7953"
             ],
             [
              0.7777777777777778,
              "#fb9f3a"
             ],
             [
              0.8888888888888888,
              "#fdca26"
             ],
             [
              1,
              "#f0f921"
             ]
            ],
            "type": "contour"
           }
          ],
          "contourcarpet": [
           {
            "colorbar": {
             "outlinewidth": 0,
             "ticks": ""
            },
            "type": "contourcarpet"
           }
          ],
          "heatmap": [
           {
            "colorbar": {
             "outlinewidth": 0,
             "ticks": ""
            },
            "colorscale": [
             [
              0,
              "#0d0887"
             ],
             [
              0.1111111111111111,
              "#46039f"
             ],
             [
              0.2222222222222222,
              "#7201a8"
             ],
             [
              0.3333333333333333,
              "#9c179e"
             ],
             [
              0.4444444444444444,
              "#bd3786"
             ],
             [
              0.5555555555555556,
              "#d8576b"
             ],
             [
              0.6666666666666666,
              "#ed7953"
             ],
             [
              0.7777777777777778,
              "#fb9f3a"
             ],
             [
              0.8888888888888888,
              "#fdca26"
             ],
             [
              1,
              "#f0f921"
             ]
            ],
            "type": "heatmap"
           }
          ],
          "heatmapgl": [
           {
            "colorbar": {
             "outlinewidth": 0,
             "ticks": ""
            },
            "colorscale": [
             [
              0,
              "#0d0887"
             ],
             [
              0.1111111111111111,
              "#46039f"
             ],
             [
              0.2222222222222222,
              "#7201a8"
             ],
             [
              0.3333333333333333,
              "#9c179e"
             ],
             [
              0.4444444444444444,
              "#bd3786"
             ],
             [
              0.5555555555555556,
              "#d8576b"
             ],
             [
              0.6666666666666666,
              "#ed7953"
             ],
             [
              0.7777777777777778,
              "#fb9f3a"
             ],
             [
              0.8888888888888888,
              "#fdca26"
             ],
             [
              1,
              "#f0f921"
             ]
            ],
            "type": "heatmapgl"
           }
          ],
          "histogram": [
           {
            "marker": {
             "colorbar": {
              "outlinewidth": 0,
              "ticks": ""
             }
            },
            "type": "histogram"
           }
          ],
          "histogram2d": [
           {
            "colorbar": {
             "outlinewidth": 0,
             "ticks": ""
            },
            "colorscale": [
             [
              0,
              "#0d0887"
             ],
             [
              0.1111111111111111,
              "#46039f"
             ],
             [
              0.2222222222222222,
              "#7201a8"
             ],
             [
              0.3333333333333333,
              "#9c179e"
             ],
             [
              0.4444444444444444,
              "#bd3786"
             ],
             [
              0.5555555555555556,
              "#d8576b"
             ],
             [
              0.6666666666666666,
              "#ed7953"
             ],
             [
              0.7777777777777778,
              "#fb9f3a"
             ],
             [
              0.8888888888888888,
              "#fdca26"
             ],
             [
              1,
              "#f0f921"
             ]
            ],
            "type": "histogram2d"
           }
          ],
          "histogram2dcontour": [
           {
            "colorbar": {
             "outlinewidth": 0,
             "ticks": ""
            },
            "colorscale": [
             [
              0,
              "#0d0887"
             ],
             [
              0.1111111111111111,
              "#46039f"
             ],
             [
              0.2222222222222222,
              "#7201a8"
             ],
             [
              0.3333333333333333,
              "#9c179e"
             ],
             [
              0.4444444444444444,
              "#bd3786"
             ],
             [
              0.5555555555555556,
              "#d8576b"
             ],
             [
              0.6666666666666666,
              "#ed7953"
             ],
             [
              0.7777777777777778,
              "#fb9f3a"
             ],
             [
              0.8888888888888888,
              "#fdca26"
             ],
             [
              1,
              "#f0f921"
             ]
            ],
            "type": "histogram2dcontour"
           }
          ],
          "mesh3d": [
           {
            "colorbar": {
             "outlinewidth": 0,
             "ticks": ""
            },
            "type": "mesh3d"
           }
          ],
          "parcoords": [
           {
            "line": {
             "colorbar": {
              "outlinewidth": 0,
              "ticks": ""
             }
            },
            "type": "parcoords"
           }
          ],
          "pie": [
           {
            "automargin": true,
            "type": "pie"
           }
          ],
          "scatter": [
           {
            "marker": {
             "colorbar": {
              "outlinewidth": 0,
              "ticks": ""
             }
            },
            "type": "scatter"
           }
          ],
          "scatter3d": [
           {
            "line": {
             "colorbar": {
              "outlinewidth": 0,
              "ticks": ""
             }
            },
            "marker": {
             "colorbar": {
              "outlinewidth": 0,
              "ticks": ""
             }
            },
            "type": "scatter3d"
           }
          ],
          "scattercarpet": [
           {
            "marker": {
             "colorbar": {
              "outlinewidth": 0,
              "ticks": ""
             }
            },
            "type": "scattercarpet"
           }
          ],
          "scattergeo": [
           {
            "marker": {
             "colorbar": {
              "outlinewidth": 0,
              "ticks": ""
             }
            },
            "type": "scattergeo"
           }
          ],
          "scattergl": [
           {
            "marker": {
             "colorbar": {
              "outlinewidth": 0,
              "ticks": ""
             }
            },
            "type": "scattergl"
           }
          ],
          "scattermapbox": [
           {
            "marker": {
             "colorbar": {
              "outlinewidth": 0,
              "ticks": ""
             }
            },
            "type": "scattermapbox"
           }
          ],
          "scatterpolar": [
           {
            "marker": {
             "colorbar": {
              "outlinewidth": 0,
              "ticks": ""
             }
            },
            "type": "scatterpolar"
           }
          ],
          "scatterpolargl": [
           {
            "marker": {
             "colorbar": {
              "outlinewidth": 0,
              "ticks": ""
             }
            },
            "type": "scatterpolargl"
           }
          ],
          "scatterternary": [
           {
            "marker": {
             "colorbar": {
              "outlinewidth": 0,
              "ticks": ""
             }
            },
            "type": "scatterternary"
           }
          ],
          "surface": [
           {
            "colorbar": {
             "outlinewidth": 0,
             "ticks": ""
            },
            "colorscale": [
             [
              0,
              "#0d0887"
             ],
             [
              0.1111111111111111,
              "#46039f"
             ],
             [
              0.2222222222222222,
              "#7201a8"
             ],
             [
              0.3333333333333333,
              "#9c179e"
             ],
             [
              0.4444444444444444,
              "#bd3786"
             ],
             [
              0.5555555555555556,
              "#d8576b"
             ],
             [
              0.6666666666666666,
              "#ed7953"
             ],
             [
              0.7777777777777778,
              "#fb9f3a"
             ],
             [
              0.8888888888888888,
              "#fdca26"
             ],
             [
              1,
              "#f0f921"
             ]
            ],
            "type": "surface"
           }
          ],
          "table": [
           {
            "cells": {
             "fill": {
              "color": "#EBF0F8"
             },
             "line": {
              "color": "white"
             }
            },
            "header": {
             "fill": {
              "color": "#C8D4E3"
             },
             "line": {
              "color": "white"
             }
            },
            "type": "table"
           }
          ]
         },
         "layout": {
          "annotationdefaults": {
           "arrowcolor": "#2a3f5f",
           "arrowhead": 0,
           "arrowwidth": 1
          },
          "autotypenumbers": "strict",
          "coloraxis": {
           "colorbar": {
            "outlinewidth": 0,
            "ticks": ""
           }
          },
          "colorscale": {
           "diverging": [
            [
             0,
             "#8e0152"
            ],
            [
             0.1,
             "#c51b7d"
            ],
            [
             0.2,
             "#de77ae"
            ],
            [
             0.3,
             "#f1b6da"
            ],
            [
             0.4,
             "#fde0ef"
            ],
            [
             0.5,
             "#f7f7f7"
            ],
            [
             0.6,
             "#e6f5d0"
            ],
            [
             0.7,
             "#b8e186"
            ],
            [
             0.8,
             "#7fbc41"
            ],
            [
             0.9,
             "#4d9221"
            ],
            [
             1,
             "#276419"
            ]
           ],
           "sequential": [
            [
             0,
             "#0d0887"
            ],
            [
             0.1111111111111111,
             "#46039f"
            ],
            [
             0.2222222222222222,
             "#7201a8"
            ],
            [
             0.3333333333333333,
             "#9c179e"
            ],
            [
             0.4444444444444444,
             "#bd3786"
            ],
            [
             0.5555555555555556,
             "#d8576b"
            ],
            [
             0.6666666666666666,
             "#ed7953"
            ],
            [
             0.7777777777777778,
             "#fb9f3a"
            ],
            [
             0.8888888888888888,
             "#fdca26"
            ],
            [
             1,
             "#f0f921"
            ]
           ],
           "sequentialminus": [
            [
             0,
             "#0d0887"
            ],
            [
             0.1111111111111111,
             "#46039f"
            ],
            [
             0.2222222222222222,
             "#7201a8"
            ],
            [
             0.3333333333333333,
             "#9c179e"
            ],
            [
             0.4444444444444444,
             "#bd3786"
            ],
            [
             0.5555555555555556,
             "#d8576b"
            ],
            [
             0.6666666666666666,
             "#ed7953"
            ],
            [
             0.7777777777777778,
             "#fb9f3a"
            ],
            [
             0.8888888888888888,
             "#fdca26"
            ],
            [
             1,
             "#f0f921"
            ]
           ]
          },
          "colorway": [
           "#636efa",
           "#EF553B",
           "#00cc96",
           "#ab63fa",
           "#FFA15A",
           "#19d3f3",
           "#FF6692",
           "#B6E880",
           "#FF97FF",
           "#FECB52"
          ],
          "font": {
           "color": "#2a3f5f"
          },
          "geo": {
           "bgcolor": "white",
           "lakecolor": "white",
           "landcolor": "#E5ECF6",
           "showlakes": true,
           "showland": true,
           "subunitcolor": "white"
          },
          "hoverlabel": {
           "align": "left"
          },
          "hovermode": "closest",
          "mapbox": {
           "style": "light"
          },
          "paper_bgcolor": "white",
          "plot_bgcolor": "#E5ECF6",
          "polar": {
           "angularaxis": {
            "gridcolor": "white",
            "linecolor": "white",
            "ticks": ""
           },
           "bgcolor": "#E5ECF6",
           "radialaxis": {
            "gridcolor": "white",
            "linecolor": "white",
            "ticks": ""
           }
          },
          "scene": {
           "xaxis": {
            "backgroundcolor": "#E5ECF6",
            "gridcolor": "white",
            "gridwidth": 2,
            "linecolor": "white",
            "showbackground": true,
            "ticks": "",
            "zerolinecolor": "white"
           },
           "yaxis": {
            "backgroundcolor": "#E5ECF6",
            "gridcolor": "white",
            "gridwidth": 2,
            "linecolor": "white",
            "showbackground": true,
            "ticks": "",
            "zerolinecolor": "white"
           },
           "zaxis": {
            "backgroundcolor": "#E5ECF6",
            "gridcolor": "white",
            "gridwidth": 2,
            "linecolor": "white",
            "showbackground": true,
            "ticks": "",
            "zerolinecolor": "white"
           }
          },
          "shapedefaults": {
           "line": {
            "color": "#2a3f5f"
           }
          },
          "ternary": {
           "aaxis": {
            "gridcolor": "white",
            "linecolor": "white",
            "ticks": ""
           },
           "baxis": {
            "gridcolor": "white",
            "linecolor": "white",
            "ticks": ""
           },
           "bgcolor": "#E5ECF6",
           "caxis": {
            "gridcolor": "white",
            "linecolor": "white",
            "ticks": ""
           }
          },
          "title": {
           "x": 0.05
          },
          "xaxis": {
           "automargin": true,
           "gridcolor": "white",
           "linecolor": "white",
           "ticks": "",
           "title": {
            "standoff": 15
           },
           "zerolinecolor": "white",
           "zerolinewidth": 2
          },
          "yaxis": {
           "automargin": true,
           "gridcolor": "white",
           "linecolor": "white",
           "ticks": "",
           "title": {
            "standoff": 15
           },
           "zerolinecolor": "white",
           "zerolinewidth": 2
          }
         }
        },
        "title": {
         "text": "Basic Sankey Diagram"
        }
       }
      },
      "text/html": [
       "<div>                            <div id=\"810c4340-2010-4731-ad52-62321dc4c056\" class=\"plotly-graph-div\" style=\"height:525px; width:100%;\"></div>            <script type=\"text/javascript\">                require([\"plotly\"], function(Plotly) {                    window.PLOTLYENV=window.PLOTLYENV || {};                                    if (document.getElementById(\"810c4340-2010-4731-ad52-62321dc4c056\")) {                    Plotly.newPlot(                        \"810c4340-2010-4731-ad52-62321dc4c056\",                        [{\"link\": {\"hovertemplate\": \"Link from node %{source.customdata}<br />to node%{target.customdata}<br />has value %{value}<br />and data %{customdata}<extra></extra>\", \"source\": [6, 123, 87, 87, 87, 87, 87, 87, 87, 87, 87, 87, 87, 87, 87, 87, 87, 87, 87, 87, 87, 61, 61, 61, 61, 61, 61, 61, 61, 61, 43, 43, 43, 43, 43, 43, 43, 43, 43, 5, 5, 5, 5, 5, 5, 5, 5, 5, 5, 5, 5, 5, 5, 7, 7, 7, 7, 7, 7, 7, 7, 7, 7, 7, 7, 115, 148, 148, 148, 148, 148, 148, 148, 148, 148, 148, 62, 62, 62, 62, 62, 62, 62, 62, 62, 62, 62, 62, 62, 62, 62, 62, 62, 62, 64, 64, 64, 64, 64, 64, 64, 64, 64, 26, 26, 26, 26, 26, 26, 26, 104, 104, 104, 104, 22, 22, 22, 22, 22, 22, 47, 47, 47, 93, 93, 93, 93, 93, 93, 12, 12, 12, 12, 12, 12, 12, 12, 12, 12, 33, 33, 33, 33, 33, 33, 33, 33, 33, 107, 107, 107, 107, 107, 107, 107, 107, 107, 107, 107, 107, 142, 91, 98, 98, 98, 98, 98, 98, 98, 141, 141, 141, 141, 141, 141, 141, 141, 141, 141, 141, 141, 141, 141, 141, 141, 141, 141, 141, 141, 124, 128, 128, 128, 128, 128, 128, 128, 128, 128, 128, 128, 128, 128, 128, 128, 54, 132, 38, 38, 35, 35, 35, 35, 35, 35, 35, 94, 105, 105, 105, 105, 105, 105, 10, 10, 10, 10, 83, 83, 83, 146, 146, 146, 146, 146, 146, 146, 138, 138, 138, 138, 138, 138, 138, 138, 138, 138, 138, 138, 138, 59, 59, 59, 59, 59, 59, 59, 59, 59, 59, 59, 113, 113, 113, 113, 71, 27, 27, 27, 27, 27, 27, 27, 27, 27, 27, 34, 34, 34, 79, 152, 152, 152, 152, 130, 130, 130, 130, 130, 130, 101, 101, 101, 101, 101, 101, 101, 101, 101, 101, 66, 66, 56, 56, 56, 112, 112, 112, 112, 112, 112, 112, 112, 112, 112, 112, 112, 136, 136, 96, 23, 133, 133, 133, 133, 133, 95, 95, 95, 95, 95, 95, 95, 95, 95, 95, 95, 145, 145, 145, 145, 145, 145, 145, 145, 145, 145, 145, 9, 9, 9, 9, 9, 9, 9, 9, 9, 9, 9, 9, 9, 81, 81, 81, 81, 100, 100, 29, 29, 29, 29, 14, 14, 14, 14, 14, 120, 120, 120, 52, 55, 60, 65, 67, 72, 76, 82, 82, 86, 86, 90, 90, 92, 92, 97, 97, 99, 99, 103, 103, 108, 108, 111, 111, 116, 116, 116, 119, 119, 121, 121, 126, 126, 129, 129, 134], \"target\": [121, 119, 65, 67, 72, 76, 82, 86, 90, 92, 97, 99, 103, 108, 111, 116, 119, 121, 126, 129, 134, 97, 99, 103, 108, 111, 116, 119, 121, 126, 92, 99, 103, 108, 111, 116, 119, 121, 126, 76, 86, 90, 92, 97, 99, 103, 108, 111, 116, 119, 121, 126, 129, 86, 90, 92, 97, 99, 103, 108, 111, 116, 119, 121, 126, 126, 97, 99, 103, 108, 111, 116, 119, 121, 126, 129, 60, 65, 67, 72, 82, 86, 90, 92, 97, 99, 103, 108, 111, 116, 119, 121, 126, 129, 92, 99, 103, 108, 111, 116, 119, 121, 126, 103, 108, 111, 116, 119, 121, 126, 119, 121, 126, 129, 108, 111, 116, 119, 121, 126, 108, 116, 121, 103, 108, 111, 116, 121, 126, 90, 92, 97, 99, 103, 108, 111, 116, 119, 121, 97, 99, 103, 108, 111, 116, 119, 121, 126, 90, 92, 97, 99, 103, 108, 111, 116, 119, 121, 126, 129, 126, 119, 99, 103, 108, 111, 116, 121, 126, 55, 60, 65, 67, 72, 76, 82, 86, 90, 92, 97, 99, 103, 108, 111, 116, 119, 121, 126, 129, 126, 76, 82, 86, 90, 92, 97, 99, 103, 108, 111, 116, 119, 121, 126, 129, 111, 108, 108, 111, 92, 97, 99, 108, 111, 116, 119, 121, 108, 111, 116, 119, 121, 126, 111, 119, 121, 126, 108, 119, 121, 97, 108, 111, 116, 119, 121, 126, 82, 90, 92, 97, 99, 103, 108, 111, 116, 119, 121, 126, 129, 92, 97, 99, 103, 108, 111, 116, 119, 121, 126, 129, 111, 119, 121, 126, 121, 92, 97, 99, 103, 108, 111, 116, 119, 121, 126, 97, 99, 111, 119, 111, 119, 121, 126, 97, 108, 116, 119, 121, 126, 92, 97, 99, 103, 108, 111, 116, 119, 121, 126, 111, 126, 108, 111, 121, 86, 90, 92, 97, 99, 103, 108, 111, 116, 119, 121, 126, 121, 126, 126, 108, 111, 116, 119, 121, 126, 90, 92, 97, 99, 103, 108, 111, 116, 119, 121, 126, 90, 92, 97, 99, 103, 108, 111, 116, 119, 121, 126, 86, 90, 92, 97, 99, 103, 108, 111, 116, 119, 121, 126, 129, 119, 121, 126, 129, 92, 97, 103, 111, 116, 126, 99, 103, 108, 111, 116, 108, 111, 116, 11, 11, 11, 11, 11, 11, 11, 57, 11, 57, 11, 57, 11, 57, 11, 57, 11, 57, 11, 57, 11, 57, 11, 57, 11, 57, 11, 89, 57, 11, 57, 11, 57, 11, 57, 11, 11], \"value\": [3, 3, 3, 11, 11, 18, 28, 53, 73, 159, 225, 359, 374, 506, 612, 796, 557, 391, 304, 60, 3, 9, 10, 9, 20, 27, 11, 4, 11, 12, 3, 3, 5, 5, 9, 11, 4, 7, 3, 5, 9, 16, 12, 11, 8, 5, 22, 12, 28, 30, 31, 21, 3, 9, 3, 5, 6, 3, 5, 12, 8, 7, 11, 10, 5, 3, 5, 9, 11, 36, 13, 17, 16, 22, 10, 3, 6, 17, 13, 10, 6, 16, 19, 26, 34, 48, 30, 41, 86, 92, 79, 103, 50, 10, 5, 6, 7, 22, 18, 32, 35, 23, 20, 4, 9, 14, 14, 4, 5, 4, 14, 34, 16, 5, 8, 11, 7, 6, 3, 5, 6, 4, 4, 10, 10, 6, 6, 10, 8, 3, 6, 5, 10, 5, 13, 9, 9, 4, 5, 3, 5, 22, 16, 4, 12, 8, 8, 13, 3, 14, 14, 13, 12, 22, 17, 24, 28, 33, 25, 5, 3, 3, 5, 3, 8, 6, 5, 4, 6, 5, 11, 21, 22, 19, 25, 36, 69, 52, 64, 64, 66, 25, 75, 52, 45, 27, 42, 13, 7, 3, 6, 4, 18, 42, 98, 85, 62, 28, 52, 90, 88, 63, 96, 52, 5, 6, 3, 3, 5, 7, 7, 5, 5, 5, 3, 6, 3, 5, 5, 6, 3, 4, 7, 3, 4, 6, 4, 3, 5, 4, 6, 4, 10, 6, 8, 8, 17, 3, 5, 16, 28, 39, 41, 76, 94, 50, 24, 26, 12, 5, 5, 17, 26, 29, 46, 88, 62, 35, 35, 28, 4, 4, 4, 12, 7, 4, 5, 7, 16, 16, 12, 16, 6, 5, 12, 15, 6, 3, 6, 3, 3, 5, 8, 4, 3, 7, 3, 3, 3, 6, 6, 7, 3, 9, 20, 23, 18, 10, 4, 7, 3, 4, 3, 3, 3, 5, 7, 33, 36, 29, 10, 6, 8, 11, 4, 7, 3, 10, 4, 3, 3, 4, 6, 9, 16, 18, 3, 4, 11, 10, 12, 17, 14, 13, 21, 15, 11, 3, 5, 4, 10, 11, 13, 13, 12, 6, 7, 6, 3, 10, 15, 13, 31, 23, 23, 33, 32, 15, 13, 17, 3, 3, 6, 4, 3, 3, 4, 4, 5, 3, 4, 4, 4, 11, 14, 7, 6, 6, 4, 4, 9, 20, 46, 51, 45, 57, 3, 84, 11, 186, 23, 228, 44, 465, 89, 537, 111, 693, 103, 632, 153, 1021, 196, 1202, 314, 1166, 3, 274, 832, 324, 770, 222, 567, 52, 85, 3]}, \"node\": {\"color\": \"blue\", \"hovertemplate\": \"Node %{customdata} has total value %{value}<extra></extra>\", \"label\": [\"Macedonian\", \"Ivorian\", \"Bolivian\", \"Ghanaian\", \"Guyanese\", \"Austrian\", \"Albanian\", \"Belgian\", \"Cypriot\", \"Swiss\", \"Iranian\", \"Male\", \"Czech\", \"Mozambican\", \"Venezuelan\", \"Congolese\", \"Nicaraguan\", \"Native American\", \"Taiwanese\", \"Singaporean\", \"Tanzanian\", \"Ugandan\", \"Colombian\", \"Slovenian\", \"Sahrawi\", \"Catalan\", \"Chilean\", \"Mexican\", \"Senegalese\", \"Uruguayan\", \"Panamanian\", \"Rwandan\", \"Lithuanian\", \"Danish\", \"Nationality unknown\", \"Hungarian\", \"Namibian\", 1730, \"Haitian\", \"Bahamian\", 1740, \"Canadian Inuit\", 1750, \"Australian\", \"Czechoslovakian\", 1760, \"Welsh\", \"Croatian\", \"Saudi Arabian\", 1770, \"Paraguayan\", \"Kenyan\", 1780, \"Serbian\", \"Greek\", 1790, \"Romanian\", \"Female\", \"Sudanese\", \"Japanese\", 1800, \"Argentine\", \"British\", \"Malian\", \"Canadian\", 1810, \"Portuguese\", 1820, \"Estonian\", \"Indonesian\", \"Moroccan\", \"Lebanese\", 1830, \"Kyrgyzstani\", \"Mauritanian\", \"Azerbaijani\", 1840, \"Palestinian\", \"Ethiopian\", \"New Zealander\", \"Angolan\", \"Turkish\", 1850, \"Irish\", null, \"Kazakhstani\", 1860, \"American\", \"Tunisian\", \"male\", 1870, \"Filipino\", 1880, \"Cuban\", \"Icelandic\", \"Spanish\", \"Slovak\", 1890, \"Finnish\", 1900, \"Ukrainian\", \"Polish\", \"English\", 1910, \"Chinese\", \"Indian\", \"Afghan\", \"Dutch\", 1920, \"Iraqi\", \"Malaysian\", 1930, \"Russian\", \"Korean\", \"Nigerian\", \"Bosnian\", 1940, \"Costa Rican\", \"Syrian\", 1950, \"Yugoslav\", 1960, \"Kuwaiti\", \"Algerian\", \"Georgian\", \"Ecuadorian\", 1970, \"Cameroonian\", \"German\", 1980, \"Peruvian\", \"Thai\", \"Guatemalan\", \"South African\", 1990, \"Latvian\", \"Scottish\", \"Pakistani\", \"Italian\", \"Burkinabe\", 2000, \"French\", \"Egyptian\", \"Zimbabwean\", 2010, \"Swedish\", \"Israeli\", \"Tajik\", \"Brazilian\", \"Luxembourgish\", \"Vietnamese\", \"Cambodian\", \"Norwegian\", \"Bulgarian\"], \"line\": {\"color\": \"black\", \"width\": 0.5}, \"pad\": 15, \"thickness\": 20}, \"type\": \"sankey\"}],                        {\"font\": {\"size\": 10}, \"template\": {\"data\": {\"bar\": [{\"error_x\": {\"color\": \"#2a3f5f\"}, \"error_y\": {\"color\": \"#2a3f5f\"}, \"marker\": {\"line\": {\"color\": \"#E5ECF6\", \"width\": 0.5}}, \"type\": \"bar\"}], \"barpolar\": [{\"marker\": {\"line\": {\"color\": \"#E5ECF6\", \"width\": 0.5}}, \"type\": \"barpolar\"}], \"carpet\": [{\"aaxis\": {\"endlinecolor\": \"#2a3f5f\", \"gridcolor\": \"white\", \"linecolor\": \"white\", \"minorgridcolor\": \"white\", \"startlinecolor\": \"#2a3f5f\"}, \"baxis\": {\"endlinecolor\": \"#2a3f5f\", \"gridcolor\": \"white\", \"linecolor\": \"white\", \"minorgridcolor\": \"white\", \"startlinecolor\": \"#2a3f5f\"}, \"type\": \"carpet\"}], \"choropleth\": [{\"colorbar\": {\"outlinewidth\": 0, \"ticks\": \"\"}, \"type\": \"choropleth\"}], \"contour\": [{\"colorbar\": {\"outlinewidth\": 0, \"ticks\": \"\"}, \"colorscale\": [[0.0, \"#0d0887\"], [0.1111111111111111, \"#46039f\"], [0.2222222222222222, \"#7201a8\"], [0.3333333333333333, \"#9c179e\"], [0.4444444444444444, \"#bd3786\"], [0.5555555555555556, \"#d8576b\"], [0.6666666666666666, \"#ed7953\"], [0.7777777777777778, \"#fb9f3a\"], [0.8888888888888888, \"#fdca26\"], [1.0, \"#f0f921\"]], \"type\": \"contour\"}], \"contourcarpet\": [{\"colorbar\": {\"outlinewidth\": 0, \"ticks\": \"\"}, \"type\": \"contourcarpet\"}], \"heatmap\": [{\"colorbar\": {\"outlinewidth\": 0, \"ticks\": \"\"}, \"colorscale\": [[0.0, \"#0d0887\"], [0.1111111111111111, \"#46039f\"], [0.2222222222222222, \"#7201a8\"], [0.3333333333333333, \"#9c179e\"], [0.4444444444444444, \"#bd3786\"], [0.5555555555555556, \"#d8576b\"], [0.6666666666666666, \"#ed7953\"], [0.7777777777777778, \"#fb9f3a\"], [0.8888888888888888, \"#fdca26\"], [1.0, \"#f0f921\"]], \"type\": \"heatmap\"}], \"heatmapgl\": [{\"colorbar\": {\"outlinewidth\": 0, \"ticks\": \"\"}, \"colorscale\": [[0.0, \"#0d0887\"], [0.1111111111111111, \"#46039f\"], [0.2222222222222222, \"#7201a8\"], [0.3333333333333333, \"#9c179e\"], [0.4444444444444444, \"#bd3786\"], [0.5555555555555556, \"#d8576b\"], [0.6666666666666666, \"#ed7953\"], [0.7777777777777778, \"#fb9f3a\"], [0.8888888888888888, \"#fdca26\"], [1.0, \"#f0f921\"]], \"type\": \"heatmapgl\"}], \"histogram\": [{\"marker\": {\"colorbar\": {\"outlinewidth\": 0, \"ticks\": \"\"}}, \"type\": \"histogram\"}], \"histogram2d\": [{\"colorbar\": {\"outlinewidth\": 0, \"ticks\": \"\"}, \"colorscale\": [[0.0, \"#0d0887\"], [0.1111111111111111, \"#46039f\"], [0.2222222222222222, \"#7201a8\"], [0.3333333333333333, \"#9c179e\"], [0.4444444444444444, \"#bd3786\"], [0.5555555555555556, \"#d8576b\"], [0.6666666666666666, \"#ed7953\"], [0.7777777777777778, \"#fb9f3a\"], [0.8888888888888888, \"#fdca26\"], [1.0, \"#f0f921\"]], \"type\": \"histogram2d\"}], \"histogram2dcontour\": [{\"colorbar\": {\"outlinewidth\": 0, \"ticks\": \"\"}, \"colorscale\": [[0.0, \"#0d0887\"], [0.1111111111111111, \"#46039f\"], [0.2222222222222222, \"#7201a8\"], [0.3333333333333333, \"#9c179e\"], [0.4444444444444444, \"#bd3786\"], [0.5555555555555556, \"#d8576b\"], [0.6666666666666666, \"#ed7953\"], [0.7777777777777778, \"#fb9f3a\"], [0.8888888888888888, \"#fdca26\"], [1.0, \"#f0f921\"]], \"type\": \"histogram2dcontour\"}], \"mesh3d\": [{\"colorbar\": {\"outlinewidth\": 0, \"ticks\": \"\"}, \"type\": \"mesh3d\"}], \"parcoords\": [{\"line\": {\"colorbar\": {\"outlinewidth\": 0, \"ticks\": \"\"}}, \"type\": \"parcoords\"}], \"pie\": [{\"automargin\": true, \"type\": \"pie\"}], \"scatter\": [{\"marker\": {\"colorbar\": {\"outlinewidth\": 0, \"ticks\": \"\"}}, \"type\": \"scatter\"}], \"scatter3d\": [{\"line\": {\"colorbar\": {\"outlinewidth\": 0, \"ticks\": \"\"}}, \"marker\": {\"colorbar\": {\"outlinewidth\": 0, \"ticks\": \"\"}}, \"type\": \"scatter3d\"}], \"scattercarpet\": [{\"marker\": {\"colorbar\": {\"outlinewidth\": 0, \"ticks\": \"\"}}, \"type\": \"scattercarpet\"}], \"scattergeo\": [{\"marker\": {\"colorbar\": {\"outlinewidth\": 0, \"ticks\": \"\"}}, \"type\": \"scattergeo\"}], \"scattergl\": [{\"marker\": {\"colorbar\": {\"outlinewidth\": 0, \"ticks\": \"\"}}, \"type\": \"scattergl\"}], \"scattermapbox\": [{\"marker\": {\"colorbar\": {\"outlinewidth\": 0, \"ticks\": \"\"}}, \"type\": \"scattermapbox\"}], \"scatterpolar\": [{\"marker\": {\"colorbar\": {\"outlinewidth\": 0, \"ticks\": \"\"}}, \"type\": \"scatterpolar\"}], \"scatterpolargl\": [{\"marker\": {\"colorbar\": {\"outlinewidth\": 0, \"ticks\": \"\"}}, \"type\": \"scatterpolargl\"}], \"scatterternary\": [{\"marker\": {\"colorbar\": {\"outlinewidth\": 0, \"ticks\": \"\"}}, \"type\": \"scatterternary\"}], \"surface\": [{\"colorbar\": {\"outlinewidth\": 0, \"ticks\": \"\"}, \"colorscale\": [[0.0, \"#0d0887\"], [0.1111111111111111, \"#46039f\"], [0.2222222222222222, \"#7201a8\"], [0.3333333333333333, \"#9c179e\"], [0.4444444444444444, \"#bd3786\"], [0.5555555555555556, \"#d8576b\"], [0.6666666666666666, \"#ed7953\"], [0.7777777777777778, \"#fb9f3a\"], [0.8888888888888888, \"#fdca26\"], [1.0, \"#f0f921\"]], \"type\": \"surface\"}], \"table\": [{\"cells\": {\"fill\": {\"color\": \"#EBF0F8\"}, \"line\": {\"color\": \"white\"}}, \"header\": {\"fill\": {\"color\": \"#C8D4E3\"}, \"line\": {\"color\": \"white\"}}, \"type\": \"table\"}]}, \"layout\": {\"annotationdefaults\": {\"arrowcolor\": \"#2a3f5f\", \"arrowhead\": 0, \"arrowwidth\": 1}, \"autotypenumbers\": \"strict\", \"coloraxis\": {\"colorbar\": {\"outlinewidth\": 0, \"ticks\": \"\"}}, \"colorscale\": {\"diverging\": [[0, \"#8e0152\"], [0.1, \"#c51b7d\"], [0.2, \"#de77ae\"], [0.3, \"#f1b6da\"], [0.4, \"#fde0ef\"], [0.5, \"#f7f7f7\"], [0.6, \"#e6f5d0\"], [0.7, \"#b8e186\"], [0.8, \"#7fbc41\"], [0.9, \"#4d9221\"], [1, \"#276419\"]], \"sequential\": [[0.0, \"#0d0887\"], [0.1111111111111111, \"#46039f\"], [0.2222222222222222, \"#7201a8\"], [0.3333333333333333, \"#9c179e\"], [0.4444444444444444, \"#bd3786\"], [0.5555555555555556, \"#d8576b\"], [0.6666666666666666, \"#ed7953\"], [0.7777777777777778, \"#fb9f3a\"], [0.8888888888888888, \"#fdca26\"], [1.0, \"#f0f921\"]], \"sequentialminus\": [[0.0, \"#0d0887\"], [0.1111111111111111, \"#46039f\"], [0.2222222222222222, \"#7201a8\"], [0.3333333333333333, \"#9c179e\"], [0.4444444444444444, \"#bd3786\"], [0.5555555555555556, \"#d8576b\"], [0.6666666666666666, \"#ed7953\"], [0.7777777777777778, \"#fb9f3a\"], [0.8888888888888888, \"#fdca26\"], [1.0, \"#f0f921\"]]}, \"colorway\": [\"#636efa\", \"#EF553B\", \"#00cc96\", \"#ab63fa\", \"#FFA15A\", \"#19d3f3\", \"#FF6692\", \"#B6E880\", \"#FF97FF\", \"#FECB52\"], \"font\": {\"color\": \"#2a3f5f\"}, \"geo\": {\"bgcolor\": \"white\", \"lakecolor\": \"white\", \"landcolor\": \"#E5ECF6\", \"showlakes\": true, \"showland\": true, \"subunitcolor\": \"white\"}, \"hoverlabel\": {\"align\": \"left\"}, \"hovermode\": \"closest\", \"mapbox\": {\"style\": \"light\"}, \"paper_bgcolor\": \"white\", \"plot_bgcolor\": \"#E5ECF6\", \"polar\": {\"angularaxis\": {\"gridcolor\": \"white\", \"linecolor\": \"white\", \"ticks\": \"\"}, \"bgcolor\": \"#E5ECF6\", \"radialaxis\": {\"gridcolor\": \"white\", \"linecolor\": \"white\", \"ticks\": \"\"}}, \"scene\": {\"xaxis\": {\"backgroundcolor\": \"#E5ECF6\", \"gridcolor\": \"white\", \"gridwidth\": 2, \"linecolor\": \"white\", \"showbackground\": true, \"ticks\": \"\", \"zerolinecolor\": \"white\"}, \"yaxis\": {\"backgroundcolor\": \"#E5ECF6\", \"gridcolor\": \"white\", \"gridwidth\": 2, \"linecolor\": \"white\", \"showbackground\": true, \"ticks\": \"\", \"zerolinecolor\": \"white\"}, \"zaxis\": {\"backgroundcolor\": \"#E5ECF6\", \"gridcolor\": \"white\", \"gridwidth\": 2, \"linecolor\": \"white\", \"showbackground\": true, \"ticks\": \"\", \"zerolinecolor\": \"white\"}}, \"shapedefaults\": {\"line\": {\"color\": \"#2a3f5f\"}}, \"ternary\": {\"aaxis\": {\"gridcolor\": \"white\", \"linecolor\": \"white\", \"ticks\": \"\"}, \"baxis\": {\"gridcolor\": \"white\", \"linecolor\": \"white\", \"ticks\": \"\"}, \"bgcolor\": \"#E5ECF6\", \"caxis\": {\"gridcolor\": \"white\", \"linecolor\": \"white\", \"ticks\": \"\"}}, \"title\": {\"x\": 0.05}, \"xaxis\": {\"automargin\": true, \"gridcolor\": \"white\", \"linecolor\": \"white\", \"ticks\": \"\", \"title\": {\"standoff\": 15}, \"zerolinecolor\": \"white\", \"zerolinewidth\": 2}, \"yaxis\": {\"automargin\": true, \"gridcolor\": \"white\", \"linecolor\": \"white\", \"ticks\": \"\", \"title\": {\"standoff\": 15}, \"zerolinecolor\": \"white\", \"zerolinewidth\": 2}}}, \"title\": {\"text\": \"Basic Sankey Diagram\"}},                        {\"responsive\": true}                    ).then(function(){\n",
       "                            \n",
       "var gd = document.getElementById('810c4340-2010-4731-ad52-62321dc4c056');\n",
       "var x = new MutationObserver(function (mutations, observer) {{\n",
       "        var display = window.getComputedStyle(gd).display;\n",
       "        if (!display || display === 'none') {{\n",
       "            console.log([gd, 'removed!']);\n",
       "            Plotly.purge(gd);\n",
       "            observer.disconnect();\n",
       "        }}\n",
       "}});\n",
       "\n",
       "// Listen for the removal of the full notebook cells\n",
       "var notebookContainer = gd.closest('#notebook-container');\n",
       "if (notebookContainer) {{\n",
       "    x.observe(notebookContainer, {childList: true});\n",
       "}}\n",
       "\n",
       "// Listen for the clearing of the current output cell\n",
       "var outputEl = gd.closest('.output');\n",
       "if (outputEl) {{\n",
       "    x.observe(outputEl, {childList: true});\n",
       "}}\n",
       "\n",
       "                        })                };                });            </script>        </div>"
      ]
     },
     "metadata": {},
     "output_type": "display_data"
    }
   ],
   "source": [
    "fig.update_layout(title_text=\"Basic Sankey Diagram\", font_size=10)\n",
    "fig.show()"
   ]
  }
 ],
 "metadata": {
  "kernelspec": {
   "display_name": "Python 3",
   "language": "python",
   "name": "python3"
  },
  "language_info": {
   "codemirror_mode": {
    "name": "ipython",
    "version": 3
   },
   "file_extension": ".py",
   "mimetype": "text/x-python",
   "name": "python",
   "nbconvert_exporter": "python",
   "pygments_lexer": "ipython3",
   "version": "3.8.8"
  }
 },
 "nbformat": 4,
 "nbformat_minor": 5
}

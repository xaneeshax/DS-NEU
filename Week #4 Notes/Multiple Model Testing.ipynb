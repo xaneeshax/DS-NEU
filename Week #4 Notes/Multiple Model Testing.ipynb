{
 "cells": [
  {
   "cell_type": "code",
   "execution_count": 2,
   "metadata": {},
   "outputs": [],
   "source": [
    "import pandas as pd\n",
    "from sklearn.datasets import load_digits\n",
    "\n",
    "digits = load_digits()\n",
    "\n",
    "df = pd.DataFrame(digits.data)\n",
    "df['target'] = digits.target\n",
    "\n",
    "features = df.drop('target', axis = 1)\n",
    "target = df['target']"
   ]
  },
  {
   "cell_type": "code",
   "execution_count": 3,
   "metadata": {},
   "outputs": [],
   "source": [
    "from sklearn.svm import LinearSVC\n",
    "from sklearn.naive_bayes import GaussianNB\n",
    "from sklearn.neighbors import KNeighborsClassifier\n",
    "from sklearn.tree import DecisionTreeClassifier"
   ]
  },
  {
   "cell_type": "code",
   "execution_count": 4,
   "metadata": {},
   "outputs": [],
   "source": [
    "# dictionary of the algos that you need to try out\n",
    "estimators = {\n",
    "    'k-nearest neighbors' : KNeighborsClassifier(),\n",
    "    'Support Vector Machine' : LinearSVC(max_iter  = 1000000),\n",
    "    'Gaussian Naive Bayes' : GaussianNB(),\n",
    "    'Decision Tree' : DecisionTreeClassifier()}"
   ]
  },
  {
   "cell_type": "code",
   "execution_count": 5,
   "metadata": {},
   "outputs": [
    {
     "name": "stdout",
     "output_type": "stream",
     "text": [
      "[0.98333333 0.97777778 0.98888889 0.98888889 0.98333333 0.98888889\n",
      " 0.98888889 0.98882682 0.98324022 0.98882682]\n",
      "k-nearest neighbors:\n",
      "\tMean Accuracy = 98.61%,  Standard Deviation = 0.37%\n",
      "\n",
      "[0.96111111 0.93888889 0.91666667 0.95555556 0.95555556 0.95555556\n",
      " 0.95       0.97206704 0.93296089 0.94413408]\n",
      "Support Vector Machine:\n",
      "\tMean Accuracy = 94.82%,  Standard Deviation = 1.49%\n",
      "\n",
      "[0.85       0.83888889 0.82222222 0.88333333 0.81666667 0.83333333\n",
      " 0.82777778 0.83240223 0.8603352  0.8603352 ]\n",
      "Gaussian Naive Bayes:\n",
      "\tMean Accuracy = 84.25%,  Standard Deviation = 1.96%\n",
      "\n",
      "[0.84444444 0.82777778 0.85555556 0.85       0.87222222 0.9\n",
      " 0.83888889 0.87150838 0.8547486  0.84916201]\n",
      "Decision Tree:\n",
      "\tMean Accuracy = 85.64%,  Standard Deviation = 1.94%\n",
      "\n"
     ]
    }
   ],
   "source": [
    "from sklearn.model_selection import KFold\n",
    "from sklearn.model_selection import cross_val_score\n",
    "\n",
    "for estimator_name, estimator_object in estimators.items():\n",
    "\n",
    "    kfold = KFold(n_splits = 10, random_state = 3000, shuffle = True)\n",
    "    \n",
    "    scores = cross_val_score(estimator = estimator_object, X = features, y = target, cv = kfold)\n",
    "    print(scores)\n",
    "    print(estimator_name+ ':\\n\\t' + f'Mean Accuracy = {scores.mean():.2%}, ', f'Standard Deviation = {scores.std():.2%}' + '\\n')"
   ]
  },
  {
   "cell_type": "code",
   "execution_count": null,
   "metadata": {},
   "outputs": [],
   "source": [
    "'''\n",
    "Other metrics to evaluate performace of classification algorithms\n",
    "- Precision\n",
    "- Recall\n",
    "- F1 Score\n",
    "'''"
   ]
  },
  {
   "cell_type": "code",
   "execution_count": null,
   "metadata": {},
   "outputs": [],
   "source": [
    "'''\n",
    "Confusion Matrix:\n",
    "\n",
    "       Predicted Class\n",
    "A   True positive | False Positive\n",
    "C                 |\n",
    "T   -------------------------------\n",
    "U   False Neg     | True Neg\n",
    "A                 |\n",
    "L\n",
    "\n",
    "'''"
   ]
  },
  {
   "cell_type": "code",
   "execution_count": null,
   "metadata": {},
   "outputs": [],
   "source": [
    "'''\n",
    "Recall vs Precision\n",
    "\n",
    "Optimizing the Recall:\n",
    "- Minimizes the chance of not detecting a positive case\n",
    "- Cost: a high number of false positives\n",
    "\n",
    "Optimizing the Precision:\n",
    "- Minimizes the number of False Positives\n",
    "- Cost: a high number of false negatives\n",
    "\n",
    "F1 Score: combination of recall and precision\n",
    "Harmonic Mean of the Two \n",
    " \n",
    "F1 = 2 x (PRE x REC) / (PRE + REC)\n",
    "\n",
    "Recall = Correctly Predicted Positive Cases / All Positive Cases\n",
    "Precision = Correctly Predicted Positive Cases / All Positive Predictions\n",
    "\n",
    "Make F1 score as high as possible (the closer to 1 the better)\n",
    "'''"
   ]
  }
 ],
 "metadata": {
  "kernelspec": {
   "display_name": "Python 3",
   "language": "python",
   "name": "python3"
  },
  "language_info": {
   "codemirror_mode": {
    "name": "ipython",
    "version": 3
   },
   "file_extension": ".py",
   "mimetype": "text/x-python",
   "name": "python",
   "nbconvert_exporter": "python",
   "pygments_lexer": "ipython3",
   "version": "3.8.8"
  }
 },
 "nbformat": 4,
 "nbformat_minor": 4
}

{
 "cells": [
  {
   "cell_type": "raw",
   "metadata": {},
   "source": [
    "REGULARIZED LINEAR REGRESSION\n",
    "\n",
    "- Restricts coefficients to reduce model complexity\n",
    "- Fits an additional constraint\n",
    "- The coefficeints should be as small as possible (closer to zero)\n",
    "- Goal: minimzes the sum of square coefficients\n",
    "- Applying this reduces overfitting\n",
    "\n",
    "HIGHER ALPHA VALUES INDICATE\n",
    "- simpler model\n",
    "- less overfitting\n"
   ]
  },
  {
   "cell_type": "code",
   "execution_count": 1,
   "metadata": {},
   "outputs": [],
   "source": [
    "import pandas as pd\n",
    "\n",
    "from sklearn.datasets import fetch_california_housing\n",
    "california = fetch_california_housing()\n",
    "\n",
    "df = pd.DataFrame(california.data, columns = california.feature_names)\n",
    "df['Value'] = california.target\n",
    "\n",
    "features = df.drop('Value', axis = 1)\n",
    "target = df['Value']"
   ]
  },
  {
   "cell_type": "code",
   "execution_count": 11,
   "metadata": {},
   "outputs": [
    {
     "name": "stdout",
     "output_type": "stream",
     "text": [
      "R-squared value for training set:  0.6090669500850712\n",
      "R-squared value for testing set:  0.5970353837773708\n"
     ]
    }
   ],
   "source": [
    "from sklearn.linear_model import Ridge\n",
    "from sklearn.model_selection import train_test_split\n",
    "from sklearn.metrics import r2_score\n",
    "from sklearn.metrics import mean_squared_error\n",
    "\n",
    "# split data into training and testing sets\n",
    "X_train, X_test, y_train, y_test = train_test_split(features, target, random_state = 3000)\n",
    "\n",
    "model = Ridge(alpha = 100).fit(X = X_train, y = y_train)\n",
    "\n",
    "print('R-squared value for training set: ', r2_score(y_train, model.predict(X_train)))\n",
    "print('R-squared value for testing set: ', r2_score(y_test, model.predict(X_test)))"
   ]
  },
  {
   "cell_type": "code",
   "execution_count": 12,
   "metadata": {},
   "outputs": [
    {
     "name": "stdout",
     "output_type": "stream",
     "text": [
      "    MedInc: 0.43384961131176747\n",
      "  HouseAge: 0.00978641287563271\n",
      "  AveRooms: -0.09734535567862976\n",
      " AveBedrms: 0.5884811557761856\n",
      "Population: -6.216730356535916e-06\n",
      "  AveOccup: -0.0038505220101157467\n",
      "  Latitude: -0.4172931846834424\n",
      " Longitude: -0.42620059872132976\n"
     ]
    }
   ],
   "source": [
    "for i, name in enumerate(california.feature_names):\n",
    "    print(f'{name : >10}: {model.coef_[i]}')"
   ]
  },
  {
   "cell_type": "code",
   "execution_count": 3,
   "metadata": {},
   "outputs": [
    {
     "data": {
      "text/plain": [
       "'\\nLASSO REGRESSION\\n- An alternative to Ridge for regularizing linear regression\\n- This model restricts coefficeints to reduce model complexity\\n\\nL2 Regression\\n- In L2 regeression the penalty is applied to the sum of the coefficients squared (Ridge uses this)\\n\\nL1 Regression\\n- Type of regularization minimizes the sum of the absolute values of the coefficinets (Lasso uses this)\\n\\nHigher Alpha Values\\n- More regularization and more restricted coeffients\\n- Some coeffients will be exactly 0\\n- Simpler model\\n- Easier to interpret\\n'"
      ]
     },
     "execution_count": 3,
     "metadata": {},
     "output_type": "execute_result"
    }
   ],
   "source": [
    "'''\n",
    "LASSO REGRESSION\n",
    "- An alternative to Ridge for regularizing linear regression\n",
    "- This model restricts coefficeints to reduce model complexity\n",
    "\n",
    "L2 Regression\n",
    "- In L2 regeression the penalty is applied to the sum of the coefficients squared (Ridge uses this)\n",
    "\n",
    "L1 Regression\n",
    "- Type of regularization minimizes the sum of the absolute values of the coefficinets (Lasso uses this)\n",
    "\n",
    "Higher Alpha Values\n",
    "- More regularization and more restricted coeffients\n",
    "- Some coeffients will be exactly 0\n",
    "- Simpler model\n",
    "- Easier to interpret\n",
    "'''"
   ]
  },
  {
   "cell_type": "code",
   "execution_count": 4,
   "metadata": {},
   "outputs": [
    {
     "name": "stdout",
     "output_type": "stream",
     "text": [
      "R-squared value for training set:  0.6094736555118498\n",
      "R-squared value for testing set:  0.596072604394458\n"
     ]
    }
   ],
   "source": [
    "from sklearn.linear_model import Lasso\n",
    "from sklearn.model_selection import train_test_split\n",
    "from sklearn.metrics import r2_score\n",
    "from sklearn.metrics import mean_squared_error\n",
    "\n",
    "# split data into training and testing sets\n",
    "X_train, X_test, y_train, y_test = train_test_split(features, target, random_state = 3000)\n",
    "\n",
    "model = Lasso(alpha = 0.001).fit(X = X_train, y = y_train)\n",
    "\n",
    "print('R-squared value for training set: ', r2_score(y_train, model.predict(X_train)))\n",
    "print('R-squared value for testing set: ', r2_score(y_test, model.predict(X_test)))"
   ]
  },
  {
   "cell_type": "code",
   "execution_count": 5,
   "metadata": {},
   "outputs": [
    {
     "data": {
      "text/plain": [
       "array([ 4.42860957e-01,  9.65794952e-03, -1.14393659e-01,  6.84914631e-01,\n",
       "       -6.61544631e-06, -3.86301445e-03, -4.18713354e-01, -4.28877681e-01])"
      ]
     },
     "execution_count": 5,
     "metadata": {},
     "output_type": "execute_result"
    }
   ],
   "source": [
    "model.coef_"
   ]
  },
  {
   "cell_type": "code",
   "execution_count": 6,
   "metadata": {},
   "outputs": [
    {
     "name": "stdout",
     "output_type": "stream",
     "text": [
      "    MedInc: 0.44286095735147735\n",
      "  HouseAge: 0.009657949516225154\n",
      "  AveRooms: -0.11439365870528742\n",
      " AveBedrms: 0.6849146313016123\n",
      "Population: -6.61544631118968e-06\n",
      "  AveOccup: -0.003863014448215848\n",
      "  Latitude: -0.4187133539756105\n",
      " Longitude: -0.4288776805653922\n"
     ]
    }
   ],
   "source": [
    "for i, name in enumerate(california.feature_names):\n",
    "    print(f'{name : >10}: {model.coef_[i]}')"
   ]
  },
  {
   "cell_type": "code",
   "execution_count": 7,
   "metadata": {},
   "outputs": [
    {
     "data": {
      "text/plain": [
       "['MedInc',\n",
       " 'HouseAge',\n",
       " 'AveRooms',\n",
       " 'AveBedrms',\n",
       " 'Population',\n",
       " 'AveOccup',\n",
       " 'Latitude',\n",
       " 'Longitude']"
      ]
     },
     "execution_count": 7,
     "metadata": {},
     "output_type": "execute_result"
    }
   ],
   "source": [
    "california.feature_names"
   ]
  },
  {
   "cell_type": "code",
   "execution_count": 8,
   "metadata": {},
   "outputs": [
    {
     "name": "stdout",
     "output_type": "stream",
     "text": [
      "R-squared value for training set:  0.6094736555118498\n",
      "R-squared value for testing set:  0.596072604394458\n",
      "Number of features used: 8\n"
     ]
    }
   ],
   "source": [
    "from sklearn.linear_model import Lasso\n",
    "from sklearn.model_selection import train_test_split\n",
    "from sklearn.metrics import r2_score\n",
    "from sklearn.metrics import mean_squared_error\n",
    "import numpy as np\n",
    "\n",
    "# split data into training and testing sets\n",
    "X_train, X_test, y_train, y_test = train_test_split(features, target, random_state = 3000)\n",
    "\n",
    "model = Lasso(alpha = 0.001).fit(X = X_train, y = y_train)\n",
    "\n",
    "print('R-squared value for training set: ', r2_score(y_train, model.predict(X_train)))\n",
    "print('R-squared value for testing set: ', r2_score(y_test, model.predict(X_test)))\n",
    "print('Number of features used:', np.sum(model.coef_ != 0))"
   ]
  },
  {
   "cell_type": "raw",
   "metadata": {},
   "source": [
    "Notes \n",
    "Linear Regression has no parameters - Scales well to high demensional data\n",
    "Use Ridge or Lasso - when you need to tune a regression model\n",
    "Use Ridge if you have many important features\n",
    "Use Lasso if you have many features but only a few of them are expected to be important"
   ]
  }
 ],
 "metadata": {
  "kernelspec": {
   "display_name": "Python 3",
   "language": "python",
   "name": "python3"
  },
  "language_info": {
   "codemirror_mode": {
    "name": "ipython",
    "version": 3
   },
   "file_extension": ".py",
   "mimetype": "text/x-python",
   "name": "python",
   "nbconvert_exporter": "python",
   "pygments_lexer": "ipython3",
   "version": "3.8.3"
  }
 },
 "nbformat": 4,
 "nbformat_minor": 4
}

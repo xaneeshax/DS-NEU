{
 "cells": [
  {
   "cell_type": "raw",
   "metadata": {},
   "source": [
    "When we use evaluation and hyperparameter tuning on the same dataset we can no longer use it to \n",
    "test the effectiveness of our model\n",
    "\n",
    "It will give results that are too optimistic\n",
    "\n",
    "We should seperate the process using three steps\n",
    "1. Training - Model fitting\n",
    "2. Validation - Hyperparameter tuning\n",
    "3. Testing - Evaluation\n",
    "\n",
    "Ensures that the tuned model is actually evaluated\n",
    "Prevents 'data leakage': training the dataset with validation or testing sets"
   ]
  },
  {
   "cell_type": "raw",
   "metadata": {},
   "source": [
    "Perform both training and regularization\n",
    "\n",
    "Uses n-1 folds for training and the last for hyperparametized tuning\n",
    "\n",
    "Model with the best parameter is evaluated on the test set\n",
    "Sklearn enables you to this through GridSearchCV()"
   ]
  },
  {
   "cell_type": "code",
   "execution_count": 3,
   "metadata": {},
   "outputs": [],
   "source": [
    "from sklearn.model_selection import GridSearchCV"
   ]
  },
  {
   "cell_type": "code",
   "execution_count": 4,
   "metadata": {},
   "outputs": [],
   "source": [
    "import pandas as pd\n",
    "\n",
    "from sklearn.datasets import fetch_california_housing\n",
    "california = fetch_california_housing()  # Bunch object\n",
    "\n",
    "df = pd.DataFrame(california.data, columns = california.feature_names)\n",
    "df[\"Value\"] = california.target\n",
    "\n",
    "features = df.drop(\"Value\", axis=1)\n",
    "target = df[\"Value\"]"
   ]
  },
  {
   "cell_type": "code",
   "execution_count": 5,
   "metadata": {},
   "outputs": [
    {
     "name": "stdout",
     "output_type": "stream",
     "text": [
      "R-squared value for training set:  0.6095096727794165\n",
      "R-squared value for testing set:  0.5957098932871041\n"
     ]
    }
   ],
   "source": [
    "from sklearn.linear_model import Ridge\n",
    "from sklearn.model_selection import train_test_split\n",
    "from sklearn.metrics import r2_score\n",
    "from sklearn.metrics import mean_squared_error\n",
    "\n",
    "#split data into training and testing sets\n",
    "X_train, X_test, y_train, y_test = train_test_split(features, target, random_state=3000)\n",
    "\n",
    "\n",
    "model = Ridge(alpha = 10).fit(X=X_train, y=y_train)\n",
    "\n",
    "print(\"R-squared value for training set: \", r2_score(y_train, model.predict(X_train)))\n",
    "print(\"R-squared value for testing set: \", r2_score(y_test, model.predict(X_test)))\n"
   ]
  },
  {
   "cell_type": "code",
   "execution_count": 7,
   "metadata": {},
   "outputs": [],
   "source": [
    "param_grid = {'alpha' : [0.001, 0.01, 0.1, 1, 10, 100]}"
   ]
  },
  {
   "cell_type": "code",
   "execution_count": 8,
   "metadata": {},
   "outputs": [
    {
     "name": "stdout",
     "output_type": "stream",
     "text": [
      "Best parameters:  {'alpha': 0.001}\n",
      "Best cross-validation score:  0.6072051741818467\n",
      "Test set score:  0.5954462604953146\n"
     ]
    }
   ],
   "source": [
    "from sklearn.linear_model import Ridge\n",
    "from sklearn.model_selection import train_test_split\n",
    "from sklearn.metrics import r2_score\n",
    "from sklearn.metrics import mean_squared_error\n",
    "\n",
    "#import GridSearchCV and fit GridSearchCV\n",
    "from sklearn.model_selection import GridSearchCV\n",
    "grid_search = GridSearchCV(Ridge(), param_grid, cv = 5)\n",
    "\n",
    "#split data into training and testing sets\n",
    "X_train, X_test, y_train, y_test = train_test_split(features, target, random_state=3000)\n",
    "\n",
    "#fit the grid search object on the training data (CV will be performed on this)\n",
    "grid_search.fit(X = X_train, y = y_train)\n",
    "\n",
    "#result of grid search\n",
    "print(\"Best parameters: \", grid_search.best_params_)\n",
    "print(\"Best cross-validation score: \", grid_search.best_score_)\n",
    "\n",
    "#the performance of the best found parameters on the test set\n",
    "#this is what you report for the evaluation of your model\n",
    "print(\"Test set score: \", grid_search.score(X_test, y_test))"
   ]
  },
  {
   "cell_type": "code",
   "execution_count": 9,
   "metadata": {},
   "outputs": [],
   "source": [
    "param_grid = {\"max_depth\":[1, 10, 100], \"min_samples_split\": [2, 10, 100]}"
   ]
  },
  {
   "cell_type": "code",
   "execution_count": 10,
   "metadata": {},
   "outputs": [
    {
     "name": "stdout",
     "output_type": "stream",
     "text": [
      "Best cross-validation score:  0.7041358008022387\n",
      "Best parameters:  {'max_depth': 100, 'min_samples_split': 100}\n",
      "Test set score:  0.6958656467897454\n"
     ]
    }
   ],
   "source": [
    "from sklearn.tree import DecisionTreeRegressor\n",
    "from sklearn.model_selection import train_test_split\n",
    "\n",
    "\n",
    "from sklearn.model_selection import GridSearchCV\n",
    "grid_search = GridSearchCV(DecisionTreeRegressor(), param_grid, cv=5)\n",
    "\n",
    "#split data into training and testing sets\n",
    "X_train, X_test, y_train, y_test = train_test_split(features, target, random_state=3000)\n",
    "\n",
    "#fit the grid search object on the training data (CV will be performed on this)\n",
    "grid_search.fit(X=X_train, y=y_train)\n",
    "\n",
    "#this is the best performance during training\n",
    "print(\"Best cross-validation score: \", grid_search.best_score_)\n",
    "\n",
    "#result of grid search\n",
    "print(\"Best parameters: \", grid_search.best_params_)\n",
    "\n",
    "#the performance of the best found parameters on the test set\n",
    "print(\"Test set score: \", grid_search.score(X_test, y_test))"
   ]
  }
 ],
 "metadata": {
  "kernelspec": {
   "display_name": "Python 3",
   "language": "python",
   "name": "python3"
  },
  "language_info": {
   "codemirror_mode": {
    "name": "ipython",
    "version": 3
   },
   "file_extension": ".py",
   "mimetype": "text/x-python",
   "name": "python",
   "nbconvert_exporter": "python",
   "pygments_lexer": "ipython3",
   "version": "3.8.3"
  }
 },
 "nbformat": 4,
 "nbformat_minor": 4
}

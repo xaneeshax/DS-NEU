{
 "cells": [
  {
   "cell_type": "code",
   "execution_count": 2,
   "metadata": {},
   "outputs": [],
   "source": [
    "import pandas as pd\n",
    "\n",
    "from sklearn.datasets import fetch_california_housing\n",
    "california = fetch_california_housing()  # Bunch object\n",
    "\n",
    "df = pd.DataFrame(california.data, columns=california.feature_names)\n",
    "df[\"Value\"] = california.target\n",
    "\n",
    "features = df.drop(\"Value\", axis=1)\n",
    "target = df[\"Value\"]\n",
    "\n",
    "from sklearn.linear_model import Ridge\n",
    "from sklearn.model_selection import train_test_split\n",
    "from sklearn.metrics import r2_score\n",
    "from sklearn.metrics import mean_squared_error\n",
    "\n",
    "#split data into training and testing sets\n",
    "X_train, X_test, y_train, y_test = train_test_split(features, target, random_state=3000)\n"
   ]
  },
  {
   "cell_type": "code",
   "execution_count": 3,
   "metadata": {},
   "outputs": [
    {
     "name": "stdout",
     "output_type": "stream",
     "text": [
      "R-squared value for training set:  0.3552191554473735\n",
      "R-squared value for testing set:  0.15373256149443015\n"
     ]
    }
   ],
   "source": [
    "from sklearn.neighbors import KNeighborsRegressor\n",
    "from sklearn.model_selection import train_test_split\n",
    "from sklearn.metrics import r2_score\n",
    "\n",
    "#split data into training and testing sets\n",
    "X_train, X_test, y_train, y_test = train_test_split(features, target, random_state=3000)\n",
    "\n",
    "\n",
    "model = KNeighborsRegressor(n_neighbors = 8).fit(X=X_train, y=y_train)\n",
    "\n",
    "\n",
    "print(\"R-squared value for training set: \", r2_score(y_train, model.predict(X_train)))\n",
    "print(\"R-squared value for testing set: \", r2_score(y_test, model.predict(X_test)))"
   ]
  },
  {
   "cell_type": "code",
   "execution_count": 4,
   "metadata": {},
   "outputs": [
    {
     "name": "stdout",
     "output_type": "stream",
     "text": [
      "R-squared value for training set:  -0.4493091073786699\n",
      "R-squared value for testing set:  -0.050274422507442074\n"
     ]
    }
   ],
   "source": [
    "from sklearn.svm import LinearSVR\n",
    "from sklearn.model_selection import train_test_split\n",
    "from sklearn.metrics import r2_score\n",
    "\n",
    "#split data into training and testing sets\n",
    "X_train, X_test, y_train, y_test = train_test_split(features, target, random_state=3000)\n",
    "\n",
    "\n",
    "model = LinearSVR(C=0.01, max_iter = 10000000).fit(X=X_train, y=y_train)\n",
    "\n",
    "\n",
    "print(\"R-squared value for training set: \", r2_score(y_train, model.predict(X_train)))\n",
    "print(\"R-squared value for testing set: \", r2_score(y_test, model.predict(X_test)))"
   ]
  },
  {
   "cell_type": "code",
   "execution_count": null,
   "metadata": {},
   "outputs": [],
   "source": []
  }
 ],
 "metadata": {
  "kernelspec": {
   "display_name": "Python 3",
   "language": "python",
   "name": "python3"
  },
  "language_info": {
   "codemirror_mode": {
    "name": "ipython",
    "version": 3
   },
   "file_extension": ".py",
   "mimetype": "text/x-python",
   "name": "python",
   "nbconvert_exporter": "python",
   "pygments_lexer": "ipython3",
   "version": "3.7.6"
  }
 },
 "nbformat": 4,
 "nbformat_minor": 4
}

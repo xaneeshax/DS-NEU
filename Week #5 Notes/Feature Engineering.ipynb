{
 "cells": [
  {
   "cell_type": "raw",
   "metadata": {},
   "source": [
    "The process of representing raw data in a meaningful way for ML tasks\n",
    "Need to quantify the properties of the data- not all predictors are continuous\n",
    "These are varaibles based on which you will make predictions\n",
    "Known as features, predictors, or attributes (sometimes as IVs too)\n",
    "\n",
    "\n",
    "3 Main Machine Learning Strategies\n",
    "1. One-Hot Encoding\n",
    "- replace a categorical varible with one or more new features\n",
    "- weights associated with the features\n",
    "2. Feature Discetization\n",
    "3. Polynomial Features"
   ]
  },
  {
   "cell_type": "code",
   "execution_count": 1,
   "metadata": {},
   "outputs": [],
   "source": [
    "import pandas as pd\n",
    "\n",
    "data = pd.read_csv('quidditch.csv')"
   ]
  },
  {
   "cell_type": "code",
   "execution_count": 2,
   "metadata": {},
   "outputs": [
    {
     "data": {
      "text/html": [
       "<div>\n",
       "<style scoped>\n",
       "    .dataframe tbody tr th:only-of-type {\n",
       "        vertical-align: middle;\n",
       "    }\n",
       "\n",
       "    .dataframe tbody tr th {\n",
       "        vertical-align: top;\n",
       "    }\n",
       "\n",
       "    .dataframe thead th {\n",
       "        text-align: right;\n",
       "    }\n",
       "</style>\n",
       "<table border=\"1\" class=\"dataframe\">\n",
       "  <thead>\n",
       "    <tr style=\"text-align: right;\">\n",
       "      <th></th>\n",
       "      <th>Student</th>\n",
       "      <th>House</th>\n",
       "      <th>Quidditch</th>\n",
       "      <th>Potion_Ave</th>\n",
       "      <th>Charm_Ave</th>\n",
       "    </tr>\n",
       "  </thead>\n",
       "  <tbody>\n",
       "    <tr>\n",
       "      <th>0</th>\n",
       "      <td>Hermione Granger</td>\n",
       "      <td>Gryffindor</td>\n",
       "      <td>No</td>\n",
       "      <td>100.0</td>\n",
       "      <td>100.0</td>\n",
       "    </tr>\n",
       "    <tr>\n",
       "      <th>1</th>\n",
       "      <td>Anthony Goldstein</td>\n",
       "      <td>Ravenclaw</td>\n",
       "      <td>Yes</td>\n",
       "      <td>89.0</td>\n",
       "      <td>87.0</td>\n",
       "    </tr>\n",
       "    <tr>\n",
       "      <th>2</th>\n",
       "      <td>Harry Potter</td>\n",
       "      <td>Gryffindor</td>\n",
       "      <td>Yes</td>\n",
       "      <td>88.0</td>\n",
       "      <td>90.0</td>\n",
       "    </tr>\n",
       "    <tr>\n",
       "      <th>3</th>\n",
       "      <td>Lisa Turpin</td>\n",
       "      <td>Ravenclaw</td>\n",
       "      <td>No</td>\n",
       "      <td>86.5</td>\n",
       "      <td>84.0</td>\n",
       "    </tr>\n",
       "    <tr>\n",
       "      <th>4</th>\n",
       "      <td>Michael Corner</td>\n",
       "      <td>Ravenclaw</td>\n",
       "      <td>Yes</td>\n",
       "      <td>85.5</td>\n",
       "      <td>86.5</td>\n",
       "    </tr>\n",
       "    <tr>\n",
       "      <th>5</th>\n",
       "      <td>Draco Malfoy</td>\n",
       "      <td>Slytherin</td>\n",
       "      <td>Yes</td>\n",
       "      <td>84.5</td>\n",
       "      <td>81.0</td>\n",
       "    </tr>\n",
       "    <tr>\n",
       "      <th>6</th>\n",
       "      <td>Susan Bones</td>\n",
       "      <td>Hufflepuff</td>\n",
       "      <td>Yes</td>\n",
       "      <td>84.0</td>\n",
       "      <td>83.5</td>\n",
       "    </tr>\n",
       "    <tr>\n",
       "      <th>7</th>\n",
       "      <td>Ron Weasley</td>\n",
       "      <td>Gryffindor</td>\n",
       "      <td>Yes</td>\n",
       "      <td>83.0</td>\n",
       "      <td>87.5</td>\n",
       "    </tr>\n",
       "    <tr>\n",
       "      <th>8</th>\n",
       "      <td>Hannah Abbott</td>\n",
       "      <td>Hufflepuff</td>\n",
       "      <td>No</td>\n",
       "      <td>80.5</td>\n",
       "      <td>84.5</td>\n",
       "    </tr>\n",
       "    <tr>\n",
       "      <th>9</th>\n",
       "      <td>Ernie Macmillan</td>\n",
       "      <td>Hufflepuff</td>\n",
       "      <td>Yes</td>\n",
       "      <td>77.5</td>\n",
       "      <td>85.0</td>\n",
       "    </tr>\n",
       "    <tr>\n",
       "      <th>10</th>\n",
       "      <td>Gregory Goyle</td>\n",
       "      <td>Slytherin</td>\n",
       "      <td>No</td>\n",
       "      <td>66.5</td>\n",
       "      <td>59.5</td>\n",
       "    </tr>\n",
       "    <tr>\n",
       "      <th>11</th>\n",
       "      <td>Vincent Crabbe</td>\n",
       "      <td>Slytherin</td>\n",
       "      <td>Yes</td>\n",
       "      <td>64.0</td>\n",
       "      <td>60.0</td>\n",
       "    </tr>\n",
       "    <tr>\n",
       "      <th>12</th>\n",
       "      <td>Neville Longbottom</td>\n",
       "      <td>Gryffindor</td>\n",
       "      <td>No</td>\n",
       "      <td>60.0</td>\n",
       "      <td>65.0</td>\n",
       "    </tr>\n",
       "    <tr>\n",
       "      <th>13</th>\n",
       "      <td>Pansy Parkinson</td>\n",
       "      <td>Slytherin</td>\n",
       "      <td>No</td>\n",
       "      <td>72.0</td>\n",
       "      <td>71.0</td>\n",
       "    </tr>\n",
       "    <tr>\n",
       "      <th>14</th>\n",
       "      <td>Megan Jones</td>\n",
       "      <td>Hufflepuff</td>\n",
       "      <td>No</td>\n",
       "      <td>81.0</td>\n",
       "      <td>80.0</td>\n",
       "    </tr>\n",
       "    <tr>\n",
       "      <th>15</th>\n",
       "      <td>Padma Patil</td>\n",
       "      <td>Ravenclaw</td>\n",
       "      <td>No</td>\n",
       "      <td>85.0</td>\n",
       "      <td>91.0</td>\n",
       "    </tr>\n",
       "  </tbody>\n",
       "</table>\n",
       "</div>"
      ],
      "text/plain": [
       "               Student       House Quidditch  Potion_Ave  Charm_Ave\n",
       "0     Hermione Granger  Gryffindor        No       100.0      100.0\n",
       "1    Anthony Goldstein   Ravenclaw       Yes        89.0       87.0\n",
       "2         Harry Potter  Gryffindor       Yes        88.0       90.0\n",
       "3          Lisa Turpin   Ravenclaw        No        86.5       84.0\n",
       "4       Michael Corner   Ravenclaw       Yes        85.5       86.5\n",
       "5         Draco Malfoy   Slytherin       Yes        84.5       81.0\n",
       "6          Susan Bones  Hufflepuff       Yes        84.0       83.5\n",
       "7          Ron Weasley  Gryffindor       Yes        83.0       87.5\n",
       "8        Hannah Abbott  Hufflepuff        No        80.5       84.5\n",
       "9      Ernie Macmillan  Hufflepuff       Yes        77.5       85.0\n",
       "10       Gregory Goyle   Slytherin        No        66.5       59.5\n",
       "11      Vincent Crabbe   Slytherin       Yes        64.0       60.0\n",
       "12  Neville Longbottom  Gryffindor        No        60.0       65.0\n",
       "13     Pansy Parkinson   Slytherin        No        72.0       71.0\n",
       "14         Megan Jones  Hufflepuff        No        81.0       80.0\n",
       "15         Padma Patil   Ravenclaw        No        85.0       91.0"
      ]
     },
     "execution_count": 2,
     "metadata": {},
     "output_type": "execute_result"
    }
   ],
   "source": [
    "data"
   ]
  },
  {
   "cell_type": "code",
   "execution_count": 3,
   "metadata": {},
   "outputs": [
    {
     "data": {
      "text/plain": [
       "array([['Gryffindor'],\n",
       "       ['Ravenclaw'],\n",
       "       ['Gryffindor'],\n",
       "       ['Ravenclaw'],\n",
       "       ['Ravenclaw'],\n",
       "       ['Slytherin'],\n",
       "       ['Hufflepuff'],\n",
       "       ['Gryffindor'],\n",
       "       ['Hufflepuff'],\n",
       "       ['Hufflepuff'],\n",
       "       ['Slytherin'],\n",
       "       ['Slytherin'],\n",
       "       ['Gryffindor'],\n",
       "       ['Slytherin'],\n",
       "       ['Hufflepuff'],\n",
       "       ['Ravenclaw']], dtype=object)"
      ]
     },
     "execution_count": 3,
     "metadata": {},
     "output_type": "execute_result"
    }
   ],
   "source": [
    "new_df = data['House'].values.reshape(-1, 1)\n",
    "new_df"
   ]
  },
  {
   "cell_type": "code",
   "execution_count": 13,
   "metadata": {},
   "outputs": [],
   "source": [
    "from sklearn.preprocessing import OneHotEncoder\n",
    "\n",
    "encoder = OneHotEncoder(sparse = False)\n",
    "\n",
    "encoded_df = encoder.fit_transform(new_df)"
   ]
  },
  {
   "cell_type": "code",
   "execution_count": 14,
   "metadata": {},
   "outputs": [
    {
     "data": {
      "text/plain": [
       "array([[1., 0., 0., 0.],\n",
       "       [0., 0., 1., 0.],\n",
       "       [1., 0., 0., 0.],\n",
       "       [0., 0., 1., 0.],\n",
       "       [0., 0., 1., 0.],\n",
       "       [0., 0., 0., 1.],\n",
       "       [0., 1., 0., 0.],\n",
       "       [1., 0., 0., 0.],\n",
       "       [0., 1., 0., 0.],\n",
       "       [0., 1., 0., 0.],\n",
       "       [0., 0., 0., 1.],\n",
       "       [0., 0., 0., 1.],\n",
       "       [1., 0., 0., 0.],\n",
       "       [0., 0., 0., 1.],\n",
       "       [0., 1., 0., 0.],\n",
       "       [0., 0., 1., 0.]])"
      ]
     },
     "execution_count": 14,
     "metadata": {},
     "output_type": "execute_result"
    }
   ],
   "source": [
    "encoded_df"
   ]
  },
  {
   "cell_type": "code",
   "execution_count": 6,
   "metadata": {},
   "outputs": [
    {
     "data": {
      "text/plain": [
       "array(['x0_Anthony Goldstein', 'x0_Harry Potter', 'x1_Gryffindor',\n",
       "       'x1_Ravenclaw', 'x2_Yes', 'x3_88.0', 'x3_89.0', 'x4_87.0',\n",
       "       'x4_90.0'], dtype=object)"
      ]
     },
     "execution_count": 6,
     "metadata": {},
     "output_type": "execute_result"
    }
   ],
   "source": [
    "encoder.get_feature_names()"
   ]
  },
  {
   "cell_type": "code",
   "execution_count": 7,
   "metadata": {},
   "outputs": [
    {
     "data": {
      "text/html": [
       "<div>\n",
       "<style scoped>\n",
       "    .dataframe tbody tr th:only-of-type {\n",
       "        vertical-align: middle;\n",
       "    }\n",
       "\n",
       "    .dataframe tbody tr th {\n",
       "        vertical-align: top;\n",
       "    }\n",
       "\n",
       "    .dataframe thead th {\n",
       "        text-align: right;\n",
       "    }\n",
       "</style>\n",
       "<table border=\"1\" class=\"dataframe\">\n",
       "  <thead>\n",
       "    <tr style=\"text-align: right;\">\n",
       "      <th></th>\n",
       "      <th>x0_Anthony Goldstein</th>\n",
       "      <th>x0_Harry Potter</th>\n",
       "      <th>x1_Gryffindor</th>\n",
       "      <th>x1_Ravenclaw</th>\n",
       "      <th>x2_Yes</th>\n",
       "      <th>x3_88.0</th>\n",
       "      <th>x3_89.0</th>\n",
       "      <th>x4_87.0</th>\n",
       "      <th>x4_90.0</th>\n",
       "    </tr>\n",
       "  </thead>\n",
       "  <tbody>\n",
       "    <tr>\n",
       "      <th>0</th>\n",
       "      <td>1.0</td>\n",
       "      <td>0.0</td>\n",
       "      <td>0.0</td>\n",
       "      <td>1.0</td>\n",
       "      <td>1.0</td>\n",
       "      <td>0.0</td>\n",
       "      <td>1.0</td>\n",
       "      <td>1.0</td>\n",
       "      <td>0.0</td>\n",
       "    </tr>\n",
       "    <tr>\n",
       "      <th>1</th>\n",
       "      <td>0.0</td>\n",
       "      <td>1.0</td>\n",
       "      <td>1.0</td>\n",
       "      <td>0.0</td>\n",
       "      <td>1.0</td>\n",
       "      <td>1.0</td>\n",
       "      <td>0.0</td>\n",
       "      <td>0.0</td>\n",
       "      <td>1.0</td>\n",
       "    </tr>\n",
       "  </tbody>\n",
       "</table>\n",
       "</div>"
      ],
      "text/plain": [
       "   x0_Anthony Goldstein  x0_Harry Potter  x1_Gryffindor  x1_Ravenclaw  x2_Yes  \\\n",
       "0                   1.0              0.0            0.0           1.0     1.0   \n",
       "1                   0.0              1.0            1.0           0.0     1.0   \n",
       "\n",
       "   x3_88.0  x3_89.0  x4_87.0  x4_90.0  \n",
       "0      0.0      1.0      1.0      0.0  \n",
       "1      1.0      0.0      0.0      1.0  "
      ]
     },
     "execution_count": 7,
     "metadata": {},
     "output_type": "execute_result"
    }
   ],
   "source": [
    "features_df = pd.DataFrame(encoded_df, columns = encoder.get_feature_names())\n",
    "features_df"
   ]
  },
  {
   "cell_type": "code",
   "execution_count": 8,
   "metadata": {},
   "outputs": [],
   "source": [
    "features = data.iloc[:, 1:3]"
   ]
  },
  {
   "cell_type": "code",
   "execution_count": 9,
   "metadata": {},
   "outputs": [
    {
     "data": {
      "text/html": [
       "<div>\n",
       "<style scoped>\n",
       "    .dataframe tbody tr th:only-of-type {\n",
       "        vertical-align: middle;\n",
       "    }\n",
       "\n",
       "    .dataframe tbody tr th {\n",
       "        vertical-align: top;\n",
       "    }\n",
       "\n",
       "    .dataframe thead th {\n",
       "        text-align: right;\n",
       "    }\n",
       "</style>\n",
       "<table border=\"1\" class=\"dataframe\">\n",
       "  <thead>\n",
       "    <tr style=\"text-align: right;\">\n",
       "      <th></th>\n",
       "      <th>House</th>\n",
       "      <th>Quidditch</th>\n",
       "    </tr>\n",
       "  </thead>\n",
       "  <tbody>\n",
       "    <tr>\n",
       "      <th>0</th>\n",
       "      <td>Gryffindor</td>\n",
       "      <td>No</td>\n",
       "    </tr>\n",
       "    <tr>\n",
       "      <th>1</th>\n",
       "      <td>Ravenclaw</td>\n",
       "      <td>Yes</td>\n",
       "    </tr>\n",
       "    <tr>\n",
       "      <th>2</th>\n",
       "      <td>Gryffindor</td>\n",
       "      <td>Yes</td>\n",
       "    </tr>\n",
       "    <tr>\n",
       "      <th>3</th>\n",
       "      <td>Ravenclaw</td>\n",
       "      <td>No</td>\n",
       "    </tr>\n",
       "    <tr>\n",
       "      <th>4</th>\n",
       "      <td>Ravenclaw</td>\n",
       "      <td>Yes</td>\n",
       "    </tr>\n",
       "    <tr>\n",
       "      <th>5</th>\n",
       "      <td>Slytherin</td>\n",
       "      <td>Yes</td>\n",
       "    </tr>\n",
       "    <tr>\n",
       "      <th>6</th>\n",
       "      <td>Hufflepuff</td>\n",
       "      <td>Yes</td>\n",
       "    </tr>\n",
       "    <tr>\n",
       "      <th>7</th>\n",
       "      <td>Gryffindor</td>\n",
       "      <td>Yes</td>\n",
       "    </tr>\n",
       "    <tr>\n",
       "      <th>8</th>\n",
       "      <td>Hufflepuff</td>\n",
       "      <td>No</td>\n",
       "    </tr>\n",
       "    <tr>\n",
       "      <th>9</th>\n",
       "      <td>Hufflepuff</td>\n",
       "      <td>Yes</td>\n",
       "    </tr>\n",
       "    <tr>\n",
       "      <th>10</th>\n",
       "      <td>Slytherin</td>\n",
       "      <td>No</td>\n",
       "    </tr>\n",
       "    <tr>\n",
       "      <th>11</th>\n",
       "      <td>Slytherin</td>\n",
       "      <td>Yes</td>\n",
       "    </tr>\n",
       "    <tr>\n",
       "      <th>12</th>\n",
       "      <td>Gryffindor</td>\n",
       "      <td>No</td>\n",
       "    </tr>\n",
       "    <tr>\n",
       "      <th>13</th>\n",
       "      <td>Slytherin</td>\n",
       "      <td>No</td>\n",
       "    </tr>\n",
       "    <tr>\n",
       "      <th>14</th>\n",
       "      <td>Hufflepuff</td>\n",
       "      <td>No</td>\n",
       "    </tr>\n",
       "    <tr>\n",
       "      <th>15</th>\n",
       "      <td>Ravenclaw</td>\n",
       "      <td>No</td>\n",
       "    </tr>\n",
       "  </tbody>\n",
       "</table>\n",
       "</div>"
      ],
      "text/plain": [
       "         House Quidditch\n",
       "0   Gryffindor        No\n",
       "1    Ravenclaw       Yes\n",
       "2   Gryffindor       Yes\n",
       "3    Ravenclaw        No\n",
       "4    Ravenclaw       Yes\n",
       "5    Slytherin       Yes\n",
       "6   Hufflepuff       Yes\n",
       "7   Gryffindor       Yes\n",
       "8   Hufflepuff        No\n",
       "9   Hufflepuff       Yes\n",
       "10   Slytherin        No\n",
       "11   Slytherin       Yes\n",
       "12  Gryffindor        No\n",
       "13   Slytherin        No\n",
       "14  Hufflepuff        No\n",
       "15   Ravenclaw        No"
      ]
     },
     "execution_count": 9,
     "metadata": {},
     "output_type": "execute_result"
    }
   ],
   "source": [
    "features"
   ]
  },
  {
   "cell_type": "code",
   "execution_count": 10,
   "metadata": {},
   "outputs": [],
   "source": [
    "from sklearn.preprocessing import OneHotEncoder\n",
    "encoder = OneHotEncoder(sparse = True)\n",
    "encoded_df = encoder.fit_transform(features)"
   ]
  },
  {
   "cell_type": "code",
   "execution_count": 11,
   "metadata": {},
   "outputs": [
    {
     "data": {
      "text/plain": [
       "<16x6 sparse matrix of type '<class 'numpy.float64'>'\n",
       "\twith 32 stored elements in Compressed Sparse Row format>"
      ]
     },
     "execution_count": 11,
     "metadata": {},
     "output_type": "execute_result"
    }
   ],
   "source": [
    "encoded_df"
   ]
  },
  {
   "cell_type": "code",
   "execution_count": 12,
   "metadata": {},
   "outputs": [
    {
     "data": {
      "text/plain": [
       "array(['x0_Gryffindor', 'x0_Hufflepuff', 'x0_Ravenclaw', 'x0_Slytherin',\n",
       "       'x1_No', 'x1_Yes'], dtype=object)"
      ]
     },
     "execution_count": 12,
     "metadata": {},
     "output_type": "execute_result"
    }
   ],
   "source": [
    "encoder.get_feature_names()"
   ]
  },
  {
   "cell_type": "code",
   "execution_count": 13,
   "metadata": {},
   "outputs": [
    {
     "data": {
      "text/plain": [
       "\"\\nFeature Discretization (Binning)\\n- splitting continuous variables into multiple features\\n- transforms the continuous variables into a discrete one\\n  that represents intervals spanning the range of the \\n  variable's values\\n\""
      ]
     },
     "execution_count": 13,
     "metadata": {},
     "output_type": "execute_result"
    }
   ],
   "source": [
    "'''\n",
    "Feature Discretization (Binning)\n",
    "- splitting continuous variables into multiple features\n",
    "- transforms the continuous variables into a discrete one\n",
    "  that represents intervals spanning the range of the \n",
    "  variable's values\n",
    "'''"
   ]
  },
  {
   "cell_type": "code",
   "execution_count": 14,
   "metadata": {},
   "outputs": [],
   "source": [
    "from sklearn.preprocessing import KBinsDiscretizer\n",
    "\n",
    "discretizer = KBinsDiscretizer(n_bins = 3, encode = 'onehot-dense', strategy = 'quantile')\n",
    "potion_discretized = discretizer.fit_transform(data['Potion_Ave'].values.reshape(-1, 1))"
   ]
  },
  {
   "cell_type": "code",
   "execution_count": 15,
   "metadata": {},
   "outputs": [
    {
     "data": {
      "text/plain": [
       "array([[0., 0., 1.],\n",
       "       [0., 0., 1.],\n",
       "       [0., 0., 1.],\n",
       "       [0., 0., 1.],\n",
       "       [0., 0., 1.],\n",
       "       [0., 1., 0.],\n",
       "       [0., 1., 0.],\n",
       "       [0., 1., 0.],\n",
       "       [0., 1., 0.],\n",
       "       [1., 0., 0.],\n",
       "       [1., 0., 0.],\n",
       "       [1., 0., 0.],\n",
       "       [1., 0., 0.],\n",
       "       [1., 0., 0.],\n",
       "       [0., 1., 0.],\n",
       "       [0., 0., 1.]])"
      ]
     },
     "execution_count": 15,
     "metadata": {},
     "output_type": "execute_result"
    }
   ],
   "source": [
    "potion_discretized"
   ]
  },
  {
   "cell_type": "code",
   "execution_count": 16,
   "metadata": {},
   "outputs": [
    {
     "data": {
      "text/html": [
       "<div>\n",
       "<style scoped>\n",
       "    .dataframe tbody tr th:only-of-type {\n",
       "        vertical-align: middle;\n",
       "    }\n",
       "\n",
       "    .dataframe tbody tr th {\n",
       "        vertical-align: top;\n",
       "    }\n",
       "\n",
       "    .dataframe thead th {\n",
       "        text-align: right;\n",
       "    }\n",
       "</style>\n",
       "<table border=\"1\" class=\"dataframe\">\n",
       "  <thead>\n",
       "    <tr style=\"text-align: right;\">\n",
       "      <th></th>\n",
       "      <th>potionBin1</th>\n",
       "      <th>potionBin2</th>\n",
       "      <th>potionBin3</th>\n",
       "    </tr>\n",
       "  </thead>\n",
       "  <tbody>\n",
       "    <tr>\n",
       "      <th>0</th>\n",
       "      <td>0.0</td>\n",
       "      <td>0.0</td>\n",
       "      <td>1.0</td>\n",
       "    </tr>\n",
       "    <tr>\n",
       "      <th>1</th>\n",
       "      <td>0.0</td>\n",
       "      <td>0.0</td>\n",
       "      <td>1.0</td>\n",
       "    </tr>\n",
       "    <tr>\n",
       "      <th>2</th>\n",
       "      <td>0.0</td>\n",
       "      <td>0.0</td>\n",
       "      <td>1.0</td>\n",
       "    </tr>\n",
       "    <tr>\n",
       "      <th>3</th>\n",
       "      <td>0.0</td>\n",
       "      <td>0.0</td>\n",
       "      <td>1.0</td>\n",
       "    </tr>\n",
       "    <tr>\n",
       "      <th>4</th>\n",
       "      <td>0.0</td>\n",
       "      <td>0.0</td>\n",
       "      <td>1.0</td>\n",
       "    </tr>\n",
       "    <tr>\n",
       "      <th>5</th>\n",
       "      <td>0.0</td>\n",
       "      <td>1.0</td>\n",
       "      <td>0.0</td>\n",
       "    </tr>\n",
       "    <tr>\n",
       "      <th>6</th>\n",
       "      <td>0.0</td>\n",
       "      <td>1.0</td>\n",
       "      <td>0.0</td>\n",
       "    </tr>\n",
       "    <tr>\n",
       "      <th>7</th>\n",
       "      <td>0.0</td>\n",
       "      <td>1.0</td>\n",
       "      <td>0.0</td>\n",
       "    </tr>\n",
       "    <tr>\n",
       "      <th>8</th>\n",
       "      <td>0.0</td>\n",
       "      <td>1.0</td>\n",
       "      <td>0.0</td>\n",
       "    </tr>\n",
       "    <tr>\n",
       "      <th>9</th>\n",
       "      <td>1.0</td>\n",
       "      <td>0.0</td>\n",
       "      <td>0.0</td>\n",
       "    </tr>\n",
       "    <tr>\n",
       "      <th>10</th>\n",
       "      <td>1.0</td>\n",
       "      <td>0.0</td>\n",
       "      <td>0.0</td>\n",
       "    </tr>\n",
       "    <tr>\n",
       "      <th>11</th>\n",
       "      <td>1.0</td>\n",
       "      <td>0.0</td>\n",
       "      <td>0.0</td>\n",
       "    </tr>\n",
       "    <tr>\n",
       "      <th>12</th>\n",
       "      <td>1.0</td>\n",
       "      <td>0.0</td>\n",
       "      <td>0.0</td>\n",
       "    </tr>\n",
       "    <tr>\n",
       "      <th>13</th>\n",
       "      <td>1.0</td>\n",
       "      <td>0.0</td>\n",
       "      <td>0.0</td>\n",
       "    </tr>\n",
       "    <tr>\n",
       "      <th>14</th>\n",
       "      <td>0.0</td>\n",
       "      <td>1.0</td>\n",
       "      <td>0.0</td>\n",
       "    </tr>\n",
       "    <tr>\n",
       "      <th>15</th>\n",
       "      <td>0.0</td>\n",
       "      <td>0.0</td>\n",
       "      <td>1.0</td>\n",
       "    </tr>\n",
       "  </tbody>\n",
       "</table>\n",
       "</div>"
      ],
      "text/plain": [
       "    potionBin1  potionBin2  potionBin3\n",
       "0          0.0         0.0         1.0\n",
       "1          0.0         0.0         1.0\n",
       "2          0.0         0.0         1.0\n",
       "3          0.0         0.0         1.0\n",
       "4          0.0         0.0         1.0\n",
       "5          0.0         1.0         0.0\n",
       "6          0.0         1.0         0.0\n",
       "7          0.0         1.0         0.0\n",
       "8          0.0         1.0         0.0\n",
       "9          1.0         0.0         0.0\n",
       "10         1.0         0.0         0.0\n",
       "11         1.0         0.0         0.0\n",
       "12         1.0         0.0         0.0\n",
       "13         1.0         0.0         0.0\n",
       "14         0.0         1.0         0.0\n",
       "15         0.0         0.0         1.0"
      ]
     },
     "execution_count": 16,
     "metadata": {},
     "output_type": "execute_result"
    }
   ],
   "source": [
    "potion_df = pd.DataFrame(potion_discretized, columns = ['potionBin1', 'potionBin2', 'potionBin3'])\n",
    "potion_df"
   ]
  },
  {
   "cell_type": "code",
   "execution_count": 17,
   "metadata": {},
   "outputs": [
    {
     "data": {
      "text/plain": [
       "array([array([ 60. ,  80.5,  85. , 100. ])], dtype=object)"
      ]
     },
     "execution_count": 17,
     "metadata": {},
     "output_type": "execute_result"
    }
   ],
   "source": [
    "discretizer.bin_edges_"
   ]
  },
  {
   "cell_type": "raw",
   "metadata": {},
   "source": [
    "n_bins: The number of bins to produce (min is 2)\n",
    "\n",
    "encode: Method used to encode the transformed result.\n",
    "\n",
    "onehot: Encode the transformed result with one-hot encoding and return a sparse matrix (default).\n",
    "onehot-dense: Encode the transformed result with one-hot encoding and return a dense array.\n",
    "ordinal: Return the bin identifier encoded as an integer value without one-hot encoding the variable.\n",
    "\n",
    "strategy: Strategy used to define the widths of the bins.\n",
    "\n",
    "uniform: All bins in each feature have identical widths.\n",
    "quantile: All bins in each feature have the same number of points.\n",
    "kmeans: Values in each bin have the same nearest center of a 1D k-means cluster."
   ]
  },
  {
   "cell_type": "code",
   "execution_count": 18,
   "metadata": {},
   "outputs": [
    {
     "data": {
      "text/plain": [
       "'\\n3. Polynomial Features\\n- can generate polynomial values\\n- using polynomial features together with linear regression\\n'"
      ]
     },
     "execution_count": 18,
     "metadata": {},
     "output_type": "execute_result"
    }
   ],
   "source": [
    "'''\n",
    "3. Polynomial Features\n",
    "- can generate polynomial values\n",
    "- using polynomial features together with linear regression\n",
    "'''"
   ]
  },
  {
   "cell_type": "code",
   "execution_count": 19,
   "metadata": {},
   "outputs": [],
   "source": [
    "from sklearn.preprocessing import PolynomialFeatures"
   ]
  },
  {
   "cell_type": "code",
   "execution_count": 20,
   "metadata": {},
   "outputs": [],
   "source": [
    "# Includes polynomials up to x**10\n",
    "# a degree of 10 yields 10 features\n",
    "poly = PolynomialFeatures(degree = 10, include_bias = False)"
   ]
  },
  {
   "cell_type": "code",
   "execution_count": 21,
   "metadata": {},
   "outputs": [
    {
     "data": {
      "text/plain": [
       "array([[1.00000000e+02, 1.00000000e+04, 1.00000000e+06, 1.00000000e+08,\n",
       "        1.00000000e+10, 1.00000000e+12, 1.00000000e+14, 1.00000000e+16,\n",
       "        1.00000000e+18, 1.00000000e+20],\n",
       "       [8.90000000e+01, 7.92100000e+03, 7.04969000e+05, 6.27422410e+07,\n",
       "        5.58405945e+09, 4.96981291e+11, 4.42313349e+13, 3.93658881e+15,\n",
       "        3.50356404e+17, 3.11817199e+19],\n",
       "       [8.80000000e+01, 7.74400000e+03, 6.81472000e+05, 5.99695360e+07,\n",
       "        5.27731917e+09, 4.64404087e+11, 4.08675596e+13, 3.59634525e+15,\n",
       "        3.16478382e+17, 2.78500976e+19],\n",
       "       [8.65000000e+01, 7.48225000e+03, 6.47214625e+05, 5.59840651e+07,\n",
       "        4.84262163e+09, 4.18886771e+11, 3.62337057e+13, 3.13421554e+15,\n",
       "        2.71109644e+17, 2.34509842e+19],\n",
       "       [8.55000000e+01, 7.31025000e+03, 6.25026375e+05, 5.34397551e+07,\n",
       "        4.56909906e+09, 3.90657969e+11, 3.34012564e+13, 2.85580742e+15,\n",
       "        2.44171535e+17, 2.08766662e+19],\n",
       "       [8.45000000e+01, 7.14025000e+03, 6.03351125e+05, 5.09831701e+07,\n",
       "        4.30807787e+09, 3.64032580e+11, 3.07607530e+13, 2.59928363e+15,\n",
       "        2.19639467e+17, 1.85595349e+19],\n",
       "       [8.40000000e+01, 7.05600000e+03, 5.92704000e+05, 4.97871360e+07,\n",
       "        4.18211942e+09, 3.51298032e+11, 2.95090347e+13, 2.47875891e+15,\n",
       "        2.08215749e+17, 1.74901229e+19],\n",
       "       [8.30000000e+01, 6.88900000e+03, 5.71787000e+05, 4.74583210e+07,\n",
       "        3.93904064e+09, 3.26940373e+11, 2.71360510e+13, 2.25229223e+15,\n",
       "        1.86940255e+17, 1.55160412e+19],\n",
       "       [8.05000000e+01, 6.48025000e+03, 5.21660125e+05, 4.19936401e+07,\n",
       "        3.38048803e+09, 2.72129286e+11, 2.19064075e+13, 1.76346581e+15,\n",
       "        1.41958997e+17, 1.14276993e+19],\n",
       "       [7.75000000e+01, 6.00625000e+03, 4.65484375e+05, 3.60750391e+07,\n",
       "        2.79581553e+09, 2.16675703e+11, 1.67923670e+13, 1.30140844e+15,\n",
       "        1.00859154e+17, 7.81658446e+18],\n",
       "       [6.65000000e+01, 4.42225000e+03, 2.94079625e+05, 1.95562951e+07,\n",
       "        1.30049362e+09, 8.64828258e+10, 5.75110792e+12, 3.82448677e+14,\n",
       "        2.54328370e+16, 1.69128366e+18],\n",
       "       [6.40000000e+01, 4.09600000e+03, 2.62144000e+05, 1.67772160e+07,\n",
       "        1.07374182e+09, 6.87194767e+10, 4.39804651e+12, 2.81474977e+14,\n",
       "        1.80143985e+16, 1.15292150e+18],\n",
       "       [6.00000000e+01, 3.60000000e+03, 2.16000000e+05, 1.29600000e+07,\n",
       "        7.77600000e+08, 4.66560000e+10, 2.79936000e+12, 1.67961600e+14,\n",
       "        1.00776960e+16, 6.04661760e+17],\n",
       "       [7.20000000e+01, 5.18400000e+03, 3.73248000e+05, 2.68738560e+07,\n",
       "        1.93491763e+09, 1.39314070e+11, 1.00306130e+13, 7.22204136e+14,\n",
       "        5.19986978e+16, 3.74390624e+18],\n",
       "       [8.10000000e+01, 6.56100000e+03, 5.31441000e+05, 4.30467210e+07,\n",
       "        3.48678440e+09, 2.82429536e+11, 2.28767925e+13, 1.85302019e+15,\n",
       "        1.50094635e+17, 1.21576655e+19],\n",
       "       [8.50000000e+01, 7.22500000e+03, 6.14125000e+05, 5.22006250e+07,\n",
       "        4.43705312e+09, 3.77149516e+11, 3.20577088e+13, 2.72490525e+15,\n",
       "        2.31616946e+17, 1.96874404e+19]])"
      ]
     },
     "execution_count": 21,
     "metadata": {},
     "output_type": "execute_result"
    }
   ],
   "source": [
    "potion_poly = poly.fit_transform(data['Potion_Ave'].values.reshape(-1, 1))\n",
    "potion_poly"
   ]
  },
  {
   "cell_type": "code",
   "execution_count": 22,
   "metadata": {},
   "outputs": [
    {
     "data": {
      "text/html": [
       "<div>\n",
       "<style scoped>\n",
       "    .dataframe tbody tr th:only-of-type {\n",
       "        vertical-align: middle;\n",
       "    }\n",
       "\n",
       "    .dataframe tbody tr th {\n",
       "        vertical-align: top;\n",
       "    }\n",
       "\n",
       "    .dataframe thead th {\n",
       "        text-align: right;\n",
       "    }\n",
       "</style>\n",
       "<table border=\"1\" class=\"dataframe\">\n",
       "  <thead>\n",
       "    <tr style=\"text-align: right;\">\n",
       "      <th></th>\n",
       "      <th>x0</th>\n",
       "      <th>x0^2</th>\n",
       "      <th>x0^3</th>\n",
       "      <th>x0^4</th>\n",
       "      <th>x0^5</th>\n",
       "      <th>x0^6</th>\n",
       "      <th>x0^7</th>\n",
       "      <th>x0^8</th>\n",
       "      <th>x0^9</th>\n",
       "      <th>x0^10</th>\n",
       "    </tr>\n",
       "  </thead>\n",
       "  <tbody>\n",
       "    <tr>\n",
       "      <th>0</th>\n",
       "      <td>100.0</td>\n",
       "      <td>10000.00</td>\n",
       "      <td>1000000.000</td>\n",
       "      <td>1.000000e+08</td>\n",
       "      <td>1.000000e+10</td>\n",
       "      <td>1.000000e+12</td>\n",
       "      <td>1.000000e+14</td>\n",
       "      <td>1.000000e+16</td>\n",
       "      <td>1.000000e+18</td>\n",
       "      <td>1.000000e+20</td>\n",
       "    </tr>\n",
       "    <tr>\n",
       "      <th>1</th>\n",
       "      <td>89.0</td>\n",
       "      <td>7921.00</td>\n",
       "      <td>704969.000</td>\n",
       "      <td>6.274224e+07</td>\n",
       "      <td>5.584059e+09</td>\n",
       "      <td>4.969813e+11</td>\n",
       "      <td>4.423133e+13</td>\n",
       "      <td>3.936589e+15</td>\n",
       "      <td>3.503564e+17</td>\n",
       "      <td>3.118172e+19</td>\n",
       "    </tr>\n",
       "    <tr>\n",
       "      <th>2</th>\n",
       "      <td>88.0</td>\n",
       "      <td>7744.00</td>\n",
       "      <td>681472.000</td>\n",
       "      <td>5.996954e+07</td>\n",
       "      <td>5.277319e+09</td>\n",
       "      <td>4.644041e+11</td>\n",
       "      <td>4.086756e+13</td>\n",
       "      <td>3.596345e+15</td>\n",
       "      <td>3.164784e+17</td>\n",
       "      <td>2.785010e+19</td>\n",
       "    </tr>\n",
       "    <tr>\n",
       "      <th>3</th>\n",
       "      <td>86.5</td>\n",
       "      <td>7482.25</td>\n",
       "      <td>647214.625</td>\n",
       "      <td>5.598407e+07</td>\n",
       "      <td>4.842622e+09</td>\n",
       "      <td>4.188868e+11</td>\n",
       "      <td>3.623371e+13</td>\n",
       "      <td>3.134216e+15</td>\n",
       "      <td>2.711096e+17</td>\n",
       "      <td>2.345098e+19</td>\n",
       "    </tr>\n",
       "    <tr>\n",
       "      <th>4</th>\n",
       "      <td>85.5</td>\n",
       "      <td>7310.25</td>\n",
       "      <td>625026.375</td>\n",
       "      <td>5.343976e+07</td>\n",
       "      <td>4.569099e+09</td>\n",
       "      <td>3.906580e+11</td>\n",
       "      <td>3.340126e+13</td>\n",
       "      <td>2.855807e+15</td>\n",
       "      <td>2.441715e+17</td>\n",
       "      <td>2.087667e+19</td>\n",
       "    </tr>\n",
       "    <tr>\n",
       "      <th>5</th>\n",
       "      <td>84.5</td>\n",
       "      <td>7140.25</td>\n",
       "      <td>603351.125</td>\n",
       "      <td>5.098317e+07</td>\n",
       "      <td>4.308078e+09</td>\n",
       "      <td>3.640326e+11</td>\n",
       "      <td>3.076075e+13</td>\n",
       "      <td>2.599284e+15</td>\n",
       "      <td>2.196395e+17</td>\n",
       "      <td>1.855953e+19</td>\n",
       "    </tr>\n",
       "    <tr>\n",
       "      <th>6</th>\n",
       "      <td>84.0</td>\n",
       "      <td>7056.00</td>\n",
       "      <td>592704.000</td>\n",
       "      <td>4.978714e+07</td>\n",
       "      <td>4.182119e+09</td>\n",
       "      <td>3.512980e+11</td>\n",
       "      <td>2.950903e+13</td>\n",
       "      <td>2.478759e+15</td>\n",
       "      <td>2.082157e+17</td>\n",
       "      <td>1.749012e+19</td>\n",
       "    </tr>\n",
       "    <tr>\n",
       "      <th>7</th>\n",
       "      <td>83.0</td>\n",
       "      <td>6889.00</td>\n",
       "      <td>571787.000</td>\n",
       "      <td>4.745832e+07</td>\n",
       "      <td>3.939041e+09</td>\n",
       "      <td>3.269404e+11</td>\n",
       "      <td>2.713605e+13</td>\n",
       "      <td>2.252292e+15</td>\n",
       "      <td>1.869403e+17</td>\n",
       "      <td>1.551604e+19</td>\n",
       "    </tr>\n",
       "    <tr>\n",
       "      <th>8</th>\n",
       "      <td>80.5</td>\n",
       "      <td>6480.25</td>\n",
       "      <td>521660.125</td>\n",
       "      <td>4.199364e+07</td>\n",
       "      <td>3.380488e+09</td>\n",
       "      <td>2.721293e+11</td>\n",
       "      <td>2.190641e+13</td>\n",
       "      <td>1.763466e+15</td>\n",
       "      <td>1.419590e+17</td>\n",
       "      <td>1.142770e+19</td>\n",
       "    </tr>\n",
       "    <tr>\n",
       "      <th>9</th>\n",
       "      <td>77.5</td>\n",
       "      <td>6006.25</td>\n",
       "      <td>465484.375</td>\n",
       "      <td>3.607504e+07</td>\n",
       "      <td>2.795816e+09</td>\n",
       "      <td>2.166757e+11</td>\n",
       "      <td>1.679237e+13</td>\n",
       "      <td>1.301408e+15</td>\n",
       "      <td>1.008592e+17</td>\n",
       "      <td>7.816584e+18</td>\n",
       "    </tr>\n",
       "    <tr>\n",
       "      <th>10</th>\n",
       "      <td>66.5</td>\n",
       "      <td>4422.25</td>\n",
       "      <td>294079.625</td>\n",
       "      <td>1.955630e+07</td>\n",
       "      <td>1.300494e+09</td>\n",
       "      <td>8.648283e+10</td>\n",
       "      <td>5.751108e+12</td>\n",
       "      <td>3.824487e+14</td>\n",
       "      <td>2.543284e+16</td>\n",
       "      <td>1.691284e+18</td>\n",
       "    </tr>\n",
       "    <tr>\n",
       "      <th>11</th>\n",
       "      <td>64.0</td>\n",
       "      <td>4096.00</td>\n",
       "      <td>262144.000</td>\n",
       "      <td>1.677722e+07</td>\n",
       "      <td>1.073742e+09</td>\n",
       "      <td>6.871948e+10</td>\n",
       "      <td>4.398047e+12</td>\n",
       "      <td>2.814750e+14</td>\n",
       "      <td>1.801440e+16</td>\n",
       "      <td>1.152922e+18</td>\n",
       "    </tr>\n",
       "    <tr>\n",
       "      <th>12</th>\n",
       "      <td>60.0</td>\n",
       "      <td>3600.00</td>\n",
       "      <td>216000.000</td>\n",
       "      <td>1.296000e+07</td>\n",
       "      <td>7.776000e+08</td>\n",
       "      <td>4.665600e+10</td>\n",
       "      <td>2.799360e+12</td>\n",
       "      <td>1.679616e+14</td>\n",
       "      <td>1.007770e+16</td>\n",
       "      <td>6.046618e+17</td>\n",
       "    </tr>\n",
       "    <tr>\n",
       "      <th>13</th>\n",
       "      <td>72.0</td>\n",
       "      <td>5184.00</td>\n",
       "      <td>373248.000</td>\n",
       "      <td>2.687386e+07</td>\n",
       "      <td>1.934918e+09</td>\n",
       "      <td>1.393141e+11</td>\n",
       "      <td>1.003061e+13</td>\n",
       "      <td>7.222041e+14</td>\n",
       "      <td>5.199870e+16</td>\n",
       "      <td>3.743906e+18</td>\n",
       "    </tr>\n",
       "    <tr>\n",
       "      <th>14</th>\n",
       "      <td>81.0</td>\n",
       "      <td>6561.00</td>\n",
       "      <td>531441.000</td>\n",
       "      <td>4.304672e+07</td>\n",
       "      <td>3.486784e+09</td>\n",
       "      <td>2.824295e+11</td>\n",
       "      <td>2.287679e+13</td>\n",
       "      <td>1.853020e+15</td>\n",
       "      <td>1.500946e+17</td>\n",
       "      <td>1.215767e+19</td>\n",
       "    </tr>\n",
       "    <tr>\n",
       "      <th>15</th>\n",
       "      <td>85.0</td>\n",
       "      <td>7225.00</td>\n",
       "      <td>614125.000</td>\n",
       "      <td>5.220062e+07</td>\n",
       "      <td>4.437053e+09</td>\n",
       "      <td>3.771495e+11</td>\n",
       "      <td>3.205771e+13</td>\n",
       "      <td>2.724905e+15</td>\n",
       "      <td>2.316169e+17</td>\n",
       "      <td>1.968744e+19</td>\n",
       "    </tr>\n",
       "  </tbody>\n",
       "</table>\n",
       "</div>"
      ],
      "text/plain": [
       "       x0      x0^2         x0^3          x0^4          x0^5          x0^6  \\\n",
       "0   100.0  10000.00  1000000.000  1.000000e+08  1.000000e+10  1.000000e+12   \n",
       "1    89.0   7921.00   704969.000  6.274224e+07  5.584059e+09  4.969813e+11   \n",
       "2    88.0   7744.00   681472.000  5.996954e+07  5.277319e+09  4.644041e+11   \n",
       "3    86.5   7482.25   647214.625  5.598407e+07  4.842622e+09  4.188868e+11   \n",
       "4    85.5   7310.25   625026.375  5.343976e+07  4.569099e+09  3.906580e+11   \n",
       "5    84.5   7140.25   603351.125  5.098317e+07  4.308078e+09  3.640326e+11   \n",
       "6    84.0   7056.00   592704.000  4.978714e+07  4.182119e+09  3.512980e+11   \n",
       "7    83.0   6889.00   571787.000  4.745832e+07  3.939041e+09  3.269404e+11   \n",
       "8    80.5   6480.25   521660.125  4.199364e+07  3.380488e+09  2.721293e+11   \n",
       "9    77.5   6006.25   465484.375  3.607504e+07  2.795816e+09  2.166757e+11   \n",
       "10   66.5   4422.25   294079.625  1.955630e+07  1.300494e+09  8.648283e+10   \n",
       "11   64.0   4096.00   262144.000  1.677722e+07  1.073742e+09  6.871948e+10   \n",
       "12   60.0   3600.00   216000.000  1.296000e+07  7.776000e+08  4.665600e+10   \n",
       "13   72.0   5184.00   373248.000  2.687386e+07  1.934918e+09  1.393141e+11   \n",
       "14   81.0   6561.00   531441.000  4.304672e+07  3.486784e+09  2.824295e+11   \n",
       "15   85.0   7225.00   614125.000  5.220062e+07  4.437053e+09  3.771495e+11   \n",
       "\n",
       "            x0^7          x0^8          x0^9         x0^10  \n",
       "0   1.000000e+14  1.000000e+16  1.000000e+18  1.000000e+20  \n",
       "1   4.423133e+13  3.936589e+15  3.503564e+17  3.118172e+19  \n",
       "2   4.086756e+13  3.596345e+15  3.164784e+17  2.785010e+19  \n",
       "3   3.623371e+13  3.134216e+15  2.711096e+17  2.345098e+19  \n",
       "4   3.340126e+13  2.855807e+15  2.441715e+17  2.087667e+19  \n",
       "5   3.076075e+13  2.599284e+15  2.196395e+17  1.855953e+19  \n",
       "6   2.950903e+13  2.478759e+15  2.082157e+17  1.749012e+19  \n",
       "7   2.713605e+13  2.252292e+15  1.869403e+17  1.551604e+19  \n",
       "8   2.190641e+13  1.763466e+15  1.419590e+17  1.142770e+19  \n",
       "9   1.679237e+13  1.301408e+15  1.008592e+17  7.816584e+18  \n",
       "10  5.751108e+12  3.824487e+14  2.543284e+16  1.691284e+18  \n",
       "11  4.398047e+12  2.814750e+14  1.801440e+16  1.152922e+18  \n",
       "12  2.799360e+12  1.679616e+14  1.007770e+16  6.046618e+17  \n",
       "13  1.003061e+13  7.222041e+14  5.199870e+16  3.743906e+18  \n",
       "14  2.287679e+13  1.853020e+15  1.500946e+17  1.215767e+19  \n",
       "15  3.205771e+13  2.724905e+15  2.316169e+17  1.968744e+19  "
      ]
     },
     "execution_count": 22,
     "metadata": {},
     "output_type": "execute_result"
    }
   ],
   "source": [
    "poly_df = pd.DataFrame(potion_poly, columns = poly.get_feature_names())\n",
    "poly_df"
   ]
  },
  {
   "cell_type": "code",
   "execution_count": 23,
   "metadata": {},
   "outputs": [
    {
     "data": {
      "text/plain": [
       "'\\nUnivariate Nonlinear Transformation\\n'"
      ]
     },
     "execution_count": 23,
     "metadata": {},
     "output_type": "execute_result"
    }
   ],
   "source": [
    "'''\n",
    "Univariate Nonlinear Transformation\n",
    "'''"
   ]
  },
  {
   "cell_type": "code",
   "execution_count": 24,
   "metadata": {},
   "outputs": [],
   "source": [
    "import numpy as np\n",
    "\n",
    "X_train_log = np.log(data['Potion_Ave'].values + 1)"
   ]
  },
  {
   "cell_type": "code",
   "execution_count": 25,
   "metadata": {},
   "outputs": [
    {
     "data": {
      "text/plain": [
       "array([4.61512052, 4.49980967, 4.48863637, 4.47163879, 4.46014441,\n",
       "       4.44851638, 4.44265126, 4.4308168 , 4.40060302, 4.36309862,\n",
       "       4.2121276 , 4.17438727, 4.11087386, 4.29045944, 4.40671925,\n",
       "       4.4543473 ])"
      ]
     },
     "execution_count": 25,
     "metadata": {},
     "output_type": "execute_result"
    }
   ],
   "source": [
    "X_train_log"
   ]
  },
  {
   "cell_type": "code",
   "execution_count": 26,
   "metadata": {},
   "outputs": [
    {
     "data": {
      "text/plain": [
       "'\\n- Sklearn makes it easy to add new features and increase the dimensionality of the data\\n- Adding more features increases the complexity of models\\n- Increased likelihood of overfitting\\n- focus on the most important features and use a reduced number of features for\\n  simpler models that generalize better\\n  \\n1. Univariate Statistics\\n2. Model Based Selection\\n3. Iterative Selection\\n'"
      ]
     },
     "execution_count": 26,
     "metadata": {},
     "output_type": "execute_result"
    }
   ],
   "source": [
    "'''\n",
    "- Sklearn makes it easy to add new features and increase the dimensionality of the data\n",
    "- Adding more features increases the complexity of models\n",
    "- Increased likelihood of overfitting\n",
    "- focus on the most important features and use a reduced number of features for\n",
    "  simpler models that generalize better\n",
    "  \n",
    "1. Univariate Statistics\n",
    "2. Model Based Selection\n",
    "3. Iterative Selection\n",
    "'''"
   ]
  },
  {
   "cell_type": "code",
   "execution_count": 27,
   "metadata": {},
   "outputs": [
    {
     "data": {
      "text/plain": [
       "'\\nUnivariate: individual realtionship between each feature\\nThe features should be informative independantly\\nPerforms an ANOVA\\n'"
      ]
     },
     "execution_count": 27,
     "metadata": {},
     "output_type": "execute_result"
    }
   ],
   "source": [
    "'''\n",
    "Univariate: individual realtionship between each feature\n",
    "The features should be informative independantly\n",
    "Performs an ANOVA\n",
    "'''"
   ]
  },
  {
   "cell_type": "raw",
   "metadata": {},
   "source": [
    "How many features to select?\n",
    "Two methods:\n",
    "\n",
    "SelectKBest(k = 5): selects a fixed number k of features\n",
    "SelectPercentile (percentile = 50): selects a fixed percentage of features"
   ]
  },
  {
   "cell_type": "code",
   "execution_count": 28,
   "metadata": {},
   "outputs": [],
   "source": [
    "import pandas as pd\n",
    "\n",
    "from sklearn.datasets import fetch_california_housing\n",
    "california = fetch_california_housing()  # Bunch object\n",
    "\n",
    "df = pd.DataFrame(california.data, columns=california.feature_names)\n",
    "df[\"Value\"] = california.target\n",
    "\n",
    "features = df.drop(\"Value\", axis=1)\n",
    "target = df[\"Value\"]"
   ]
  },
  {
   "cell_type": "code",
   "execution_count": 29,
   "metadata": {},
   "outputs": [],
   "source": [
    "from sklearn.linear_model import LinearRegression\n",
    "from sklearn.model_selection import train_test_split\n",
    "from sklearn.metrics import r2_score\n",
    "\n",
    "from sklearn.feature_selection import SelectKBest\n",
    "from sklearn.feature_selection import f_regression\n",
    "\n",
    "#split data into training and testing sets\n",
    "X_train, X_test, y_train, y_test = train_test_split(features, target, random_state=3000)\n",
    "\n",
    "#define a selection method and specify the score function to be f_regression\n",
    "select = SelectKBest(score_func = f_regression, k = 3)\n",
    "select.fit(X_train, y_train)\n",
    "\n",
    "#transform training and testing sets so only the selected features are retained\n",
    "X_train_selected = select.transform(X_train)\n",
    "X_test_selected = select.transform(X_test)"
   ]
  },
  {
   "cell_type": "code",
   "execution_count": 30,
   "metadata": {},
   "outputs": [
    {
     "data": {
      "text/plain": [
       "array([[ 2.7483    ,  4.10650888, 34.09      ],\n",
       "       [ 4.58      ,  6.00986193, 34.27      ],\n",
       "       [ 1.3844    ,  3.45646438, 37.78      ],\n",
       "       ...,\n",
       "       [ 5.299     ,  7.21493213, 34.91      ],\n",
       "       [ 7.0309    ,  5.43678161, 37.41      ],\n",
       "       [ 2.8167    ,  6.08007812, 37.19      ]])"
      ]
     },
     "execution_count": 30,
     "metadata": {},
     "output_type": "execute_result"
    }
   ],
   "source": [
    "X_train_selected"
   ]
  },
  {
   "cell_type": "code",
   "execution_count": 31,
   "metadata": {},
   "outputs": [
    {
     "name": "stdout",
     "output_type": "stream",
     "text": [
      "Original results:\n",
      "\tR-squared value for training set:  0.6095160399631113\n",
      "\tR-squared value for testing set:  0.5954462325232102\n",
      "With selected features:\n",
      "\tR-squared value for training set:  0.4922565671674721\n",
      "\tR-squared value for testing set:  0.45712915487088823\n"
     ]
    }
   ],
   "source": [
    "model = LinearRegression().fit(X=X_train, y=y_train)\n",
    "\n",
    "print(\"Original results:\")\n",
    "print(\"\\tR-squared value for training set: \", r2_score(y_train, model.predict(X_train)))\n",
    "print(\"\\tR-squared value for testing set: \", r2_score(y_test, model.predict(X_test)))\n",
    "\n",
    "\n",
    "model = LinearRegression().fit(X=X_train_selected, y=y_train)\n",
    "\n",
    "print(\"With selected features:\")\n",
    "print(\"\\tR-squared value for training set: \", r2_score(y_train, model.predict(X_train_selected)))\n",
    "print(\"\\tR-squared value for testing set: \", r2_score(y_test, model.predict(X_test_selected)))"
   ]
  },
  {
   "cell_type": "code",
   "execution_count": 32,
   "metadata": {},
   "outputs": [
    {
     "name": "stdout",
     "output_type": "stream",
     "text": [
      "Index(['MedInc', 'HouseAge', 'AveRooms', 'AveBedrms', 'Population', 'AveOccup',\n",
      "       'Latitude', 'Longitude'],\n",
      "      dtype='object')\n"
     ]
    }
   ],
   "source": [
    "print(features.columns)"
   ]
  },
  {
   "cell_type": "code",
   "execution_count": 33,
   "metadata": {},
   "outputs": [
    {
     "data": {
      "text/plain": [
       "array([ True, False,  True, False, False, False,  True, False])"
      ]
     },
     "execution_count": 33,
     "metadata": {},
     "output_type": "execute_result"
    }
   ],
   "source": [
    "#returns a Boolean mask of selected features\n",
    "select.get_support()"
   ]
  },
  {
   "cell_type": "code",
   "execution_count": 34,
   "metadata": {},
   "outputs": [
    {
     "data": {
      "text/plain": [
       "'\\nMODEL BASED SELECTION\\n\\njudge which features are most important\\nuse an importance ranking\\n'"
      ]
     },
     "execution_count": 34,
     "metadata": {},
     "output_type": "execute_result"
    }
   ],
   "source": [
    "'''\n",
    "MODEL BASED SELECTION\n",
    "\n",
    "judge which features are most important\n",
    "use an importance ranking\n",
    "'''"
   ]
  },
  {
   "cell_type": "code",
   "execution_count": 35,
   "metadata": {},
   "outputs": [],
   "source": [
    "from sklearn.feature_selection import SelectFromModel\n",
    "from sklearn.tree import DecisionTreeRegressor\n",
    "\n",
    "select = SelectFromModel(DecisionTreeRegressor(random_state = 3000), threshold = 'median')"
   ]
  },
  {
   "cell_type": "code",
   "execution_count": 36,
   "metadata": {},
   "outputs": [
    {
     "name": "stdout",
     "output_type": "stream",
     "text": [
      "Original results:\n",
      "\tR-squared value for training set:  0.6095160399631113\n",
      "\tR-squared value for testing set:  0.5954462325232102\n",
      "With selected features:\n",
      "\tR-squared value for training set:  0.5874746879530321\n",
      "\tR-squared value for testing set:  0.578093187285585\n"
     ]
    }
   ],
   "source": [
    "from sklearn.model_selection import train_test_split\n",
    "from sklearn.metrics import r2_score\n",
    "\n",
    "select.fit(X_train, y_train)\n",
    "\n",
    "#transform training and testing sets so only the selected features are retained\n",
    "X_train_selected = select.transform(X_train)\n",
    "X_test_selected = select.transform(X_test)\n",
    "\n",
    "model = LinearRegression().fit(X=X_train, y=y_train)\n",
    "\n",
    "print(\"Original results:\")\n",
    "print(\"\\tR-squared value for training set: \", r2_score(y_train, model.predict(X_train)))\n",
    "print(\"\\tR-squared value for testing set: \", r2_score(y_test, model.predict(X_test)))\n",
    "\n",
    "\n",
    "model = LinearRegression().fit(X=X_train_selected, y=y_train)\n",
    "\n",
    "print(\"With selected features:\")\n",
    "print(\"\\tR-squared value for training set: \", r2_score(y_train, model.predict(X_train_selected)))\n",
    "print(\"\\tR-squared value for testing set: \", r2_score(y_test, model.predict(X_test_selected)))"
   ]
  },
  {
   "cell_type": "code",
   "execution_count": 37,
   "metadata": {},
   "outputs": [
    {
     "name": "stdout",
     "output_type": "stream",
     "text": [
      "Index(['MedInc', 'HouseAge', 'AveRooms', 'AveBedrms', 'Population', 'AveOccup',\n",
      "       'Latitude', 'Longitude'],\n",
      "      dtype='object')\n"
     ]
    }
   ],
   "source": [
    "print(features.columns)"
   ]
  },
  {
   "cell_type": "code",
   "execution_count": 38,
   "metadata": {},
   "outputs": [
    {
     "data": {
      "text/plain": [
       "array([ True, False, False, False, False,  True,  True,  True])"
      ]
     },
     "execution_count": 38,
     "metadata": {},
     "output_type": "execute_result"
    }
   ],
   "source": [
    "select.get_support()"
   ]
  },
  {
   "cell_type": "code",
   "execution_count": 39,
   "metadata": {},
   "outputs": [
    {
     "data": {
      "text/plain": [
       "0.06946007914825762"
      ]
     },
     "execution_count": 39,
     "metadata": {},
     "output_type": "execute_result"
    }
   ],
   "source": [
    "# comes from the decision tree algorithm\n",
    "select.threshold_"
   ]
  },
  {
   "cell_type": "code",
   "execution_count": 40,
   "metadata": {},
   "outputs": [
    {
     "data": {
      "text/plain": [
       "array([0.52493621, 0.05335433, 0.04893749, 0.02843023, 0.03178195,\n",
       "       0.13842815, 0.08856581, 0.08556583])"
      ]
     },
     "execution_count": 40,
     "metadata": {},
     "output_type": "execute_result"
    }
   ],
   "source": [
    "#the importance ranking of features\n",
    "select.estimator_.feature_importances_"
   ]
  },
  {
   "cell_type": "code",
   "execution_count": 41,
   "metadata": {},
   "outputs": [
    {
     "data": {
      "text/plain": [
       "\"\\nIterative Feature Selection\\n\\nA series of models are built, with varying numbers of features\\nRecursive Feature Elimination (RFE)\\n\\nStarts with all features, builds a model, and discards the least important feature according to the model\\nThen a new model is built using all but discarded feature, and so on\\nThis is done until only a prespecified number of features are left\\nUse RFE's n_features_to_select parameter to set the number of features to select\\n\\nThe feature selection model needs to provide some measure of importance for each feature\\n\\nso that they can be ranked by this measure\\nComputationally expensive (due to the recursive approach)\\n\""
      ]
     },
     "execution_count": 41,
     "metadata": {},
     "output_type": "execute_result"
    }
   ],
   "source": [
    "'''\n",
    "Iterative Feature Selection\n",
    "\n",
    "A series of models are built, with varying numbers of features\n",
    "Recursive Feature Elimination (RFE)\n",
    "\n",
    "Starts with all features, builds a model, and discards the least important feature according to the model\n",
    "Then a new model is built using all but discarded feature, and so on\n",
    "This is done until only a prespecified number of features are left\n",
    "Use RFE's n_features_to_select parameter to set the number of features to select\n",
    "\n",
    "The feature selection model needs to provide some measure of importance for each feature\n",
    "\n",
    "so that they can be ranked by this measure\n",
    "Computationally expensive (due to the recursive approach)\n",
    "'''"
   ]
  },
  {
   "cell_type": "code",
   "execution_count": 42,
   "metadata": {},
   "outputs": [],
   "source": [
    "from sklearn.feature_selection import RFE\n",
    "from sklearn.tree import DecisionTreeRegressor\n",
    "\n",
    "select = RFE(DecisionTreeRegressor(random_state = 3000), n_features_to_select = 3)"
   ]
  },
  {
   "cell_type": "code",
   "execution_count": 43,
   "metadata": {},
   "outputs": [
    {
     "name": "stdout",
     "output_type": "stream",
     "text": [
      "Original results:\n",
      "\tR-squared value for training set:  0.6095160399631113\n",
      "\tR-squared value for testing set:  0.5954462325232102\n",
      "With selected features:\n",
      "\tR-squared value for training set:  0.5863410269918616\n",
      "\tR-squared value for testing set:  0.5777114692521803\n"
     ]
    }
   ],
   "source": [
    "#fit the RFE selector to the training data\n",
    "select.fit(X_train, y_train)\n",
    "\n",
    "#transform training and testing sets so only the selected features are retained\n",
    "X_train_selected = select.transform(X_train)\n",
    "X_test_selected = select.transform(X_test)\n",
    "\n",
    "model = LinearRegression().fit(X=X_train, y=y_train)\n",
    "\n",
    "print(\"Original results:\")\n",
    "print(\"\\tR-squared value for training set: \", r2_score(y_train, model.predict(X_train)))\n",
    "print(\"\\tR-squared value for testing set: \", r2_score(y_test, model.predict(X_test)))\n",
    "\n",
    "\n",
    "model = LinearRegression().fit(X=X_train_selected, y=y_train)\n",
    "\n",
    "print(\"With selected features:\")\n",
    "print(\"\\tR-squared value for training set: \", r2_score(y_train, model.predict(X_train_selected)))\n",
    "print(\"\\tR-squared value for testing set: \", r2_score(y_test, model.predict(X_test_selected)))"
   ]
  },
  {
   "cell_type": "code",
   "execution_count": 44,
   "metadata": {},
   "outputs": [
    {
     "data": {
      "text/plain": [
       "6793     2.188\n",
       "3521     2.362\n",
       "15743    1.775\n",
       "9759     1.341\n",
       "5800     2.023\n",
       "         ...  \n",
       "14937    2.256\n",
       "1876     1.316\n",
       "17333    2.268\n",
       "18350    4.750\n",
       "9208     0.961\n",
       "Name: Value, Length: 15480, dtype: float64"
      ]
     },
     "execution_count": 44,
     "metadata": {},
     "output_type": "execute_result"
    }
   ],
   "source": [
    "y_train"
   ]
  },
  {
   "cell_type": "code",
   "execution_count": 45,
   "metadata": {},
   "outputs": [
    {
     "name": "stdout",
     "output_type": "stream",
     "text": [
      "Index(['MedInc', 'HouseAge', 'AveRooms', 'AveBedrms', 'Population', 'AveOccup',\n",
      "       'Latitude', 'Longitude'],\n",
      "      dtype='object')\n"
     ]
    }
   ],
   "source": [
    "print(features.columns)"
   ]
  },
  {
   "cell_type": "code",
   "execution_count": 46,
   "metadata": {},
   "outputs": [
    {
     "data": {
      "text/plain": [
       "array([ True, False, False, False, False, False,  True,  True])"
      ]
     },
     "execution_count": 46,
     "metadata": {},
     "output_type": "execute_result"
    }
   ],
   "source": [
    "select.get_support()"
   ]
  }
 ],
 "metadata": {
  "kernelspec": {
   "display_name": "Python 3",
   "language": "python",
   "name": "python3"
  },
  "language_info": {
   "codemirror_mode": {
    "name": "ipython",
    "version": 3
   },
   "file_extension": ".py",
   "mimetype": "text/x-python",
   "name": "python",
   "nbconvert_exporter": "python",
   "pygments_lexer": "ipython3",
   "version": "3.8.3"
  }
 },
 "nbformat": 4,
 "nbformat_minor": 4
}
